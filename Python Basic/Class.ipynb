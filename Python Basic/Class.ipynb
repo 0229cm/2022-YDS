{
 "cells": [
  {
   "cell_type": "markdown",
   "metadata": {
    "id": "NPiUA-9Rzlsr"
   },
   "source": [
    "### 복습\n",
    "#### 자료구조\n",
    "데이터를 효과적으로 관리하려고\n",
    "\n",
    "#### 반복문\n",
    "반복하려고  \n",
    "귀찮아서  \n",
    "내가 힘드니까\n",
    "쓰라고 하니까  \n",
    "\n",
    "#### 함수\n",
    "정리하려고  \n",
    "다음에 다시 쓰려고  \n",
    "남한테 주려고  \n",
    "\n"
   ]
  },
  {
   "cell_type": "markdown",
   "metadata": {
    "id": "KrTn5yv3zljz"
   },
   "source": []
  },
  {
   "cell_type": "markdown",
   "metadata": {
    "id": "WD158gyhy8mh"
   },
   "source": [
    "# 파이썬 클래스\n",
    "최대한(?) 간단히 클래스를 설명해보겠습니다. 기본적인 내용만 설명하기 때문에 파이썬 입문서를 한 권 추가로 읽어 보실 것을 추천드립니다.   "
   ]
  },
  {
   "cell_type": "markdown",
   "metadata": {
    "id": "wJOWFYTgy8mk"
   },
   "source": [
    "## 클래스란?"
   ]
  },
  {
   "cell_type": "markdown",
   "metadata": {
    "id": "khgbfJ9Fy8ml"
   },
   "source": [
    "클래스는 함수와 같은 의도로 코드를 정리하기 위해 사용합니다. 함수 보다 한 발 더 나아가 관련된 함수와 변수를 하나로 묶어서 정리할 수 있습니다. 관련 있는 통계학/경제학/정치학을 사회과학이라는 보다 큰 카테고리로 묶는 것과 같습니다.  \n",
    "<img src=\"https://i.ibb.co/2MgSYz7/class-0.png\" width=\"600\" style=\"float:left\" />"
   ]
  },
  {
   "cell_type": "markdown",
   "metadata": {
    "id": "mSeG_zt81ECv"
   },
   "source": [
    "`클래스말고 함수안에 함수를 넣어서 카테고리화 하는것은 불가능 한가요?`\n"
   ]
  },
  {
   "cell_type": "code",
   "execution_count": 1,
   "metadata": {
    "id": "aMBKvABt1F3m"
   },
   "outputs": [],
   "source": [
    "def f(  ):\n",
    "    def g(  ):\n",
    "        return 3\n",
    "    return g()"
   ]
  },
  {
   "cell_type": "markdown",
   "metadata": {
    "id": "DiwKxB6B1OLk"
   },
   "source": [
    "LEGB"
   ]
  },
  {
   "cell_type": "markdown",
   "metadata": {
    "id": "TRdRL9H9y8ml"
   },
   "source": [
    "클래스는 `class` 키워드로 정의(정리) 할 수 있습니다. 함수와 같은 원리로 정의 자체는 아무런 동작을 수행하지 않습니다. 클래스내에 정의된 함수를 특별히 <b>메서드(method)</b>라고 부릅니다. 이 때 함수의 첫 번째 파라미터로 `self`를 추가해야 합니다. "
   ]
  },
  {
   "cell_type": "code",
   "execution_count": 2,
   "metadata": {
    "id": "dE4o-AMYy8ml"
   },
   "outputs": [],
   "source": [
    "def 통계학 ():\n",
    "    print(\"통계학\")\n",
    "\n",
    "def 경제학 ():\n",
    "    print(\"경제학\")\n",
    "\n",
    "def 정치학 ():\n",
    "    print(\"정치학\")"
   ]
  },
  {
   "cell_type": "code",
   "execution_count": 3,
   "metadata": {
    "executionInfo": {
     "elapsed": 1,
     "status": "ok",
     "timestamp": 1649986283462,
     "user": {
      "displayName": "Jonghun Yoo",
      "userId": "07020854033126503907"
     },
     "user_tz": -540
    },
    "id": "JdBvwkmGy8mm"
   },
   "outputs": [],
   "source": [
    "class 사회과학:\n",
    "    def 통계학 (self):\n",
    "        print(\"통계학\")\n",
    "\n",
    "    def 경제학 (self):\n",
    "        print(\"경제학\")\n",
    "\n",
    "    def 정치학 (self):\n",
    "        print(\"정치학\")"
   ]
  },
  {
   "cell_type": "markdown",
   "metadata": {
    "id": "PFpGk6b3y8mn"
   },
   "source": [
    "정의된 클래스는 이를 호출해서 생성할 수 있습니다. 클래스로 정의하면 사용하는 방법이 조금 달라지는것 뿐입니다."
   ]
  },
  {
   "cell_type": "code",
   "execution_count": 4,
   "metadata": {
    "id": "TdG0JSqZy8mn",
    "outputId": "eb9d39ac-627a-4d79-f93c-d0eca92ceaee"
   },
   "outputs": [
    {
     "name": "stdout",
     "output_type": "stream",
     "text": [
      "<class '__main__.사회과학'>\n"
     ]
    }
   ],
   "source": [
    "변수 = 사회과학()\n",
    "print(type(변수))"
   ]
  },
  {
   "cell_type": "markdown",
   "metadata": {
    "id": "_0fbmIjdy8mo"
   },
   "source": [
    "클래스를 생성한 결과를 인스턴스/오브젝트/객체 라고 부릅니다. 위 코드는 사회과학 클래스를 생성해서 반환된 사회과학 객체를 변수에 바인딩하는 겁니다. 붕어빵처럼 얼마든지 여러개의 객체를 찍어낼 수 있습니다. "
   ]
  },
  {
   "cell_type": "code",
   "execution_count": 5,
   "metadata": {
    "id": "4t8Rbu43y8mp"
   },
   "outputs": [],
   "source": [
    "변수1 = 사회과학()\n",
    "변수2 = 사회과학()"
   ]
  },
  {
   "cell_type": "markdown",
   "metadata": {
    "id": "2lrLzFIHy8mp"
   },
   "source": [
    "메모리에는 다음과 같이 클래스와 객체가 저장됩니다. 우선 설계도인 \"사회과학 클래스\"가 메모리에 저장됩니다. 그리고 `변수1 = 사회과학()` 코드가 실행되면 클래스를 복사해서 객체를 메모리의 새로운 공간에 복사하고 이를 변수 1이 가리킵니다. `변수2 = 사회과학()` 코드가 실행되면 동일한 과정이 반복됩니다. 여기서 중요한 점은 <b> 별도의 메모리에 두 객체가 저장</b>된다는 것입니다. "
   ]
  },
  {
   "cell_type": "markdown",
   "metadata": {
    "id": "4F7R-1K4y8mp"
   },
   "source": [
    "<img src=\"https://i.ibb.co/HDPzP9D/class-1.png\" width=\"400\" style=\"float:left\" />"
   ]
  },
  {
   "cell_type": "markdown",
   "metadata": {
    "id": "hREHWZ7ny8mq"
   },
   "source": [
    "클래스에 정의된 메서드 (함수)는 객체를 통해 호출할 수 있습니다. 위 그림을 참고하면 변수1 객체에는 사회과학 클래스로부터 복사된 세 개의 함수가 정의돼 있습니다. 이를 호출하는 코드는 다음과 같습니다."
   ]
  },
  {
   "cell_type": "code",
   "execution_count": 6,
   "metadata": {
    "id": "FnvJdgcH3eW8"
   },
   "outputs": [],
   "source": [
    "class 사회과학:\n",
    "    def 통계학 (self):\n",
    "        print(\"통계학\")\n",
    "\n",
    "    def 경제학 (self):\n",
    "        print(\"경제학\")\n",
    "\n",
    "    def 정치학 (self):\n",
    "        print(\"정치학\")"
   ]
  },
  {
   "cell_type": "code",
   "execution_count": 7,
   "metadata": {
    "colab": {
     "base_uri": "https://localhost:8080/"
    },
    "executionInfo": {
     "elapsed": 262,
     "status": "ok",
     "timestamp": 1649986792913,
     "user": {
      "displayName": "Jonghun Yoo",
      "userId": "07020854033126503907"
     },
     "user_tz": -540
    },
    "id": "bNKX7tYgy8mq",
    "outputId": "30d230a9-6ab0-403a-8bc9-8bf095f490fc"
   },
   "outputs": [
    {
     "name": "stdout",
     "output_type": "stream",
     "text": [
      "통계학\n",
      "경제학\n",
      "정치학\n"
     ]
    }
   ],
   "source": [
    "변수1 = 사회과학()\n",
    "\n",
    "사회과학.통계학(변수1)\n",
    "사회과학.경제학(변수1)\n",
    "사회과학.정치학(변수1)"
   ]
  },
  {
   "cell_type": "markdown",
   "metadata": {
    "id": "LOnYpxJPy8mq"
   },
   "source": [
    "함수와 동일하게 메서드의 정의에 따라 메서드를 호출하는 방법이 다릅니다. "
   ]
  },
  {
   "cell_type": "code",
   "execution_count": 8,
   "metadata": {
    "executionInfo": {
     "elapsed": 280,
     "status": "ok",
     "timestamp": 1649986912835,
     "user": {
      "displayName": "Jonghun Yoo",
      "userId": "07020854033126503907"
     },
     "user_tz": -540
    },
    "id": "3sbkOsPXy8mr"
   },
   "outputs": [],
   "source": [
    "class 수업시간:\n",
    "    def 예제1(self):\n",
    "        return \"어려워요\"\n",
    "\n",
    "    def 예제2(self, 값):\n",
    "        print(\"입력:\", 값)"
   ]
  },
  {
   "cell_type": "code",
   "execution_count": 9,
   "metadata": {
    "colab": {
     "base_uri": "https://localhost:8080/"
    },
    "executionInfo": {
     "elapsed": 3,
     "status": "ok",
     "timestamp": 1649987001407,
     "user": {
      "displayName": "Jonghun Yoo",
      "userId": "07020854033126503907"
     },
     "user_tz": -540
    },
    "id": "gWz1M5j2y8mr",
    "outputId": "88494171-e5ce-45e5-b4cf-97bb308c3378"
   },
   "outputs": [
    {
     "name": "stdout",
     "output_type": "stream",
     "text": [
      "어려워요\n",
      "입력: 10\n"
     ]
    }
   ],
   "source": [
    "객체 = 수업시간(  )\n",
    "y = 수업시간.예제1(객체)\n",
    "print(y)\n",
    "수업시간.예제2(객체, 10)"
   ]
  },
  {
   "cell_type": "markdown",
   "metadata": {
    "id": "CLugnvpAy8mr"
   },
   "source": [
    "###### 연습 문제 \n",
    "다음의 함수를 \"예의바른학생\"이라는 이름의 클래스로 정리해 봅시다."
   ]
  },
  {
   "cell_type": "code",
   "execution_count": 10,
   "metadata": {
    "id": "JtfS3T5my8mr"
   },
   "outputs": [],
   "source": [
    "def 첫인사(이름):\n",
    "    print(\"안녕하세요\")\n",
    "    print(\"반갑습니다\")\n",
    "    print(f\"내이름은 {이름}!\")\n",
    "    \n",
    "def 작별인사():\n",
    "    print(\"안녕히가세요\")\n",
    "    print(\"다음에 뵙겠습니다\")    "
   ]
  },
  {
   "cell_type": "code",
   "execution_count": 11,
   "metadata": {
    "executionInfo": {
     "elapsed": 297,
     "status": "ok",
     "timestamp": 1649988386509,
     "user": {
      "displayName": "Jonghun Yoo",
      "userId": "07020854033126503907"
     },
     "user_tz": -540
    },
    "id": "jtEOuiXiy8ms"
   },
   "outputs": [],
   "source": [
    "class 예의바른학생:\n",
    "    def 첫인사(self, 이름):\n",
    "        print(\"안녕하세요\")\n",
    "        print(\"반갑습니다\")\n",
    "        print(f\"내이름은 {이름}!\")\n",
    "        print(\"--\")\n",
    "        \n",
    "    def 작별인사(self):\n",
    "        print(\"안녕히가세요\")\n",
    "        print(\"다음에 뵙겠습니다\")    "
   ]
  },
  {
   "cell_type": "code",
   "execution_count": 12,
   "metadata": {
    "colab": {
     "base_uri": "https://localhost:8080/"
    },
    "executionInfo": {
     "elapsed": 300,
     "status": "ok",
     "timestamp": 1649988787951,
     "user": {
      "displayName": "Jonghun Yoo",
      "userId": "07020854033126503907"
     },
     "user_tz": -540
    },
    "id": "6eAd9jJO_hus",
    "outputId": "63a51131-1597-440a-8df8-a2dec9955f30"
   },
   "outputs": [
    {
     "name": "stdout",
     "output_type": "stream",
     "text": [
      "안녕하세요\n",
      "반갑습니다\n",
      "내이름은 무지!\n",
      "--\n",
      "안녕하세요\n",
      "반갑습니다\n",
      "내이름은 어피치!\n",
      "--\n"
     ]
    }
   ],
   "source": [
    "예의바른학생.첫인사(객체, \"무지\")\n",
    "예의바른학생.첫인사(객체, \"어피치\")"
   ]
  },
  {
   "cell_type": "markdown",
   "metadata": {
    "id": "if5-zTFAy8ms"
   },
   "source": [
    "예의바른학생에 정의된 `첫인사`, `작별인사` 메서드를 호출하라."
   ]
  },
  {
   "cell_type": "code",
   "execution_count": 13,
   "metadata": {
    "colab": {
     "base_uri": "https://localhost:8080/"
    },
    "executionInfo": {
     "elapsed": 253,
     "status": "ok",
     "timestamp": 1649987157002,
     "user": {
      "displayName": "Jonghun Yoo",
      "userId": "07020854033126503907"
     },
     "user_tz": -540
    },
    "id": "ysuwzuIuy8ms",
    "outputId": "add65f67-a851-4d9e-e520-14c484caa33b"
   },
   "outputs": [
    {
     "name": "stdout",
     "output_type": "stream",
     "text": [
      "안녕하세요\n",
      "반갑습니다\n",
      "내이름은 무지!\n",
      "--\n"
     ]
    }
   ],
   "source": [
    "객체 = 예의바른학생(   )\n",
    "예의바른학생.첫인사( 객체,  \"무지\")"
   ]
  },
  {
   "cell_type": "code",
   "execution_count": 14,
   "metadata": {
    "colab": {
     "base_uri": "https://localhost:8080/"
    },
    "executionInfo": {
     "elapsed": 274,
     "status": "ok",
     "timestamp": 1649987191469,
     "user": {
      "displayName": "Jonghun Yoo",
      "userId": "07020854033126503907"
     },
     "user_tz": -540
    },
    "id": "NisR5PBV5ioF",
    "outputId": "1bb4d619-19b8-47b8-befb-3ef694c0994a"
   },
   "outputs": [
    {
     "name": "stdout",
     "output_type": "stream",
     "text": [
      "안녕히가세요\n",
      "다음에 뵙겠습니다\n"
     ]
    }
   ],
   "source": [
    "예의바른학생.작별인사( 객체 )"
   ]
  },
  {
   "cell_type": "code",
   "execution_count": 15,
   "metadata": {
    "colab": {
     "base_uri": "https://localhost:8080/"
    },
    "executionInfo": {
     "elapsed": 262,
     "status": "ok",
     "timestamp": 1649987274195,
     "user": {
      "displayName": "Jonghun Yoo",
      "userId": "07020854033126503907"
     },
     "user_tz": -540
    },
    "id": "XmT1b4YJ5xTm",
    "outputId": "d8e7451d-af2b-4d33-de18-c37789d74b9a"
   },
   "outputs": [
    {
     "name": "stdout",
     "output_type": "stream",
     "text": [
      "안녕하세요\n",
      "반갑습니다\n",
      "내이름은 무지!\n",
      "--\n",
      "안녕히가세요\n",
      "다음에 뵙겠습니다\n"
     ]
    }
   ],
   "source": [
    "# 첫 인사와 작별인사 사이에 \\n 넣고싶으면 어디에 넣어야하나요?\n",
    "\n",
    "객체 = 예의바른학생(   )\n",
    "예의바른학생.첫인사( 객체,  \"무지\")\n",
    "\n",
    "예의바른학생.작별인사( 객체 )"
   ]
  },
  {
   "cell_type": "code",
   "execution_count": 16,
   "metadata": {
    "colab": {
     "base_uri": "https://localhost:8080/"
    },
    "executionInfo": {
     "elapsed": 270,
     "status": "ok",
     "timestamp": 1649987428226,
     "user": {
      "displayName": "Jonghun Yoo",
      "userId": "07020854033126503907"
     },
     "user_tz": -540
    },
    "id": "xOVANO_E6AY0",
    "outputId": "47c511c9-7c58-4f0c-c344-384a9b93ad0c"
   },
   "outputs": [
    {
     "name": "stdout",
     "output_type": "stream",
     "text": [
      "안녕하세요\n",
      "반갑습니다\n",
      "내이름은 무지!\n",
      "--\n",
      "안녕히가세요\n",
      "다음에 뵙겠습니다\n"
     ]
    }
   ],
   "source": [
    "# 예의바른학생.첫인사( 객체,  \"무지\")\n",
    "객체.첫인사(\"무지\")\n",
    "\n",
    "# 예의바른학생.작별인사( 객체 )\n",
    "객체.작별인사( )"
   ]
  },
  {
   "cell_type": "code",
   "execution_count": 17,
   "metadata": {
    "colab": {
     "base_uri": "https://localhost:8080/"
    },
    "executionInfo": {
     "elapsed": 268,
     "status": "ok",
     "timestamp": 1649987528272,
     "user": {
      "displayName": "Jonghun Yoo",
      "userId": "07020854033126503907"
     },
     "user_tz": -540
    },
    "id": "QDNKGfpc6pR1",
    "outputId": "3cc426cf-c85d-471f-ffbd-0b29d3c5ec39"
   },
   "outputs": [
    {
     "name": "stdout",
     "output_type": "stream",
     "text": [
      "두두두두두두두\n"
     ]
    }
   ],
   "source": [
    "class 마린:\n",
    "    def 공격하기(self):\n",
    "        print(\"두두두두두두두\")\n",
    "\n",
    "m = 마린(  )\n",
    "m.공격하기(  )\n",
    "# 마린.공격하기(m)"
   ]
  },
  {
   "cell_type": "markdown",
   "metadata": {
    "id": "RDkW8OPP7V6p"
   },
   "source": [
    "`클래스1에 있는 f(x)랑 클래스2에 있는 f(x)랑 이름이 똑같아도 클래스1.f(x) 랑 클래스2.f(x)로 구분되어지나요..?`\n"
   ]
  },
  {
   "cell_type": "code",
   "execution_count": 18,
   "metadata": {
    "executionInfo": {
     "elapsed": 2,
     "status": "ok",
     "timestamp": 1649987842595,
     "user": {
      "displayName": "Jonghun Yoo",
      "userId": "07020854033126503907"
     },
     "user_tz": -540
    },
    "id": "3PzvmfrO7eAU"
   },
   "outputs": [],
   "source": [
    "class A:\n",
    "    def run(self):\n",
    "        print(\"a\")\n",
    "\n",
    "class B:\n",
    "    def run(self):\n",
    "        print(\"b\")\n",
    "\n",
    "변수1 = A()\n",
    "변수2 = B()\n",
    "변수3 = A()"
   ]
  },
  {
   "cell_type": "code",
   "execution_count": 19,
   "metadata": {
    "colab": {
     "base_uri": "https://localhost:8080/"
    },
    "executionInfo": {
     "elapsed": 5,
     "status": "ok",
     "timestamp": 1649987781231,
     "user": {
      "displayName": "Jonghun Yoo",
      "userId": "07020854033126503907"
     },
     "user_tz": -540
    },
    "id": "l798k8vZ729E",
    "outputId": "7b808c5c-0abf-4ef9-d5ff-ede213e3ebb0"
   },
   "outputs": [
    {
     "data": {
      "text/plain": [
       "__main__.A"
      ]
     },
     "execution_count": 19,
     "metadata": {},
     "output_type": "execute_result"
    }
   ],
   "source": [
    "type(변수1)"
   ]
  },
  {
   "cell_type": "code",
   "execution_count": 20,
   "metadata": {
    "colab": {
     "base_uri": "https://localhost:8080/"
    },
    "executionInfo": {
     "elapsed": 3,
     "status": "ok",
     "timestamp": 1649987816964,
     "user": {
      "displayName": "Jonghun Yoo",
      "userId": "07020854033126503907"
     },
     "user_tz": -540
    },
    "id": "KHOnAZSt772Z",
    "outputId": "8b3ae9da-5efb-4ef0-9909-0f4605a80b6b"
   },
   "outputs": [
    {
     "name": "stdout",
     "output_type": "stream",
     "text": [
      "b\n"
     ]
    }
   ],
   "source": [
    "변수2.run()"
   ]
  },
  {
   "cell_type": "markdown",
   "metadata": {
    "id": "ZYZpI1_Yy8ms"
   },
   "source": [
    "## self의 이해"
   ]
  },
  {
   "cell_type": "markdown",
   "metadata": {
    "id": "4Tta6Utay8ms"
   },
   "source": [
    "메서드에 추가하는 첫 번째 파라미터의 이름입니다. 변수처럼 `self` 대신 다른 이름을 넣어도 정상 동작합니다. "
   ]
  },
  {
   "cell_type": "code",
   "execution_count": 21,
   "metadata": {
    "id": "qqFEPyvFy8ms",
    "outputId": "4cda379e-a7e4-4feb-8239-a0831b509ad0"
   },
   "outputs": [
    {
     "name": "stdout",
     "output_type": "stream",
     "text": [
      "통계학\n"
     ]
    }
   ],
   "source": [
    "class 사회과학:\n",
    "    def 통계학 (ㅇㅇㅇ):\n",
    "        print(\"통계학\")\n",
    "        \n",
    "객체 = 사회과학()\n",
    "사회과학.통계학(객체)"
   ]
  },
  {
   "cell_type": "markdown",
   "metadata": {
    "id": "Be5CzZQty8mt"
   },
   "source": [
    "하지만 관습적으로 `self`라는 키워드를 사용합니다. 함수의 정의만 보고 클래스 안의 함수인 것을 알아챌 수 있도록 우리도 `self`를 사용하는 것이죠."
   ]
  },
  {
   "cell_type": "markdown",
   "metadata": {
    "id": "O6nMCHRRy8mt"
   },
   "source": [
    "파이썬은 클래스에 정의된 메서드를 `객체.메서드()` 형태로 쉽게 사용할 수 있는 편의 기능을 제공합니다. "
   ]
  },
  {
   "cell_type": "code",
   "execution_count": 22,
   "metadata": {
    "id": "apn93di6y8mt",
    "outputId": "46853098-a89c-4100-90ea-4e3c96d01ab1"
   },
   "outputs": [
    {
     "name": "stdout",
     "output_type": "stream",
     "text": [
      "통계학\n"
     ]
    }
   ],
   "source": [
    "객체 = 사회과학()\n",
    "객체.통계학()    # 사회과학.통계학(객체)와 동일한 동작"
   ]
  },
  {
   "cell_type": "markdown",
   "metadata": {
    "id": "oanr_9S9y8mt"
   },
   "source": [
    "객체는 일반적으로 메모리를 가리키는 `변수`와 함께 `.` 그리고 `메서드 이름`을 나열합니다.   \n",
    "- `객체.메서드명()`"
   ]
  },
  {
   "cell_type": "markdown",
   "metadata": {
    "id": "KvpUhzD1y8mt"
   },
   "source": [
    "###### 연습 문제\n",
    "`예의바른학생` 클래스를 메서드 편의 기능을 활용해서 간단히 <span style=\"color:red\">호출</span>하라."
   ]
  },
  {
   "cell_type": "code",
   "execution_count": 23,
   "metadata": {
    "colab": {
     "base_uri": "https://localhost:8080/"
    },
    "executionInfo": {
     "elapsed": 2,
     "status": "ok",
     "timestamp": 1649988209676,
     "user": {
      "displayName": "Jonghun Yoo",
      "userId": "07020854033126503907"
     },
     "user_tz": -540
    },
    "id": "p8-LNjX0y8mt",
    "outputId": "db3fd9d9-38e2-4b64-9a46-891badff4565"
   },
   "outputs": [
    {
     "name": "stdout",
     "output_type": "stream",
     "text": [
      "안녕하세요\n",
      "반갑습니다\n",
      "내이름은 무지!\n",
      "--\n",
      "안녕히가세요\n",
      "다음에 뵙겠습니다\n"
     ]
    }
   ],
   "source": [
    "객체 = 예의바른학생()\n",
    "# 예의바른학생.첫인사( 객체,  \"무지\")\n",
    "객체.첫인사(\"무지\")\n",
    "\n",
    "# 예의바른학생.작별인사( 객체 )\n",
    "객체.작별인사( )"
   ]
  },
  {
   "cell_type": "code",
   "execution_count": 24,
   "metadata": {
    "colab": {
     "base_uri": "https://localhost:8080/"
    },
    "executionInfo": {
     "elapsed": 2,
     "status": "ok",
     "timestamp": 1649988337422,
     "user": {
      "displayName": "Jonghun Yoo",
      "userId": "07020854033126503907"
     },
     "user_tz": -540
    },
    "id": "GdKWdHLw9_Eh",
    "outputId": "3d40738f-b13f-430e-fc0c-a1131bceb124"
   },
   "outputs": [
    {
     "name": "stdout",
     "output_type": "stream",
     "text": [
      "안녕하세요\n",
      "반갑습니다\n",
      "내이름은 무지!\n",
      "--\n",
      "안녕히가세요\n",
      "다음에 뵙겠습니다\n"
     ]
    }
   ],
   "source": [
    "객체 = 예의바른학생()\n",
    "객체.첫인사('무지')\n",
    "\n",
    "객체.작별인사()"
   ]
  },
  {
   "cell_type": "code",
   "execution_count": 25,
   "metadata": {
    "colab": {
     "base_uri": "https://localhost:8080/"
    },
    "executionInfo": {
     "elapsed": 275,
     "status": "ok",
     "timestamp": 1649988065551,
     "user": {
      "displayName": "Jonghun Yoo",
      "userId": "07020854033126503907"
     },
     "user_tz": -540
    },
    "id": "Z3X-ozWj818Q",
    "outputId": "e850a996-fbd6-45ad-c88a-4dc3d1556553"
   },
   "outputs": [
    {
     "data": {
      "text/plain": [
       "__main__.A"
      ]
     },
     "execution_count": 25,
     "metadata": {},
     "output_type": "execute_result"
    }
   ],
   "source": [
    "# 질문 : 아까 type에 __main__ 혹시 한번만 더 설명해주실수 있나요?\n",
    "변수1 = A()\n",
    "type(변수1)"
   ]
  },
  {
   "cell_type": "code",
   "execution_count": 26,
   "metadata": {
    "colab": {
     "base_uri": "https://localhost:8080/",
     "height": 35
    },
    "executionInfo": {
     "elapsed": 288,
     "status": "ok",
     "timestamp": 1649988092756,
     "user": {
      "displayName": "Jonghun Yoo",
      "userId": "07020854033126503907"
     },
     "user_tz": -540
    },
    "id": "DLXDyVoW9CuV",
    "outputId": "547df83d-4b2d-4506-eded-0767cbc29b6f"
   },
   "outputs": [
    {
     "data": {
      "text/plain": [
       "'__main__'"
      ]
     },
     "execution_count": 26,
     "metadata": {},
     "output_type": "execute_result"
    }
   ],
   "source": [
    "__name__"
   ]
  },
  {
   "cell_type": "code",
   "execution_count": 27,
   "metadata": {
    "colab": {
     "base_uri": "https://localhost:8080/"
    },
    "executionInfo": {
     "elapsed": 3,
     "status": "ok",
     "timestamp": 1649988969921,
     "user": {
      "displayName": "Jonghun Yoo",
      "userId": "07020854033126503907"
     },
     "user_tz": -540
    },
    "id": "SdjZYstHAO40",
    "outputId": "2f4ce706-b523-45d5-f674-197f193f77ab"
   },
   "outputs": [
    {
     "name": "stdout",
     "output_type": "stream",
     "text": [
      "<class 'numpy.ndarray'>\n"
     ]
    },
    {
     "data": {
      "text/plain": [
       "True"
      ]
     },
     "execution_count": 27,
     "metadata": {},
     "output_type": "execute_result"
    }
   ],
   "source": [
    "import numpy as np\n",
    "\n",
    "a = np.array( [10, 20])\n",
    "print(type(a))\n",
    "a.all()\n",
    "# numpy.ndarray.all(a)"
   ]
  },
  {
   "cell_type": "code",
   "execution_count": 28,
   "metadata": {
    "colab": {
     "base_uri": "https://localhost:8080/"
    },
    "executionInfo": {
     "elapsed": 5,
     "status": "ok",
     "timestamp": 1649989086370,
     "user": {
      "displayName": "Jonghun Yoo",
      "userId": "07020854033126503907"
     },
     "user_tz": -540
    },
    "id": "euRWmoTQAs70",
    "outputId": "07aceacc-bbff-443c-ff56-2b0046837448"
   },
   "outputs": [
    {
     "name": "stdout",
     "output_type": "stream",
     "text": [
      "<class 'pandas.core.frame.DataFrame'>\n"
     ]
    },
    {
     "ename": "TypeError",
     "evalue": "combine() missing 2 required positional arguments: 'other' and 'func'",
     "output_type": "error",
     "traceback": [
      "\u001b[1;31m---------------------------------------------------------------------------\u001b[0m",
      "\u001b[1;31mTypeError\u001b[0m                                 Traceback (most recent call last)",
      "\u001b[1;32m<ipython-input-28-699a3ebc947f>\u001b[0m in \u001b[0;36m<module>\u001b[1;34m\u001b[0m\n\u001b[0;32m      4\u001b[0m \u001b[0mprint\u001b[0m\u001b[1;33m(\u001b[0m\u001b[0mtype\u001b[0m\u001b[1;33m(\u001b[0m\u001b[0mdf\u001b[0m\u001b[1;33m)\u001b[0m\u001b[1;33m)\u001b[0m\u001b[1;33m\u001b[0m\u001b[1;33m\u001b[0m\u001b[0m\n\u001b[0;32m      5\u001b[0m \u001b[1;33m\u001b[0m\u001b[0m\n\u001b[1;32m----> 6\u001b[1;33m \u001b[0mdf\u001b[0m\u001b[1;33m.\u001b[0m\u001b[0mcombine\u001b[0m\u001b[1;33m(\u001b[0m\u001b[1;33m)\u001b[0m\u001b[1;33m\u001b[0m\u001b[1;33m\u001b[0m\u001b[0m\n\u001b[0m",
      "\u001b[1;31mTypeError\u001b[0m: combine() missing 2 required positional arguments: 'other' and 'func'"
     ]
    }
   ],
   "source": [
    "import pandas as pd\n",
    "\n",
    "df = pd.DataFrame()\n",
    "print(type(df))\n",
    "\n",
    "df.combine()"
   ]
  },
  {
   "cell_type": "markdown",
   "metadata": {
    "id": "DGBdiHc9Ba9x"
   },
   "source": [
    "그럼 그 클래스의 메소드가 어떤건지 알고 있으면 맘대로 갖다쓸 수 있는거네요  \n",
    "\n",
    "`네`"
   ]
  },
  {
   "cell_type": "markdown",
   "metadata": {
    "id": "1ENnyP9RCAVR"
   },
   "source": [
    "`모듈 = 알집, 클래스 = 폴더, 함수 = 파일, 데이터 = 파일에 적힌 글들 정도로 생각해도 되나요`\n",
    "\n",
    "알집이 애매합니다\n"
   ]
  },
  {
   "cell_type": "markdown",
   "metadata": {
    "id": "mPosTzb7y8mu"
   },
   "source": [
    "## 인스턴스 변수"
   ]
  },
  {
   "cell_type": "markdown",
   "metadata": {
    "id": "M_gRvvgTy8mu"
   },
   "source": [
    "함수의 지역변수는 함수의 호출 종료와 함께 제거됩니다. "
   ]
  },
  {
   "cell_type": "code",
   "execution_count": 29,
   "metadata": {
    "id": "2Iy2qgFJy8mu"
   },
   "outputs": [
    {
     "ename": "NameError",
     "evalue": "name '이름' is not defined",
     "output_type": "error",
     "traceback": [
      "\u001b[1;31m---------------------------------------------------------------------------\u001b[0m",
      "\u001b[1;31mNameError\u001b[0m                                 Traceback (most recent call last)",
      "\u001b[1;32m<ipython-input-29-b70dcf110eff>\u001b[0m in \u001b[0;36m<module>\u001b[1;34m\u001b[0m\n\u001b[0;32m      6\u001b[0m \u001b[1;33m\u001b[0m\u001b[0m\n\u001b[0;32m      7\u001b[0m \u001b[0m이름입력\u001b[0m\u001b[1;33m(\u001b[0m\u001b[1;34m\"서창민\"\u001b[0m\u001b[1;33m)\u001b[0m\u001b[1;33m\u001b[0m\u001b[1;33m\u001b[0m\u001b[0m\n\u001b[1;32m----> 8\u001b[1;33m \u001b[0m출력하기\u001b[0m\u001b[1;33m(\u001b[0m\u001b[1;33m)\u001b[0m\u001b[1;33m\u001b[0m\u001b[1;33m\u001b[0m\u001b[0m\n\u001b[0m",
      "\u001b[1;32m<ipython-input-29-b70dcf110eff>\u001b[0m in \u001b[0;36m출력하기\u001b[1;34m()\u001b[0m\n\u001b[0;32m      3\u001b[0m \u001b[1;33m\u001b[0m\u001b[0m\n\u001b[0;32m      4\u001b[0m \u001b[1;32mdef\u001b[0m \u001b[0m출력하기\u001b[0m\u001b[1;33m(\u001b[0m\u001b[1;33m)\u001b[0m\u001b[1;33m:\u001b[0m\u001b[1;33m\u001b[0m\u001b[1;33m\u001b[0m\u001b[0m\n\u001b[1;32m----> 5\u001b[1;33m     \u001b[0mprint\u001b[0m\u001b[1;33m(\u001b[0m\u001b[0m이름\u001b[0m\u001b[1;33m)\u001b[0m\u001b[1;33m\u001b[0m\u001b[1;33m\u001b[0m\u001b[0m\n\u001b[0m\u001b[0;32m      6\u001b[0m \u001b[1;33m\u001b[0m\u001b[0m\n\u001b[0;32m      7\u001b[0m \u001b[0m이름입력\u001b[0m\u001b[1;33m(\u001b[0m\u001b[1;34m\"서창민\"\u001b[0m\u001b[1;33m)\u001b[0m\u001b[1;33m\u001b[0m\u001b[1;33m\u001b[0m\u001b[0m\n",
      "\u001b[1;31mNameError\u001b[0m: name '이름' is not defined"
     ]
    }
   ],
   "source": [
    "def 이름입력(name):\n",
    "    이름 = name\n",
    "    \n",
    "def 출력하기():\n",
    "    print(이름)\n",
    "    \n",
    "이름입력(\"서창민\")\n",
    "출력하기()"
   ]
  },
  {
   "cell_type": "markdown",
   "metadata": {
    "id": "u0w8zraiy8mu"
   },
   "source": [
    "인스턴스의 함수 간에는 변수(값)을 공유할 수 있습니다. `self` 변수라고도 불리는데 `self.변수`와 같은 형태로 작성하면 일반 변수와 달리 그 값이 함수의 종료 이후에도 유지됩니다. "
   ]
  },
  {
   "cell_type": "code",
   "execution_count": 30,
   "metadata": {
    "colab": {
     "base_uri": "https://localhost:8080/"
    },
    "executionInfo": {
     "elapsed": 304,
     "status": "ok",
     "timestamp": 1649990215046,
     "user": {
      "displayName": "Jonghun Yoo",
      "userId": "07020854033126503907"
     },
     "user_tz": -540
    },
    "id": "-ak4qpQly8mu",
    "outputId": "c0c3fc06-8550-4e7d-d3f2-76cc07c858fa"
   },
   "outputs": [
    {
     "name": "stdout",
     "output_type": "stream",
     "text": [
      "서창민\n",
      "서창민\n"
     ]
    }
   ],
   "source": [
    "class 사람:\n",
    "    def 이름입력 (self, 이름):\n",
    "        self.이름 = 이름\n",
    "\n",
    "    def 출력하기 (self):\n",
    "        print(self.이름)\n",
    "\n",
    "첫째 = 사람()\n",
    "첫째.이름입력(\"서창민\")\n",
    "print(첫째.이름)\n",
    "첫째.출력하기()"
   ]
  },
  {
   "cell_type": "markdown",
   "metadata": {
    "id": "RyQ1mMZ7y8mu"
   },
   "source": [
    "출력하기 메서드 안에서 `self.이름`은 `이름입력` 함수에서 저장한 값입니다. 클래스에서는 `self.이름`과 `이름` 두 가지는 변수명이 비슷하지만 전혀 특성이 다른 변수입니다. 만약 일반 변수 (self가 없는)에 값을 저장했다면 `이름입력` 함수가 종료되면서 제거되기 때문에, 출력하기에서 변수를 사용할 수 없습니다. "
   ]
  },
  {
   "cell_type": "code",
   "execution_count": 31,
   "metadata": {
    "id": "SkFZhda4y8mu"
   },
   "outputs": [
    {
     "ename": "NameError",
     "evalue": "name '너의이름은' is not defined",
     "output_type": "error",
     "traceback": [
      "\u001b[1;31m---------------------------------------------------------------------------\u001b[0m",
      "\u001b[1;31mNameError\u001b[0m                                 Traceback (most recent call last)",
      "\u001b[1;32m<ipython-input-31-daa519abf530>\u001b[0m in \u001b[0;36m<module>\u001b[1;34m\u001b[0m\n\u001b[0;32m      8\u001b[0m \u001b[0m첫째\u001b[0m \u001b[1;33m=\u001b[0m \u001b[0m사람\u001b[0m\u001b[1;33m(\u001b[0m\u001b[1;33m)\u001b[0m\u001b[1;33m\u001b[0m\u001b[1;33m\u001b[0m\u001b[0m\n\u001b[0;32m      9\u001b[0m \u001b[0m첫째\u001b[0m\u001b[1;33m.\u001b[0m\u001b[0m이름입력\u001b[0m\u001b[1;33m(\u001b[0m\u001b[1;34m\"서창민\"\u001b[0m\u001b[1;33m)\u001b[0m\u001b[1;33m\u001b[0m\u001b[1;33m\u001b[0m\u001b[0m\n\u001b[1;32m---> 10\u001b[1;33m \u001b[0m첫째\u001b[0m\u001b[1;33m.\u001b[0m\u001b[0m출력하기\u001b[0m\u001b[1;33m(\u001b[0m\u001b[1;33m)\u001b[0m\u001b[1;33m\u001b[0m\u001b[1;33m\u001b[0m\u001b[0m\n\u001b[0m",
      "\u001b[1;32m<ipython-input-31-daa519abf530>\u001b[0m in \u001b[0;36m출력하기\u001b[1;34m(self)\u001b[0m\n\u001b[0;32m      4\u001b[0m \u001b[1;33m\u001b[0m\u001b[0m\n\u001b[0;32m      5\u001b[0m     \u001b[1;32mdef\u001b[0m \u001b[0m출력하기\u001b[0m \u001b[1;33m(\u001b[0m\u001b[0mself\u001b[0m\u001b[1;33m)\u001b[0m\u001b[1;33m:\u001b[0m\u001b[1;33m\u001b[0m\u001b[1;33m\u001b[0m\u001b[0m\n\u001b[1;32m----> 6\u001b[1;33m         \u001b[0mprint\u001b[0m\u001b[1;33m(\u001b[0m\u001b[0m너의이름은\u001b[0m\u001b[1;33m)\u001b[0m\u001b[1;33m\u001b[0m\u001b[1;33m\u001b[0m\u001b[0m\n\u001b[0m\u001b[0;32m      7\u001b[0m \u001b[1;33m\u001b[0m\u001b[0m\n\u001b[0;32m      8\u001b[0m \u001b[0m첫째\u001b[0m \u001b[1;33m=\u001b[0m \u001b[0m사람\u001b[0m\u001b[1;33m(\u001b[0m\u001b[1;33m)\u001b[0m\u001b[1;33m\u001b[0m\u001b[1;33m\u001b[0m\u001b[0m\n",
      "\u001b[1;31mNameError\u001b[0m: name '너의이름은' is not defined"
     ]
    }
   ],
   "source": [
    "class 사람:\n",
    "    def 이름입력 (self, 이름):\n",
    "        너의이름은 = 이름\n",
    "\n",
    "    def 출력하기 (self):\n",
    "        print(너의이름은)\n",
    "\n",
    "첫째 = 사람()\n",
    "첫째.이름입력(\"서창민\")\n",
    "첫째.출력하기()"
   ]
  },
  {
   "cell_type": "markdown",
   "metadata": {
    "id": "qQF3bY2Iy8mv"
   },
   "source": [
    "그림과 함께 이해해 봅시다.   \n",
    "- 사람 객체를 생성하면 메모리 어딘가에 저장되고 첫재라는 이름표를 붙입니다. 첫째 안에는 이름하기(), 출력하기() 메서드가 복사됩니다. \n",
    "- `이름입력` 메서드를 호출하면 내부적으로 `self.이름` 변수에 `서창민`이 저장됩니다. 인스턴스 변수를 사용하면 첫째가 저장된 메모리 공간에  이름을 추가적으로 저장합니다. \n",
    "- `출력하기` 메서드를 호출하면 `self.이름`을 가져와서 화면에 출력합니다. 이때 `self`는 메서드가 포함된 객체를 의미하여, `self.이름`은 현재 첫째의 메모리안에 있는 이름이라는 변수를 가리킵니다."
   ]
  },
  {
   "cell_type": "markdown",
   "metadata": {
    "id": "a2HYLlWPy8mv"
   },
   "source": [
    "<img src=\"https://i.ibb.co/SsjQHdd/class-2.png\" width=\"700\" style=\"float:left\" />"
   ]
  },
  {
   "cell_type": "markdown",
   "metadata": {
    "id": "7wMdgdi5y8mv"
   },
   "source": [
    "인스턴스에 저장된 변수는 객체를 사용해서도 가져올 수 있습니다. 첫째 객체 안에 있는 이름이라는 변수에 저장된 값을 가져오니 \"서창민\" 이라는 문자열이 출력됩니다. "
   ]
  },
  {
   "cell_type": "code",
   "execution_count": 32,
   "metadata": {
    "id": "apaUllaJy8mv"
   },
   "outputs": [],
   "source": [
    "class 사람:\n",
    "    def 이름입력 (self, 이름):\n",
    "        self.이름 = 이름\n",
    "\n",
    "    def 출력하기 (self):\n",
    "        print(self.이름)\n",
    "\n",
    "첫째 = 사람()\n",
    "첫째.이름입력(\"서창민\")"
   ]
  },
  {
   "cell_type": "code",
   "execution_count": 33,
   "metadata": {
    "id": "abcdJrJby8mv",
    "outputId": "f00c8676-edf9-4314-9107-2c86de0c5ff2"
   },
   "outputs": [
    {
     "name": "stdout",
     "output_type": "stream",
     "text": [
      "서창민\n"
     ]
    }
   ],
   "source": [
    "print(첫째.이름)"
   ]
  },
  {
   "cell_type": "markdown",
   "metadata": {
    "id": "xorokudNy8mv"
   },
   "source": [
    "객체의 외부에서 값을 저장 및 변경할 수 있습니다. "
   ]
  },
  {
   "cell_type": "code",
   "execution_count": 34,
   "metadata": {
    "id": "Pi0TML6wy8mv"
   },
   "outputs": [
    {
     "name": "stdout",
     "output_type": "stream",
     "text": [
      "서창민\n",
      "철수\n"
     ]
    }
   ],
   "source": [
    "print(첫째.이름)\n",
    "첫째.이름 = \"철수\"\n",
    "print(첫째.이름)"
   ]
  },
  {
   "cell_type": "markdown",
   "metadata": {
    "id": "2py0IFzBy8mw"
   },
   "source": [
    "객체는 붕어빵찍듯이 여러 개를 생성할 수있습니다. 코드를 정리해서 재사용성을 높이기 위해서 함수와 클래스를 사용한다고 했었죠? 여기에서 클래스의 장점을 확인할 수 있습니다. "
   ]
  },
  {
   "cell_type": "code",
   "execution_count": 35,
   "metadata": {
    "id": "TS7Tv2S6y8mw"
   },
   "outputs": [
    {
     "name": "stdout",
     "output_type": "stream",
     "text": [
      "서창민\n",
      "유정현\n"
     ]
    }
   ],
   "source": [
    "첫째 = 사람()\n",
    "첫째.이름입력(\"서창민\")\n",
    "print(첫째.이름)\n",
    "\n",
    "둘째 = 사람()\n",
    "둘째.이름입력(\"유정현\")\n",
    "둘째.출력하기()\n",
    "\n",
    "첫째 = 사람()"
   ]
  },
  {
   "cell_type": "markdown",
   "metadata": {
    "id": "INdlJCNLy8mw"
   },
   "source": [
    "메모리에서 이를 표현해 봅시다. 첫째와 둘째는 각각 독립적인 공간에 생성이되고 이를 각각의 변수가 가리킵니다. 첫째와 둘째 각각에 `이름입력`, `출력하기` 메서드가 복사됩니다. `이름입력` 메서드를 호출할 때 전달한 파라미터 값이 인스턴스가 저장된 공간에 저장됩니다. 중요한 점은 인턴스 간에는 서로 영향을 받지 않는다는 것입니다. "
   ]
  },
  {
   "cell_type": "markdown",
   "metadata": {
    "id": "kN-aQDOQy8mw"
   },
   "source": [
    "<img src=\"https://i.ibb.co/thvWjLv/class-3.png\" width=\"300\" style=\"float:left\" />"
   ]
  },
  {
   "cell_type": "markdown",
   "metadata": {
    "id": "JAUsoeINLXs1"
   },
   "source": [
    "`x=[] 정의 뒤 → 함수를 실행 → 함수 내에서 x.append(10)을 하면 → 함수가 종료된 후에도 x=[10] 이 되는 것이 마찬가지 append가  매서드 라는 건가요?`  \n",
    "\n",
    "`네`\n"
   ]
  },
  {
   "cell_type": "markdown",
   "metadata": {
    "id": "U2kKhwbBMLE2"
   },
   "source": [
    "처음 클래스 선언할 때와 다르게, 메소드를 실행하면서, 인스턴스 변수가 생성 되었는데, 그러면, 해당 클래스 인스턴스의 메모리 크기도 증가하나요?  \n",
    "\n",
    "`동적으로 크기가 커져요`"
   ]
  },
  {
   "cell_type": "markdown",
   "metadata": {
    "id": "WKI0QshAMWUY"
   },
   "source": [
    "첫째 = 사람(),  둘째 = 사람() 이거와 class 사람:  상관관계가 있습니까?  \n",
    "\n",
    "\n",
    "`설계도(클래스)`를 갖고 만든 결과물이 `객체` 입니다."
   ]
  },
  {
   "cell_type": "markdown",
   "metadata": {
    "id": "Aq-kGJ_eM7j_"
   },
   "source": [
    "일반 변수와 인스턴스 변수의 차이\n",
    "- 일반 변수는 함수 호출이 끝나면 제거됩니다"
   ]
  },
  {
   "cell_type": "code",
   "execution_count": 36,
   "metadata": {
    "colab": {
     "base_uri": "https://localhost:8080/",
     "height": 332
    },
    "executionInfo": {
     "elapsed": 273,
     "status": "error",
     "timestamp": 1649992246311,
     "user": {
      "displayName": "Jonghun Yoo",
      "userId": "07020854033126503907"
     },
     "user_tz": -540
    },
    "id": "j8xTqnJ6LTa_",
    "outputId": "4f66c387-d08f-4bbd-faa6-4a5c1087bcfe"
   },
   "outputs": [
    {
     "ename": "NameError",
     "evalue": "name '너의이름은' is not defined",
     "output_type": "error",
     "traceback": [
      "\u001b[1;31m---------------------------------------------------------------------------\u001b[0m",
      "\u001b[1;31mNameError\u001b[0m                                 Traceback (most recent call last)",
      "\u001b[1;32m<ipython-input-36-daa519abf530>\u001b[0m in \u001b[0;36m<module>\u001b[1;34m\u001b[0m\n\u001b[0;32m      8\u001b[0m \u001b[0m첫째\u001b[0m \u001b[1;33m=\u001b[0m \u001b[0m사람\u001b[0m\u001b[1;33m(\u001b[0m\u001b[1;33m)\u001b[0m\u001b[1;33m\u001b[0m\u001b[1;33m\u001b[0m\u001b[0m\n\u001b[0;32m      9\u001b[0m \u001b[0m첫째\u001b[0m\u001b[1;33m.\u001b[0m\u001b[0m이름입력\u001b[0m\u001b[1;33m(\u001b[0m\u001b[1;34m\"서창민\"\u001b[0m\u001b[1;33m)\u001b[0m\u001b[1;33m\u001b[0m\u001b[1;33m\u001b[0m\u001b[0m\n\u001b[1;32m---> 10\u001b[1;33m \u001b[0m첫째\u001b[0m\u001b[1;33m.\u001b[0m\u001b[0m출력하기\u001b[0m\u001b[1;33m(\u001b[0m\u001b[1;33m)\u001b[0m\u001b[1;33m\u001b[0m\u001b[1;33m\u001b[0m\u001b[0m\n\u001b[0m",
      "\u001b[1;32m<ipython-input-36-daa519abf530>\u001b[0m in \u001b[0;36m출력하기\u001b[1;34m(self)\u001b[0m\n\u001b[0;32m      4\u001b[0m \u001b[1;33m\u001b[0m\u001b[0m\n\u001b[0;32m      5\u001b[0m     \u001b[1;32mdef\u001b[0m \u001b[0m출력하기\u001b[0m \u001b[1;33m(\u001b[0m\u001b[0mself\u001b[0m\u001b[1;33m)\u001b[0m\u001b[1;33m:\u001b[0m\u001b[1;33m\u001b[0m\u001b[1;33m\u001b[0m\u001b[0m\n\u001b[1;32m----> 6\u001b[1;33m         \u001b[0mprint\u001b[0m\u001b[1;33m(\u001b[0m\u001b[0m너의이름은\u001b[0m\u001b[1;33m)\u001b[0m\u001b[1;33m\u001b[0m\u001b[1;33m\u001b[0m\u001b[0m\n\u001b[0m\u001b[0;32m      7\u001b[0m \u001b[1;33m\u001b[0m\u001b[0m\n\u001b[0;32m      8\u001b[0m \u001b[0m첫째\u001b[0m \u001b[1;33m=\u001b[0m \u001b[0m사람\u001b[0m\u001b[1;33m(\u001b[0m\u001b[1;33m)\u001b[0m\u001b[1;33m\u001b[0m\u001b[1;33m\u001b[0m\u001b[0m\n",
      "\u001b[1;31mNameError\u001b[0m: name '너의이름은' is not defined"
     ]
    }
   ],
   "source": [
    "class 사람:\n",
    "    def 이름입력 (self, 이름):\n",
    "        너의이름은 = 이름\n",
    "\n",
    "    def 출력하기 (self):\n",
    "        print(너의이름은)\n",
    "\n",
    "첫째 = 사람()\n",
    "첫째.이름입력(\"서창민\")\n",
    "첫째.출력하기()\n"
   ]
  },
  {
   "cell_type": "code",
   "execution_count": 37,
   "metadata": {
    "colab": {
     "base_uri": "https://localhost:8080/",
     "height": 135
    },
    "executionInfo": {
     "elapsed": 4,
     "status": "error",
     "timestamp": 1649992352205,
     "user": {
      "displayName": "Jonghun Yoo",
      "userId": "07020854033126503907"
     },
     "user_tz": -540
    },
    "id": "NU1RMcirNE8R",
    "outputId": "0c8bedcd-434d-40ed-d39c-6815ce87119d"
   },
   "outputs": [
    {
     "name": "stdout",
     "output_type": "stream",
     "text": [
      "서창민\n"
     ]
    }
   ],
   "source": [
    "class 사람:\n",
    "    def 이름입력 (self, 이름):\n",
    "        self.너의이름은 = 이름\n",
    "\n",
    "    def 출력하기 (self):\n",
    "        print(self.너의이름은)\n",
    "\n",
    "첫째 = 사람()\n",
    "# 첫째.이름입력(\"서창민\")\n",
    "사람.이름입력(첫째, \"서창민\")\n",
    "첫째.출력하기()\n",
    "# 여기서 첫째.이름입력() 에 \u000b",
    "첫째,”서창민\" \u000b",
    "이 아니라 \u000b",
    "\"서창민” 만 넣는 이유는 self 가 자동으로 정의된 객체를 가리켜주기 때문인가요? 변수를 두개 넣어줘야하는 함수로 정의했는데 하나만 넣어줘도 결과 나오는게 이해가 안됩니다 ㅋㅋㅋ\n",
    "# 파이썬 인터프리터가 위와 같이 변경해 주므로 첫째를 직접 넣어줄 필요없다"
   ]
  },
  {
   "cell_type": "markdown",
   "metadata": {
    "id": "MVa4xhBxNWkV"
   },
   "source": [
    "`B 클래스에서 정의된 메소드라도 동일한 모듈안에만 있다면 A클래스에서 생성된 객체에서 B클래스의 메소드를 사용할 수 있을까요??`\n"
   ]
  },
  {
   "cell_type": "code",
   "execution_count": 38,
   "metadata": {
    "executionInfo": {
     "elapsed": 1,
     "status": "ok",
     "timestamp": 1649992419885,
     "user": {
      "displayName": "Jonghun Yoo",
      "userId": "07020854033126503907"
     },
     "user_tz": -540
    },
    "id": "y9iuZ4vDNUGV"
   },
   "outputs": [],
   "source": [
    "# 네 \n",
    "\n",
    "class A:\n",
    "    pass\n",
    "\n",
    "class B:\n",
    "    def f( self ):\n",
    "        a = A(   )\n",
    "\n",
    "a = B()\n",
    "a.f()\n"
   ]
  },
  {
   "cell_type": "markdown",
   "metadata": {
    "id": "gcqadPiBNpj-"
   },
   "source": [
    "오류의 원인은?\n",
    "```\n",
    "class 사람:\n",
    "    def 이름입력 (self, 이름):\n",
    "        너의이름은 = 이름\n",
    "        return 너의이름은\n",
    "\n",
    "    def 출력하기 (self):\n",
    "        print(너의이름은)\n",
    "\n",
    "첫째 = 사람()\n",
    "첫째.이름입력(\"서창민\")\n",
    "첫째.출력하기()\n",
    "\n",
    "```"
   ]
  },
  {
   "cell_type": "code",
   "execution_count": 39,
   "metadata": {
    "executionInfo": {
     "elapsed": 282,
     "status": "ok",
     "timestamp": 1649992643941,
     "user": {
      "displayName": "Jonghun Yoo",
      "userId": "07020854033126503907"
     },
     "user_tz": -540
    },
    "id": "DlpH18Y6OYoi"
   },
   "outputs": [],
   "source": [
    "# 정신차려라. 지역변수다!!!"
   ]
  },
  {
   "cell_type": "code",
   "execution_count": 40,
   "metadata": {
    "colab": {
     "base_uri": "https://localhost:8080/",
     "height": 351
    },
    "executionInfo": {
     "elapsed": 10,
     "status": "error",
     "timestamp": 1649992612620,
     "user": {
      "displayName": "Jonghun Yoo",
      "userId": "07020854033126503907"
     },
     "user_tz": -540
    },
    "id": "o7HmhZffNoy-",
    "outputId": "c17f2fbc-90f5-4b30-966e-f3720a2eecce"
   },
   "outputs": [
    {
     "name": "stdout",
     "output_type": "stream",
     "text": [
      "서창민\n"
     ]
    },
    {
     "ename": "NameError",
     "evalue": "name '너의이름은' is not defined",
     "output_type": "error",
     "traceback": [
      "\u001b[1;31m---------------------------------------------------------------------------\u001b[0m",
      "\u001b[1;31mNameError\u001b[0m                                 Traceback (most recent call last)",
      "\u001b[1;32m<ipython-input-40-db054f68753d>\u001b[0m in \u001b[0;36m<module>\u001b[1;34m\u001b[0m\n\u001b[0;32m     10\u001b[0m \u001b[0m결과\u001b[0m \u001b[1;33m=\u001b[0m \u001b[0m첫째\u001b[0m\u001b[1;33m.\u001b[0m\u001b[0m이름입력\u001b[0m\u001b[1;33m(\u001b[0m\u001b[1;34m\"서창민\"\u001b[0m\u001b[1;33m)\u001b[0m\u001b[1;33m\u001b[0m\u001b[1;33m\u001b[0m\u001b[0m\n\u001b[0;32m     11\u001b[0m \u001b[0mprint\u001b[0m\u001b[1;33m(\u001b[0m\u001b[0m결과\u001b[0m\u001b[1;33m)\u001b[0m\u001b[1;33m\u001b[0m\u001b[1;33m\u001b[0m\u001b[0m\n\u001b[1;32m---> 12\u001b[1;33m \u001b[0m첫째\u001b[0m\u001b[1;33m.\u001b[0m\u001b[0m출력하기\u001b[0m\u001b[1;33m(\u001b[0m\u001b[1;33m)\u001b[0m\u001b[1;33m\u001b[0m\u001b[1;33m\u001b[0m\u001b[0m\n\u001b[0m",
      "\u001b[1;32m<ipython-input-40-db054f68753d>\u001b[0m in \u001b[0;36m출력하기\u001b[1;34m(self)\u001b[0m\n\u001b[0;32m      5\u001b[0m \u001b[1;33m\u001b[0m\u001b[0m\n\u001b[0;32m      6\u001b[0m     \u001b[1;32mdef\u001b[0m \u001b[0m출력하기\u001b[0m \u001b[1;33m(\u001b[0m\u001b[0mself\u001b[0m\u001b[1;33m)\u001b[0m\u001b[1;33m:\u001b[0m\u001b[1;33m\u001b[0m\u001b[1;33m\u001b[0m\u001b[0m\n\u001b[1;32m----> 7\u001b[1;33m         \u001b[0mprint\u001b[0m\u001b[1;33m(\u001b[0m\u001b[0m너의이름은\u001b[0m\u001b[1;33m)\u001b[0m\u001b[1;33m\u001b[0m\u001b[1;33m\u001b[0m\u001b[0m\n\u001b[0m\u001b[0;32m      8\u001b[0m \u001b[1;33m\u001b[0m\u001b[0m\n\u001b[0;32m      9\u001b[0m \u001b[0m첫째\u001b[0m \u001b[1;33m=\u001b[0m \u001b[0m사람\u001b[0m\u001b[1;33m(\u001b[0m\u001b[1;33m)\u001b[0m\u001b[1;33m\u001b[0m\u001b[1;33m\u001b[0m\u001b[0m\n",
      "\u001b[1;31mNameError\u001b[0m: name '너의이름은' is not defined"
     ]
    }
   ],
   "source": [
    "class 사람:\n",
    "    def 이름입력 (self, 이름):\n",
    "        너의이름은 = 이름\n",
    "        return 너의이름은\n",
    "\n",
    "    def 출력하기 (self):\n",
    "        print(너의이름은)\n",
    "\n",
    "첫째 = 사람()\n",
    "결과 = 첫째.이름입력(\"서창민\")\n",
    "print(결과)\n",
    "첫째.출력하기()"
   ]
  },
  {
   "cell_type": "markdown",
   "metadata": {
    "id": "WimIOJCaO02c"
   },
   "source": [
    "클래스가 할당,확보하는 메모리 동적 자료구조는 링크드리스트인가요?.. 마구 늘어났다가. 다른 것을 쓰고 있는 메모리로까지 침범할 수도 있으니...  \n",
    "\n",
    "`메모리가 꽉 차게되면 프로그램이 사망한다. 에러!!`"
   ]
  },
  {
   "cell_type": "markdown",
   "metadata": {
    "id": "nwHIRvJCPNom"
   },
   "source": [
    "b = []\n",
    "\n",
    "def aa(x):\n",
    "    x = 20\n",
    "    b.append(x)\n",
    "   \n",
    "    \n",
    "x = 10\n",
    "aa(x)\n",
    "print(b)\n",
    "print(x)\n",
    "\n",
    "함수 바깥에서 만든 리스트를 함수 안에서 append하는거랑 \n",
    "함수 안에서 선언한 변수 결과에 대한 차이점 다시 설명해주실 수 있나요?\n",
    "\n",
    "`동작상의 차이는 없습니다. 코드를 정리한 사람의 의도대로 실행됩니다. ` "
   ]
  },
  {
   "cell_type": "markdown",
   "metadata": {
    "id": "NJVrmvezPpbK"
   },
   "source": [
    "b.f(20) 과 print (z) 값이 다른게 나오는데 이유를 설명해주실수 있을가요?\n",
    "\n",
    "```\n",
    "z = 10\n",
    "class A :\n",
    "    def f(self, x) :\n",
    "        y = 10\n",
    "        z = x+y\n",
    "        return z\n",
    "        self.z = z\n",
    "\n",
    "b = A()\n",
    "print(b.f(20))\n",
    "print(\"\")\n",
    "print(z)\n",
    "```\n",
    "\n",
    "`b.f는 return한 값 30이 출력되며, z 는 위에 정의한 10이 그대로 나옵니다.`\n",
    "\n",
    "`함수 f의 결괏값을 z에 업데이트하고 싶다면 다음과 같이 코드를 작성합니다`\n",
    "```\n",
    "z = b.f(20)\n",
    "```"
   ]
  },
  {
   "cell_type": "markdown",
   "metadata": {
    "id": "t2KH_aK0Qt74"
   },
   "source": [
    "`변수 같은 경우는 함수 안에서 새로운 값을 주어도 함수 실행이 끝나면서 초기 상태로 돌아가는데 리스트는 그렇지 않아서 궁금했습니다`\n"
   ]
  },
  {
   "cell_type": "code",
   "execution_count": 41,
   "metadata": {
    "colab": {
     "base_uri": "https://localhost:8080/"
    },
    "executionInfo": {
     "elapsed": 8,
     "status": "ok",
     "timestamp": 1649993271881,
     "user": {
      "displayName": "Jonghun Yoo",
      "userId": "07020854033126503907"
     },
     "user_tz": -540
    },
    "id": "E8fYNlfgQfLN",
    "outputId": "47e84a8d-3376-47c9-f1ce-1f2db0f27c08"
   },
   "outputs": [
    {
     "name": "stdout",
     "output_type": "stream",
     "text": [
      "<class 'list'>\n"
     ]
    }
   ],
   "source": [
    "print(type([]))"
   ]
  },
  {
   "cell_type": "markdown",
   "metadata": {
    "id": "9eIqjrxhy8mw"
   },
   "source": [
    "## 초기화자 (Initializer)\n",
    "다음의 사람 클래스를 참고하면 클래스를 생성하는 코드가 반복됩니다. "
   ]
  },
  {
   "cell_type": "markdown",
   "metadata": {
    "id": "fKFHPdIVy8mw"
   },
   "source": [
    "```python\n",
    "엄마 = 사람()\n",
    "엄마.출생(\"이월순\", \"640423\", \"여\")\n",
    "엄마.정보출력()\n",
    "\n",
    "아빠 = 사람()\n",
    "아빠.출생(\"유희준\", \"590125\", \"남\")\n",
    "아빠.정보출력()\n",
    "```"
   ]
  },
  {
   "cell_type": "markdown",
   "metadata": {
    "id": "vUFWgRmSy8mw"
   },
   "source": [
    "초기화자를 사용하면 클래스를 생성할 때 값을 함께 입력할 수 있습니다. `__init__`이라는 이름을 갖는 메서드를 초기화자라고 부르는데 이는 특별한 기능을 갖습니다. 초기화자가 정의되면 파이썬 인터프리터는 객체가 생성될 때 자동으로 `__init__` 메서드를 호출해 줍니다. 아래의 코드에서 `__init__` 함수를 호출하지 않았지만 파이썬 인터프리터가 자동으로 호출하여 콘솔창에 \"자동호출됨\"이라는 문자열이 출력됩니다."
   ]
  },
  {
   "cell_type": "code",
   "execution_count": 42,
   "metadata": {
    "id": "_A9wglyJy8mw",
    "outputId": "35f84dc7-d158-4320-a1fd-302cd9de9b91"
   },
   "outputs": [
    {
     "name": "stdout",
     "output_type": "stream",
     "text": [
      "자동호출됨\n"
     ]
    },
    {
     "data": {
      "text/plain": [
       "<__main__.사람 at 0x1e0bfd86160>"
      ]
     },
     "execution_count": 42,
     "metadata": {},
     "output_type": "execute_result"
    }
   ],
   "source": [
    "class 사람 :\n",
    "    def __init__(self):\n",
    "        print(\"자동호출됨\")\n",
    "        \n",
    "사람()"
   ]
  },
  {
   "cell_type": "markdown",
   "metadata": {
    "id": "QvmVmEVgy8mx"
   },
   "source": [
    "초기화자에 입력값을 추가하면 객체를 생성할 때 파라미터를 반드시 전달해야 합니다. `__init__` 메서드도 함수의 일종이기 때문에 사용 원리는 함수와 같습니다. "
   ]
  },
  {
   "cell_type": "code",
   "execution_count": 45,
   "metadata": {
    "id": "vwhTqnQOy8mx"
   },
   "outputs": [
    {
     "ename": "IndentationError",
     "evalue": "expected an indented block (<ipython-input-45-ae8cb8a62341>, line 4)",
     "output_type": "error",
     "traceback": [
      "\u001b[1;36m  File \u001b[1;32m\"<ipython-input-45-ae8cb8a62341>\"\u001b[1;36m, line \u001b[1;32m4\u001b[0m\n\u001b[1;33m    아빠 = 사람(\"유희준\")\u001b[0m\n\u001b[1;37m    ^\u001b[0m\n\u001b[1;31mIndentationError\u001b[0m\u001b[1;31m:\u001b[0m expected an indented block\n"
     ]
    }
   ],
   "source": [
    "class 사람 :\n",
    "    \n",
    "\n",
    "아빠 = 사람(\"유희준\")\n",
    "print(아빠.이름)"
   ]
  },
  {
   "cell_type": "markdown",
   "metadata": {
    "id": "7L_bnXrky8mx"
   },
   "source": [
    "다음과 같이 두 개의 값을 입력받도록 정의하면 두 개의 파라미터를 전달해야 합니다. \n",
    "참고로 pass는 기능을 구현하지 않고 문법 에러를 회피하기 위해 사용하는 키워드입니다."
   ]
  },
  {
   "cell_type": "code",
   "execution_count": 44,
   "metadata": {
    "id": "j0LXkmJgy8mx",
    "outputId": "add4fe26-a986-468a-a253-493999dd869c"
   },
   "outputs": [
    {
     "data": {
      "text/plain": [
       "<__main__.사람 at 0x1e0bfd86b50>"
      ]
     },
     "execution_count": 44,
     "metadata": {},
     "output_type": "execute_result"
    }
   ],
   "source": [
    "class 사람 :\n",
    "    def __init__(self, 이름, 나이):\n",
    "        pass\n",
    "\n",
    "사람(\"유희준\", 60)"
   ]
  }
 ],
 "metadata": {
  "colab": {
   "collapsed_sections": [],
   "name": "1.클래스.ipynb",
   "provenance": []
  },
  "kernelspec": {
   "display_name": "Python 3",
   "language": "python",
   "name": "python3"
  },
  "language_info": {
   "codemirror_mode": {
    "name": "ipython",
    "version": 3
   },
   "file_extension": ".py",
   "mimetype": "text/x-python",
   "name": "python",
   "nbconvert_exporter": "python",
   "pygments_lexer": "ipython3",
   "version": "3.8.5"
  },
  "toc": {
   "base_numbering": 1,
   "nav_menu": {},
   "number_sections": true,
   "sideBar": true,
   "skip_h1_title": false,
   "title_cell": "Table of Contents",
   "title_sidebar": "Contents",
   "toc_cell": false,
   "toc_position": {
    "height": "calc(100% - 180px)",
    "left": "10px",
    "top": "150px",
    "width": "165px"
   },
   "toc_section_display": true,
   "toc_window_display": true
  }
 },
 "nbformat": 4,
 "nbformat_minor": 1
}
