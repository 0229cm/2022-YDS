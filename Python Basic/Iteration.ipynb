{
 "cells": [
  {
   "cell_type": "markdown",
   "metadata": {
    "id": "WNSxhL6QZr6W"
   },
   "source": [
    "# 반복문\n",
    "반복문은 자료구조의 데이터 수만큼 코드를 반복실행 합니다.  \n",
    "자료구조에 있는 \"데이터를 하나씩 바인딩하고 들여쓰기된 코드를 실행\" 과정을 반복하는 겁니다. \n",
    "  \n",
    "## 반복문 - 기본형\n",
    "`for 변수 in 자료구조 : ` 형태로 코드를 작성합니다. 코드 끝에 콜론 `:` 있음에 주의하세요. 분기문과 같이 콜론 다음에는 들여쓰기와 함께 영향을 받는 코드를 작성합니다. "
   ]
  },
  {
   "cell_type": "markdown",
   "metadata": {
    "id": "VWzXNxQlZr6b"
   },
   "source": [
    "<img src=\"https://i.ibb.co/gR952tp/for-0.png\" width=\"300\" style=\"float:left\" />"
   ]
  },
  {
   "cell_type": "markdown",
   "metadata": {
    "id": "xyb7-Fj1Zr6b"
   },
   "source": [
    "###### 반복문을 사용하지 않고 한 줄에 하나의 값 출력하기"
   ]
  },
  {
   "cell_type": "code",
   "execution_count": 1,
   "metadata": {
    "colab": {
     "base_uri": "https://localhost:8080/"
    },
    "executionInfo": {
     "elapsed": 270,
     "status": "ok",
     "timestamp": 1649896026294,
     "user": {
      "displayName": "Jonghun Yoo",
      "userId": "07020854033126503907"
     },
     "user_tz": -540
    },
    "id": "4G6WiSX1Zr6c",
    "outputId": "2c0be127-3636-4a5d-ddd1-6ec36b2ef4bd"
   },
   "outputs": [],
   "source": [
    "리스트 = [\"가\", \"나\", \"다\", \"라\", \"a\", \"b\", \"c\"]\n",
    "print(리스트[0])\n",
    "print(리스트[1])\n",
    "print(리스트[2])\n",
    "print(리스트[3])"
   ]
  },
  {
   "cell_type": "markdown",
   "metadata": {
    "id": "m3LiTOEiZr6d"
   },
   "source": [
    "###### 반복문으로 코드를 정리하기"
   ]
  },
  {
   "cell_type": "code",
   "execution_count": 2,
   "metadata": {
    "colab": {
     "base_uri": "https://localhost:8080/"
    },
    "executionInfo": {
     "elapsed": 280,
     "status": "ok",
     "timestamp": 1649896029785,
     "user": {
      "displayName": "Jonghun Yoo",
      "userId": "07020854033126503907"
     },
     "user_tz": -540
    },
    "id": "gfqc8Yy_Zr6d",
    "outputId": "e36865a8-665a-4dd2-8d41-1964788e61b0"
   },
   "outputs": [],
   "source": [
    "for 변수 in 리스트:\n",
    "    print(변수)"
   ]
  },
  {
   "cell_type": "code",
   "execution_count": 3,
   "metadata": {
    "colab": {
     "base_uri": "https://localhost:8080/"
    },
    "executionInfo": {
     "elapsed": 2,
     "status": "ok",
     "timestamp": 1649896627346,
     "user": {
      "displayName": "Jonghun Yoo",
      "userId": "07020854033126503907"
     },
     "user_tz": -540
    },
    "id": "i9CfOftNfxb2",
    "outputId": "66c0bb61-7ba0-49bf-c52a-7f3fde410faf"
   },
   "outputs": [],
   "source": [
    "리스트 = [\"철수\", \"영희\", \"희철\"]\n",
    "\n",
    "for 승객 in 리스트:\n",
    "    print(f\"{승객} 바보\")"
   ]
  },
  {
   "cell_type": "markdown",
   "metadata": {
    "id": "4cAypngTPofM"
   },
   "source": [
    "질문. `print(n)`이 출력되는 것은 무엇인가\n",
    "- 기존에 정의한 `n` 변수에 정의된 값이 출력된다. "
   ]
  },
  {
   "cell_type": "code",
   "execution_count": 4,
   "metadata": {
    "id": "_p4hVK3bg3Hz"
   },
   "outputs": [],
   "source": [
    "n = 10"
   ]
  },
  {
   "cell_type": "code",
   "execution_count": 5,
   "metadata": {
    "colab": {
     "base_uri": "https://localhost:8080/",
     "height": 206
    },
    "executionInfo": {
     "elapsed": 365,
     "status": "error",
     "timestamp": 1649897035554,
     "user": {
      "displayName": "Jonghun Yoo",
      "userId": "07020854033126503907"
     },
     "user_tz": -540
    },
    "id": "5YK7sdFcgYqV",
    "outputId": "5a8456c7-4a5e-46b6-c87c-735cfbd7b875"
   },
   "outputs": [],
   "source": [
    "list = [1,2,3,4,5]\n",
    "for i in list:\n",
    "    print(n)"
   ]
  },
  {
   "cell_type": "markdown",
   "metadata": {
    "id": "COxOefc9P4av"
   },
   "source": [
    "다음의 반복문은 아래의 코드를 축약해서 쓴것과 같다"
   ]
  },
  {
   "cell_type": "code",
   "execution_count": 6,
   "metadata": {
    "id": "EYg0QL7LP0iB"
   },
   "outputs": [],
   "source": [
    "for i in [1, 2, 3]:\n",
    "    print(i)"
   ]
  },
  {
   "cell_type": "code",
   "execution_count": 7,
   "metadata": {
    "id": "rCQy77sLhN1b"
   },
   "outputs": [],
   "source": [
    "i = 1\n",
    "print(i)\n",
    "\n",
    "i = 2\n",
    "print(i)\n",
    "\n",
    "i = 3\n",
    "print(i)"
   ]
  },
  {
   "cell_type": "markdown",
   "metadata": {
    "id": "6ZXBLh-OZr6e"
   },
   "source": [
    "###### 연습문제 - 1\n",
    "다음 코드의 실행 결과를 예측하라."
   ]
  },
  {
   "cell_type": "markdown",
   "metadata": {
    "id": "89H4ZQDpZr6e"
   },
   "source": [
    "```python\n",
    "리스트 = [\"가\", \"나\", \"다\"]\n",
    "for 변수 in 리스트 :\n",
    "    print(변수)\n",
    "    print(\"-\" * 10)\n",
    "for 변수 in 리스트 :\n",
    "    print(변수)\n",
    "```"
   ]
  },
  {
   "cell_type": "code",
   "execution_count": 8,
   "metadata": {
    "colab": {
     "base_uri": "https://localhost:8080/"
    },
    "executionInfo": {
     "elapsed": 298,
     "status": "ok",
     "timestamp": 1649897351102,
     "user": {
      "displayName": "Jonghun Yoo",
      "userId": "07020854033126503907"
     },
     "user_tz": -540
    },
    "id": "PIckMAgcZr6f",
    "outputId": "d9f35d5a-6918-438f-9a23-48646cce78a1"
   },
   "outputs": [],
   "source": [
    "리스트 = [\"가\", \"나\", \"다\"]\n",
    "\n",
    "\n",
    "for 변수 in 리스트 :\n",
    "    print(변수)\n",
    "    print(\"-\" * 10)\n",
    "\n",
    "for 변수 in 리스트 :\n",
    "    print(변수)"
   ]
  },
  {
   "cell_type": "markdown",
   "metadata": {
    "id": "ytWt_MpTZr6f"
   },
   "source": [
    "```python\n",
    "리스트 = [\"가\", \"나\", \"다\"]\n",
    "for 변수 in 리스트 :\n",
    "    print(변수)    \n",
    "    for k in 리스트 :\n",
    "        print(k)\n",
    "```"
   ]
  },
  {
   "cell_type": "code",
   "execution_count": 9,
   "metadata": {
    "colab": {
     "base_uri": "https://localhost:8080/"
    },
    "executionInfo": {
     "elapsed": 280,
     "status": "ok",
     "timestamp": 1649897872141,
     "user": {
      "displayName": "Jonghun Yoo",
      "userId": "07020854033126503907"
     },
     "user_tz": -540
    },
    "id": "kVb42iL4k4Ab",
    "outputId": "6d9b364d-9048-4bc0-a778-5466e0f0f08f"
   },
   "outputs": [],
   "source": [
    "print(\"가\")\n",
    "print(\"나\")"
   ]
  },
  {
   "cell_type": "code",
   "execution_count": 10,
   "metadata": {
    "colab": {
     "base_uri": "https://localhost:8080/"
    },
    "executionInfo": {
     "elapsed": 268,
     "status": "ok",
     "timestamp": 1649897992802,
     "user": {
      "displayName": "Jonghun Yoo",
      "userId": "07020854033126503907"
     },
     "user_tz": -540
    },
    "id": "sXo7zaRpkxXm",
    "outputId": "ba4bed88-4409-44a1-e4c2-9fe6f55f2e95"
   },
   "outputs": [],
   "source": [
    "리스트 = [\"가\", \"나\", \"다\"]\n",
    "for 변수 in 리스트 :\n",
    "    print(변수)    \n",
    "    for k in 리스트 :\n",
    "        print(k)\n",
    "    print(\"\")"
   ]
  },
  {
   "cell_type": "code",
   "execution_count": 11,
   "metadata": {
    "colab": {
     "base_uri": "https://localhost:8080/"
    },
    "executionInfo": {
     "elapsed": 278,
     "status": "ok",
     "timestamp": 1649897968535,
     "user": {
      "displayName": "Jonghun Yoo",
      "userId": "07020854033126503907"
     },
     "user_tz": -540
    },
    "id": "4HWfutj6lQb7",
    "outputId": "0d3da33c-42fa-4dc8-c32e-cb8b8b460058"
   },
   "outputs": [],
   "source": [
    "for 변수 in 리스트 :\n",
    "    print(변수) "
   ]
  },
  {
   "cell_type": "markdown",
   "metadata": {
    "id": "fg2WvsukQBF2"
   },
   "source": [
    "###### 질문 : 역슬래시에 대해서.\n",
    "- 폰트에 따라서 원화표시 혹은 슬래시의 반대방향으로 보일 수 있으나 기능은 같음\n",
    "- 역슬래시 하나는 문자열에서 특수한 의미로 뒤에 나오는 문자에 따라 다른 기능을 함  \n",
    "`\\n`: 줄바꿈  \n",
    "`\\t`: 수평탭  \n",
    "`\\\\`: 원화표시(역슬래시) 출력  "
   ]
  },
  {
   "cell_type": "code",
   "execution_count": 12,
   "metadata": {
    "colab": {
     "base_uri": "https://localhost:8080/"
    },
    "executionInfo": {
     "elapsed": 294,
     "status": "ok",
     "timestamp": 1649898148441,
     "user": {
      "displayName": "Jonghun Yoo",
      "userId": "07020854033126503907"
     },
     "user_tz": -540
    },
    "id": "UdVXJuAVlqTj",
    "outputId": "d7e50e84-347e-49a2-ca9c-6a4c4f9789af"
   },
   "outputs": [],
   "source": [
    "print(\"aa\\\\bbbb\")"
   ]
  },
  {
   "cell_type": "markdown",
   "metadata": {
    "id": "L-m_ZSQFQeHm"
   },
   "source": [
    "###### 질문 : f-string이란?\n",
    "- 문자열을 포맷팅을 지원하는 파이썬 신규 기능\n",
    "- 변수에 바인딩된 값을 문자열로 연결할 수 있음"
   ]
  },
  {
   "cell_type": "code",
   "execution_count": 13,
   "metadata": {
    "colab": {
     "base_uri": "https://localhost:8080/",
     "height": 35
    },
    "executionInfo": {
     "elapsed": 2,
     "status": "ok",
     "timestamp": 1649898236670,
     "user": {
      "displayName": "Jonghun Yoo",
      "userId": "07020854033126503907"
     },
     "user_tz": -540
    },
    "id": "ybI0xN8Nl_zM",
    "outputId": "b4f4be82-abca-4572-96bb-c2e0c63a80a7"
   },
   "outputs": [],
   "source": [
    "용돈 = 100\n",
    "f\"이것은 문자열입니다  {용돈} 원\""
   ]
  },
  {
   "cell_type": "markdown",
   "metadata": {
    "id": "e52vCxjqQqTN"
   },
   "source": [
    "문자열 이어붙이기만을 사용하면 가독성이 떨어짐"
   ]
  },
  {
   "cell_type": "code",
   "execution_count": 14,
   "metadata": {
    "colab": {
     "base_uri": "https://localhost:8080/",
     "height": 35
    },
    "executionInfo": {
     "elapsed": 273,
     "status": "ok",
     "timestamp": 1649898230984,
     "user": {
      "displayName": "Jonghun Yoo",
      "userId": "07020854033126503907"
     },
     "user_tz": -540
    },
    "id": "GQgQg3azmNOJ",
    "outputId": "0f64b9ae-cdcb-4de9-9af8-1c88281fffbf"
   },
   "outputs": [],
   "source": [
    "\"이것은 문자열입니다\" + str(용돈) + \"원\""
   ]
  },
  {
   "cell_type": "markdown",
   "metadata": {
    "id": "VQ_mqxavQuXH"
   },
   "source": [
    "##### 질문\n",
    "Q1. for문 안에 for문이 들어있는 형식을 부르는 이름이 따로 있나요?\n",
    " - 이중 for문\n",
    "\n",
    "Q2. for문 안에 for문 형식은 최대한 몇 개까지 사용하는 것을 지향하나요?\n",
    " - 계속 중첩이 가능합니다."
   ]
  },
  {
   "cell_type": "markdown",
   "metadata": {
    "id": "oYKG4eZWQxie"
   },
   "source": [
    "###### 추가질문\n",
    "```\n",
    "그러면 중첩 for문은 안쪽으로 갈수록 먼저 끝난다는거죠?\n",
    "안쪽 -> 바깥쪽 순서로 for이 끝난돠\n",
    "```\n",
    "동작 순서상 밖의 for문이 먼저 실행되고 들여쓰기된 코드가 모두 실행돼야 밖의 for문의 다음 데이터를 가져와 실행한다. 따라서 매번 실행에서 안쪽의 for문이 모두 실행돼야 밖의 for문이 동작한다. 끝나는 시점만 비교한다면 질문 내용이 맞음\n",
    "```\n",
    "for 변수 in 자료구조1:\n",
    "    코드 1\n",
    "    \n",
    "    for 변수2 in 자료구조2: \n",
    "        print(변수2)\n",
    "\n",
    "    코드 3\n",
    "```"
   ]
  },
  {
   "cell_type": "markdown",
   "metadata": {
    "id": "_Y8QkvkHRHAs"
   },
   "source": [
    "##### 질문. \n",
    "For문에서 i가 0이 아니라 1부터 시작하는건가요?  \n",
    "아니면 첫번째 실행을 의미하는거라서 그런건가요?  \n",
    "\n",
    "----------------\n",
    "\n",
    "파이썬에서는 0부터 숫자를 카운트한다. 반복문이 실행되면 자료구조에 있는 첫 번째(0번째) 데이터를 가져오며, 순차적으로 하나씩 데이터를 꺼내온다.\n"
   ]
  },
  {
   "cell_type": "markdown",
   "metadata": {
    "id": "lS6kYelURbwX"
   },
   "source": [
    "###### 질문\n",
    "반복문, 분기문, 인덱싱, 슬라이싱 모두 원리는 바인딩일까요? \n",
    "인덱싱은 메모리 공간을 가리키고, 슬라이싱은 메모리 공간의 사이를 가리키도록 바인딩하는건가요??\n",
    "\n",
    "----\n",
    "\n",
    "프로그램이 실행되기 위해서는 모든 데이터가 메모리에 올라가야한다. 메모리의 올라간 데이터 하나를 가져오는 것을 인덱싱, 여러 개를 가져오는 것을 슬라이싱이라고 한다. 이와같이 메모리에 올라간 데이터를 여러 개 가져와 처리하는 로직을 반복문, 데이터의 흐름을 제어하는 것을 분기문이라고 한다."
   ]
  },
  {
   "cell_type": "markdown",
   "metadata": {
    "id": "dmJYXVpyZr6g"
   },
   "source": [
    "###### 연습문제 - 2\n",
    "리스트에서 앞의 두 개의 값을 다음과 같이 출력하라.  \n",
    "```\n",
    "가\n",
    "나\n",
    "```"
   ]
  },
  {
   "cell_type": "code",
   "execution_count": 15,
   "metadata": {
    "colab": {
     "base_uri": "https://localhost:8080/"
    },
    "executionInfo": {
     "elapsed": 276,
     "status": "ok",
     "timestamp": 1649898872014,
     "user": {
      "displayName": "Jonghun Yoo",
      "userId": "07020854033126503907"
     },
     "user_tz": -540
    },
    "id": "yHZEUWekZr6g",
    "outputId": "ea8f6c52-2678-48e6-c0ba-89760e86cac0"
   },
   "outputs": [],
   "source": [
    "# 슬라이싱 이용해서 문제를 해결하라.\n",
    "리스트 = [\"가\", \"나\", \"다\"]\n",
    "\n",
    "for 변수 in 리스트[0:2]:\n",
    "    print(변수)"
   ]
  },
  {
   "cell_type": "code",
   "execution_count": 16,
   "metadata": {
    "colab": {
     "base_uri": "https://localhost:8080/"
    },
    "executionInfo": {
     "elapsed": 2,
     "status": "ok",
     "timestamp": 1649899501913,
     "user": {
      "displayName": "Jonghun Yoo",
      "userId": "07020854033126503907"
     },
     "user_tz": -540
    },
    "id": "5TNb4atJZr6h",
    "outputId": "b5bec5da-cd44-458b-fb33-7de479773698"
   },
   "outputs": [],
   "source": [
    "# 분기문을 이용해서 문제를 해결하라.\n",
    "리스트 = [\"가\", \"나\", \"다\"]\n",
    "for 변수 in 리스트:\n",
    "    if 변수 != \"다\" : \n",
    "        print(변수)"
   ]
  },
  {
   "cell_type": "markdown",
   "metadata": {
    "id": "xvybk36ZRziX"
   },
   "source": [
    "###### 질문 `-1`이 무엇인가?"
   ]
  },
  {
   "cell_type": "code",
   "execution_count": 17,
   "metadata": {
    "colab": {
     "base_uri": "https://localhost:8080/"
    },
    "executionInfo": {
     "elapsed": 275,
     "status": "ok",
     "timestamp": 1649899112748,
     "user": {
      "displayName": "Jonghun Yoo",
      "userId": "07020854033126503907"
     },
     "user_tz": -540
    },
    "id": "NsdT--k_pdTa",
    "outputId": "7d018270-173f-48b6-e942-42a7b107c372"
   },
   "outputs": [],
   "source": [
    "리스트[   :   :  -1 ]"
   ]
  },
  {
   "cell_type": "markdown",
   "metadata": {
    "id": "GU8HfIlVR2T-"
   },
   "source": [
    "슬라이싱에서 세 번째 값은 증감폭을 의미한다. `-1`은 특수한 의미로 역순으로 데이터를 가져오라는 의미이다."
   ]
  },
  {
   "cell_type": "markdown",
   "metadata": {
    "id": "WsiY6AvtR-3m"
   },
   "source": [
    "###### 질문. 인덱싱과 슬라이싱의 설명을 해주세요\n",
    "하나의 데이터를 꺼내오는 것을 인덱싱이라고 한다.\n",
    "```python\n",
    "print(리스트[0])\n",
    "print(리스트[1])\n",
    "```\n",
    "하나 이상의 데이터를 가져오는 것을 슬라이싱이라고 합니다. 이 때 슬라이싱은 반환하는 데이터 타입이 기존의 데이터와 같습니다. \n",
    "```python\n",
    "리스트[   0 : 1 ]\n",
    "```\n",
    "위 코드는 하나의 데이터를 슬라이싱합니다. 범위를 지정한 슬라이싱이기 때문에 데이터가 하나 들어있는 리스트가 반환됩니다.\n",
    "\n",
    "`리스트를 슬라이싱하면 리스트!!!`"
   ]
  },
  {
   "cell_type": "markdown",
   "metadata": {
    "id": "l15xVfDDTccV"
   },
   "source": [
    "##### 질문. `가`, `나` 만을 출력할 때 아래와 같이 문제를 해결해도 되는가   \n",
    "ㅇㅇ "
   ]
  },
  {
   "cell_type": "code",
   "execution_count": 18,
   "metadata": {
    "colab": {
     "base_uri": "https://localhost:8080/"
    },
    "executionInfo": {
     "elapsed": 268,
     "status": "ok",
     "timestamp": 1649899629360,
     "user": {
      "displayName": "Jonghun Yoo",
      "userId": "07020854033126503907"
     },
     "user_tz": -540
    },
    "id": "72P2Oy7OqvVS",
    "outputId": "997bcaf7-fbf0-4122-99f2-f910446c33ba"
   },
   "outputs": [],
   "source": [
    "num = 0\n",
    "for i in 리스트:\n",
    "  num = num + 1 \n",
    "  if num < 3:\n",
    "    print(i)"
   ]
  },
  {
   "cell_type": "markdown",
   "metadata": {
    "id": "W5sW-shVUEGx"
   },
   "source": [
    "위 질문에서 `num`을 `None`으로 초기화하면 안되는가?  \n",
    "`안 됨`\n",
    "\n",
    "파이썬에서는 데이터 타입이 중요하다. `num + 1`을 실행하면 `None`과 숫자를 더하지 못해 에러가 발생한다. "
   ]
  },
  {
   "cell_type": "markdown",
   "metadata": {
    "id": "gIsWvwnbUELG"
   },
   "source": [
    "###### 질문. 다음 코드에서 `i = 10`의 코드와 같이 초기화해도 되는가?\n",
    "코드를 넣을 수있지만 의미는 없다. 바로 다음 라인3에서 `for`문에 의해 `i=1`이 실행된다. "
   ]
  },
  {
   "cell_type": "code",
   "execution_count": 19,
   "metadata": {
    "colab": {
     "base_uri": "https://localhost:8080/"
    },
    "executionInfo": {
     "elapsed": 2,
     "status": "ok",
     "timestamp": 1649899898914,
     "user": {
      "displayName": "Jonghun Yoo",
      "userId": "07020854033126503907"
     },
     "user_tz": -540
    },
    "id": "vVMU6pFUrwTD",
    "outputId": "2cc14122-6024-4c6a-e6db-65374224617f"
   },
   "outputs": [],
   "source": [
    "list = [1,2,3]\n",
    "i = 10\n",
    "for i in list:\n",
    "  if i != 3:\n",
    "    print(i)\n",
    "\n",
    "print(i)"
   ]
  },
  {
   "cell_type": "markdown",
   "metadata": {
    "id": "BrrHJbU0VMKm"
   },
   "source": [
    "위 반복문은 아래 코드를 정리한 것이다. `i=1` 앞에 `i=10` 넣더라도 출력 결과가 달라지지 않는 것과 같다."
   ]
  },
  {
   "cell_type": "code",
   "execution_count": 20,
   "metadata": {
    "colab": {
     "base_uri": "https://localhost:8080/"
    },
    "executionInfo": {
     "elapsed": 278,
     "status": "ok",
     "timestamp": 1649899824081,
     "user": {
      "displayName": "Jonghun Yoo",
      "userId": "07020854033126503907"
     },
     "user_tz": -540
    },
    "id": "Fie4TV0TsLJL",
    "outputId": "ccfbb3e0-354b-4023-bb36-19b779c666a8"
   },
   "outputs": [],
   "source": [
    "i = 10\n",
    "i = 1    # 리스트 0번 데이터\n",
    "if i != 3:\n",
    "    print(i)\n",
    "\n",
    "i = 2    # 리스트 1번 데이터\n",
    "if i != 3:\n",
    "    print(i)\n",
    "\n",
    "i = 3    # 리스트 2번 데이터\n",
    "if i != 3:\n",
    "    print(i)"
   ]
  },
  {
   "cell_type": "markdown",
   "metadata": {
    "id": "mjC51htuZr6h"
   },
   "source": [
    "###### 연습문제 - 3\n",
    "20 이상인 값을 출력하라"
   ]
  },
  {
   "cell_type": "code",
   "execution_count": 21,
   "metadata": {
    "colab": {
     "base_uri": "https://localhost:8080/"
    },
    "executionInfo": {
     "elapsed": 345,
     "status": "ok",
     "timestamp": 1649900056766,
     "user": {
      "displayName": "Jonghun Yoo",
      "userId": "07020854033126503907"
     },
     "user_tz": -540
    },
    "id": "23WVl3oqZr6h",
    "outputId": "5550ef83-d87f-4107-8ca6-fc90ae8c915a"
   },
   "outputs": [],
   "source": [
    "리스트 = [20, 10, 30]\n",
    "for 변수 in 리스트:\n",
    "    if 변수 >= 20:\n",
    "        print(변수)"
   ]
  },
  {
   "cell_type": "markdown",
   "metadata": {
    "id": "4b74kB_LtP1i"
   },
   "source": [
    "20 이상인 값을 리스트에 저장하라"
   ]
  },
  {
   "cell_type": "code",
   "execution_count": 22,
   "metadata": {
    "colab": {
     "base_uri": "https://localhost:8080/"
    },
    "executionInfo": {
     "elapsed": 3,
     "status": "ok",
     "timestamp": 1649910618499,
     "user": {
      "displayName": "Jonghun Yoo",
      "userId": "07020854033126503907"
     },
     "user_tz": -540
    },
    "id": "tmK3_6x0VbxQ",
    "outputId": "6db052d7-fe35-4a26-ff57-36fbe0a7399a"
   },
   "outputs": [],
   "source": [
    "리스트 = [20, 10, 30]\n",
    "for 변수 in 리스트:\n",
    "    if 변수 >= 20:\n",
    "        print(변수)"
   ]
  },
  {
   "cell_type": "markdown",
   "metadata": {
    "id": "hDgsOURmVb6U"
   },
   "source": [
    "리스트에 저장할 수도 있습니다."
   ]
  },
  {
   "cell_type": "code",
   "execution_count": 23,
   "metadata": {
    "colab": {
     "base_uri": "https://localhost:8080/"
    },
    "executionInfo": {
     "elapsed": 288,
     "status": "ok",
     "timestamp": 1649900357794,
     "user": {
      "displayName": "Jonghun Yoo",
      "userId": "07020854033126503907"
     },
     "user_tz": -540
    },
    "id": "CiMCHxs9tZpr",
    "outputId": "1b7584d2-8db6-45c5-968f-fb9d950c233e"
   },
   "outputs": [],
   "source": [
    "r = [ ]\n",
    "리스트 = [20, 10, 30]\n",
    "for 변수 in 리스트:\n",
    "    if 변수 >= 20:\n",
    "        r.append(변수)\n",
    "        print(r)"
   ]
  },
  {
   "cell_type": "code",
   "execution_count": 24,
   "metadata": {
    "colab": {
     "base_uri": "https://localhost:8080/"
    },
    "executionInfo": {
     "elapsed": 3,
     "status": "ok",
     "timestamp": 1649900170698,
     "user": {
      "displayName": "Jonghun Yoo",
      "userId": "07020854033126503907"
     },
     "user_tz": -540
    },
    "id": "CPe2ISv3tO8a",
    "outputId": "e4134955-9cf1-4138-8331-f7b96fb7044f"
   },
   "outputs": [],
   "source": [
    "r"
   ]
  },
  {
   "cell_type": "markdown",
   "metadata": {
    "id": "lEZkTnHMZr6h"
   },
   "source": [
    "###### 연습문제 - 4\n",
    "`xls` 파일만을 출력하라"
   ]
  },
  {
   "cell_type": "code",
   "execution_count": 25,
   "metadata": {
    "id": "tysZrrOpZr6i"
   },
   "outputs": [],
   "source": [
    "리스트 = [\"ab.xls\", \"a.hwp\", \"b.exe\", \"bbbbb.xls\", \"xls.hwp\"]"
   ]
  },
  {
   "cell_type": "code",
   "execution_count": 26,
   "metadata": {
    "colab": {
     "base_uri": "https://localhost:8080/"
    },
    "executionInfo": {
     "elapsed": 2,
     "status": "ok",
     "timestamp": 1649900561071,
     "user": {
      "displayName": "Jonghun Yoo",
      "userId": "07020854033126503907"
     },
     "user_tz": -540
    },
    "id": "SH4CY_Tvuy9g",
    "outputId": "676f4218-f29a-4e9c-a96d-177a54b9583c"
   },
   "outputs": [
    {
     "name": "stdout",
     "output_type": "stream",
     "text": [
      "ab.xls\n",
      "bbbbb.xls\n"
     ]
    }
   ],
   "source": [
    "for 변수 in 리스트:\n",
    "    if 변수[ -3 :  ] == \"xls\":\n",
    "        print(변수)"
   ]
  },
  {
   "cell_type": "markdown",
   "metadata": {
    "id": "D5YhllH-VpLN"
   },
   "source": [
    "다양한 방법으로 문제를 해결할 수 있습니다."
   ]
  },
  {
   "cell_type": "code",
   "execution_count": 27,
   "metadata": {
    "colab": {
     "base_uri": "https://localhost:8080/"
    },
    "executionInfo": {
     "elapsed": 280,
     "status": "ok",
     "timestamp": 1649900675552,
     "user": {
      "displayName": "Jonghun Yoo",
      "userId": "07020854033126503907"
     },
     "user_tz": -540
    },
    "id": "UhU0_D66vOW6",
    "outputId": "b1c27d5f-a26d-4328-f99f-671ab034878e"
   },
   "outputs": [
    {
     "name": "stdout",
     "output_type": "stream",
     "text": [
      "ab.xls\n",
      "bbbbb.xls\n"
     ]
    }
   ],
   "source": [
    "for 변수 in 리스트:\n",
    "    if 변수.endswith(\"xls\"):\n",
    "        print(변수)"
   ]
  },
  {
   "cell_type": "code",
   "execution_count": 28,
   "metadata": {
    "colab": {
     "base_uri": "https://localhost:8080/"
    },
    "executionInfo": {
     "elapsed": 405,
     "status": "ok",
     "timestamp": 1649900702430,
     "user": {
      "displayName": "Jonghun Yoo",
      "userId": "07020854033126503907"
     },
     "user_tz": -540
    },
    "id": "reK0ozYIvpZj",
    "outputId": "4700a7f0-0343-4249-e612-bdc410a16584"
   },
   "outputs": [
    {
     "data": {
      "text/plain": [
       "True"
      ]
     },
     "execution_count": 28,
     "metadata": {},
     "output_type": "execute_result"
    }
   ],
   "source": [
    "\"xls\"   in   \"abc.xls\""
   ]
  },
  {
   "cell_type": "code",
   "execution_count": 29,
   "metadata": {
    "colab": {
     "base_uri": "https://localhost:8080/"
    },
    "executionInfo": {
     "elapsed": 2,
     "status": "ok",
     "timestamp": 1649900742270,
     "user": {
      "displayName": "Jonghun Yoo",
      "userId": "07020854033126503907"
     },
     "user_tz": -540
    },
    "id": "KozXzYQ5vumw",
    "outputId": "dac70ed5-e6e5-446b-9a81-7e036d13d630"
   },
   "outputs": [
    {
     "name": "stdout",
     "output_type": "stream",
     "text": [
      "ab.xls\n",
      "bbbbb.xls\n"
     ]
    }
   ],
   "source": [
    "for 변수 in 리스트:\n",
    "    if \".xls\" in 변수:\n",
    "        print(변수)"
   ]
  },
  {
   "cell_type": "code",
   "execution_count": 30,
   "metadata": {
    "colab": {
     "base_uri": "https://localhost:8080/"
    },
    "executionInfo": {
     "elapsed": 297,
     "status": "ok",
     "timestamp": 1649900756597,
     "user": {
      "displayName": "Jonghun Yoo",
      "userId": "07020854033126503907"
     },
     "user_tz": -540
    },
    "id": "MtNSGfbZv3YD",
    "outputId": "43ad40df-fba1-4717-ba2a-2fafbe66b170"
   },
   "outputs": [
    {
     "name": "stdout",
     "output_type": "stream",
     "text": [
      "ab.xls\n",
      "bbbbb.xls\n"
     ]
    }
   ],
   "source": [
    "for 변수 in 리스트:\n",
    "    if 변수 [-3: ] == \"xls\":\n",
    "        print(변수)"
   ]
  },
  {
   "cell_type": "code",
   "execution_count": 31,
   "metadata": {
    "id": "UBYLRfbXwC_X"
   },
   "outputs": [],
   "source": [
    "# 결과를 리스트에 저장하라\n",
    "result = [   ]\n",
    "for 변수 in 리스트:\n",
    "    if 변수.endswith(\"xls\"):\n",
    "        result.append(변수)"
   ]
  },
  {
   "cell_type": "markdown",
   "metadata": {
    "id": "RPFKFBmRVvOH"
   },
   "source": [
    "###### 질문. 다음과 같이 작성하면 왜 안되나요?\n",
    "파이썬 문법은 문자열 명령 그대로 비교합니다. 다음 코드는 문자열 \".xls\"와 완벽하게 변수가 같은지를 비교합니다. "
   ]
  },
  {
   "cell_type": "code",
   "execution_count": 32,
   "metadata": {
    "colab": {
     "base_uri": "https://localhost:8080/"
    },
    "executionInfo": {
     "elapsed": 2,
     "status": "ok",
     "timestamp": 1649901175418,
     "user": {
      "displayName": "Jonghun Yoo",
      "userId": "07020854033126503907"
     },
     "user_tz": -540
    },
    "id": "OJCVEzfZwlk6",
    "outputId": "150f0d0a-3223-4e59-aa95-c18497ce8b10"
   },
   "outputs": [
    {
     "name": "stdout",
     "output_type": "stream",
     "text": [
      "[]\n"
     ]
    }
   ],
   "source": [
    "result = [   ]\n",
    "for 변수 in 리스트:\n",
    "  if 변수 == \".xls\":\n",
    "      result.append(변수)\n",
    "print(result)"
   ]
  },
  {
   "cell_type": "markdown",
   "metadata": {
    "id": "TkxFhTLExEqs"
   },
   "source": [
    "###### 질문. 반복을 위해 i 변수를 선언하면 프로그램 종료 전까지 계속 메모리를 점유하고 있나요?\n",
    "코랩 환경에서는 그렇습니다(메모리를 점유 합니다)."
   ]
  },
  {
   "cell_type": "markdown",
   "metadata": {
    "id": "sJYF32qsZr6i"
   },
   "source": [
    "###### 연습문제 - 5\n",
    "반복문을 사용해서 변수에 저장된 종목을 화면에 출력하라.  \n",
    "```\n",
    "보유종목:Naver \n",
    "보유종목:Samsung\n",
    "보유종목:SK Hynix\n",
    "```"
   ]
  },
  {
   "cell_type": "code",
   "execution_count": 33,
   "metadata": {
    "executionInfo": {
     "elapsed": 2,
     "status": "ok",
     "timestamp": 1649910786460,
     "user": {
      "displayName": "Jonghun Yoo",
      "userId": "07020854033126503907"
     },
     "user_tz": -540
    },
    "id": "jNxPtDf6Zr6i"
   },
   "outputs": [],
   "source": [
    "interest_stocks = [\"Naver\", \"Samsung\", \"SK Hynix\"]"
   ]
  },
  {
   "cell_type": "code",
   "execution_count": 34,
   "metadata": {
    "colab": {
     "base_uri": "https://localhost:8080/"
    },
    "executionInfo": {
     "elapsed": 2,
     "status": "ok",
     "timestamp": 1649910813066,
     "user": {
      "displayName": "Jonghun Yoo",
      "userId": "07020854033126503907"
     },
     "user_tz": -540
    },
    "id": "7MWvjksXZr6i",
    "outputId": "2e105bfc-2d81-4a2e-a1c4-a6c2dd071a1b"
   },
   "outputs": [
    {
     "name": "stdout",
     "output_type": "stream",
     "text": [
      "보유종목:Naver\n",
      "보유종목:Samsung\n",
      "보유종목:SK Hynix\n"
     ]
    }
   ],
   "source": [
    "for name in interest_stocks:\n",
    "    print(f\"보유종목:{name}\")"
   ]
  },
  {
   "cell_type": "markdown",
   "metadata": {
    "id": "f1XnCDzEZr6i"
   },
   "source": [
    "###### 연습문제 - 6\n",
    "반복문을 사용해서 변수에 저장된 종목을 화면에 출력하라.  \n",
    "```\n",
    "보유종목:Naver \n",
    "--------------\n",
    "보유종목:Samsung\n",
    "--------------\n",
    "보유종목:SK Hynix\n",
    "--------------\n",
    "```"
   ]
  },
  {
   "cell_type": "code",
   "execution_count": 35,
   "metadata": {
    "colab": {
     "base_uri": "https://localhost:8080/"
    },
    "executionInfo": {
     "elapsed": 256,
     "status": "ok",
     "timestamp": 1649910824761,
     "user": {
      "displayName": "Jonghun Yoo",
      "userId": "07020854033126503907"
     },
     "user_tz": -540
    },
    "id": "TdqN0E3RZr6j",
    "outputId": "cf1430d9-cf7c-4edc-d989-861f870d83d8"
   },
   "outputs": [
    {
     "name": "stdout",
     "output_type": "stream",
     "text": [
      "보유종목:Naver\n",
      "----------\n",
      "보유종목:Samsung\n",
      "----------\n",
      "보유종목:SK Hynix\n",
      "----------\n"
     ]
    }
   ],
   "source": [
    "interest_stocks = [\"Naver\", \"Samsung\", \"SK Hynix\"]\n",
    "for name in interest_stocks:\n",
    "    print(f\"보유종목:{name}\")\n",
    "    print(\"-\" * 10)"
   ]
  },
  {
   "cell_type": "markdown",
   "metadata": {
    "id": "0RPwtstFZr6j"
   },
   "source": [
    "###### 연습문제 - 7\n",
    "반복문을 사용해서 변수에 저장된 종목을 화면에 출력하라.   \n",
    "```\n",
    "1999년 성적: 수 \n",
    "2000년 성적: 양 \n",
    "2001년 성적: 미 \n",
    "2002년 성적: 수 \n",
    "```"
   ]
  },
  {
   "cell_type": "code",
   "execution_count": 36,
   "metadata": {
    "colab": {
     "base_uri": "https://localhost:8080/"
    },
    "executionInfo": {
     "elapsed": 2,
     "status": "ok",
     "timestamp": 1649910864257,
     "user": {
      "displayName": "Jonghun Yoo",
      "userId": "07020854033126503907"
     },
     "user_tz": -540
    },
    "id": "NxqSetNCZr6j",
    "outputId": "22880537-2647-4dee-a9bc-a49757e91d54"
   },
   "outputs": [
    {
     "name": "stdout",
     "output_type": "stream",
     "text": [
      "1999년 성적: 수\n",
      "2000년 성적: 양\n",
      "2001년 성적: 미\n",
      "2002년 성적: 수\n"
     ]
    }
   ],
   "source": [
    "my_grade = [\"1999-수\", \"2000-양\", \"2001-미\", \"2002-수\"]\n",
    "for line in my_grade:\n",
    "    print(f\"{line[:4]}년 성적: {line[-1]}\")  "
   ]
  },
  {
   "cell_type": "markdown",
   "metadata": {
    "id": "PFTZGDrgZr6j"
   },
   "source": [
    "문제 더 풀어보기  \n",
    "- https://wikidocs.net/78562\n",
    "- https://wikidocs.net/7020\n",
    "- https://wikidocs.net/78768"
   ]
  },
  {
   "cell_type": "markdown",
   "metadata": {
    "id": "wyYb7o8RWer9"
   },
   "source": [
    "반복문이 사용되는 실생활 예제 "
   ]
  },
  {
   "cell_type": "code",
   "execution_count": 37,
   "metadata": {
    "colab": {
     "base_uri": "https://localhost:8080/"
    },
    "executionInfo": {
     "elapsed": 5189,
     "status": "ok",
     "timestamp": 1649901235758,
     "user": {
      "displayName": "Jonghun Yoo",
      "userId": "07020854033126503907"
     },
     "user_tz": -540
    },
    "id": "whRaL7GLxnyj",
    "outputId": "97ab9173-933e-4c36-fa94-1c9b1e9d9f6e"
   },
   "outputs": [
    {
     "name": "stdout",
     "output_type": "stream",
     "text": [
      "Collecting pybithumb\n",
      "  Downloading pybithumb-1.0.21-py3-none-any.whl (9.9 kB)\n",
      "Requirement already satisfied: requests in c:\\users\\min\\anaconda3\\lib\\site-packages (from pybithumb) (2.24.0)\n",
      "Collecting bs4\n",
      "  Downloading bs4-0.0.1.tar.gz (1.1 kB)\n",
      "Requirement already satisfied: html5lib in c:\\users\\min\\anaconda3\\lib\\site-packages (from pybithumb) (1.1)\n",
      "Requirement already satisfied: pandas in c:\\users\\min\\anaconda3\\lib\\site-packages (from pybithumb) (1.1.3)\n",
      "Collecting datetime\n",
      "  Downloading DateTime-4.4-py2.py3-none-any.whl (51 kB)\n",
      "Collecting websockets\n",
      "  Downloading websockets-10.3-cp38-cp38-win_amd64.whl (98 kB)\n",
      "Requirement already satisfied: chardet<4,>=3.0.2 in c:\\users\\min\\anaconda3\\lib\\site-packages (from requests->pybithumb) (3.0.4)\n",
      "Requirement already satisfied: idna<3,>=2.5 in c:\\users\\min\\anaconda3\\lib\\site-packages (from requests->pybithumb) (2.10)\n",
      "Requirement already satisfied: certifi>=2017.4.17 in c:\\users\\min\\anaconda3\\lib\\site-packages (from requests->pybithumb) (2021.10.8)\n",
      "Requirement already satisfied: urllib3!=1.25.0,!=1.25.1,<1.26,>=1.21.1 in c:\\users\\min\\anaconda3\\lib\\site-packages (from requests->pybithumb) (1.25.11)\n",
      "Requirement already satisfied: beautifulsoup4 in c:\\users\\min\\anaconda3\\lib\\site-packages (from bs4->pybithumb) (4.9.3)\n",
      "Requirement already satisfied: webencodings in c:\\users\\min\\anaconda3\\lib\\site-packages (from html5lib->pybithumb) (0.5.1)\n",
      "Requirement already satisfied: six>=1.9 in c:\\users\\min\\anaconda3\\lib\\site-packages (from html5lib->pybithumb) (1.15.0)\n",
      "Requirement already satisfied: pytz>=2017.2 in c:\\users\\min\\anaconda3\\lib\\site-packages (from pandas->pybithumb) (2020.1)\n",
      "Requirement already satisfied: numpy>=1.15.4 in c:\\users\\min\\anaconda3\\lib\\site-packages (from pandas->pybithumb) (1.19.2)\n",
      "Requirement already satisfied: python-dateutil>=2.7.3 in c:\\users\\min\\anaconda3\\lib\\site-packages (from pandas->pybithumb) (2.8.1)\n",
      "Requirement already satisfied: zope.interface in c:\\users\\min\\anaconda3\\lib\\site-packages (from datetime->pybithumb) (5.1.2)\n",
      "Requirement already satisfied: soupsieve>1.2; python_version >= \"3.0\" in c:\\users\\min\\anaconda3\\lib\\site-packages (from beautifulsoup4->bs4->pybithumb) (2.0.1)\n",
      "Requirement already satisfied: setuptools in c:\\users\\min\\anaconda3\\lib\\site-packages (from zope.interface->datetime->pybithumb) (50.3.1.post20201107)\n",
      "Building wheels for collected packages: bs4\n",
      "  Building wheel for bs4 (setup.py): started\n",
      "  Building wheel for bs4 (setup.py): finished with status 'done'\n",
      "  Created wheel for bs4: filename=bs4-0.0.1-py3-none-any.whl size=1277 sha256=6c08a9791c3546728e1ed6eba6fd369744f51ba7c34a27f9274cb3e904ba2be6\n",
      "  Stored in directory: c:\\users\\min\\appdata\\local\\pip\\cache\\wheels\\75\\78\\21\\68b124549c9bdc94f822c02fb9aa3578a669843f9767776bca\n",
      "Successfully built bs4\n",
      "Installing collected packages: bs4, datetime, websockets, pybithumb\n",
      "Successfully installed bs4-0.0.1 datetime-4.4 pybithumb-1.0.21 websockets-10.3\n"
     ]
    }
   ],
   "source": [
    "!pip install pybithumb"
   ]
  },
  {
   "cell_type": "code",
   "execution_count": 38,
   "metadata": {
    "colab": {
     "base_uri": "https://localhost:8080/"
    },
    "executionInfo": {
     "elapsed": 687,
     "status": "ok",
     "timestamp": 1649901361269,
     "user": {
      "displayName": "Jonghun Yoo",
      "userId": "07020854033126503907"
     },
     "user_tz": -540
    },
    "id": "EgShXqfgxzM_",
    "outputId": "918ad7ac-ddac-4329-a8c1-dccd4be9ec6c"
   },
   "outputs": [
    {
     "data": {
      "text/plain": [
       "39512000.0"
      ]
     },
     "execution_count": 38,
     "metadata": {},
     "output_type": "execute_result"
    }
   ],
   "source": [
    "import pybithumb\n",
    "import time\n",
    "\n",
    "pybithumb.get_current_price(\"BTC\")"
   ]
  },
  {
   "cell_type": "code",
   "execution_count": 39,
   "metadata": {
    "colab": {
     "base_uri": "https://localhost:8080/"
    },
    "executionInfo": {
     "elapsed": 2865,
     "status": "ok",
     "timestamp": 1649901393481,
     "user": {
      "displayName": "Jonghun Yoo",
      "userId": "07020854033126503907"
     },
     "user_tz": -540
    },
    "id": "QOFUFF7Ax-09",
    "outputId": "b4967ff1-aa37-4309-ab46-835931e99ab9"
   },
   "outputs": [
    {
     "name": "stdout",
     "output_type": "stream",
     "text": [
      "39512000.0\n",
      "522.9\n"
     ]
    }
   ],
   "source": [
    "price = pybithumb.get_current_price(\"BTC\")\n",
    "print(price)\n",
    "time.sleep(1)   # 1초대기\n",
    "\n",
    "price = pybithumb.get_current_price(\"XRP\")\n",
    "print(price)\n",
    "time.sleep(1)  "
   ]
  },
  {
   "cell_type": "code",
   "execution_count": 40,
   "metadata": {
    "colab": {
     "base_uri": "https://localhost:8080/"
    },
    "executionInfo": {
     "elapsed": 2813,
     "status": "ok",
     "timestamp": 1649901472146,
     "user": {
      "displayName": "Jonghun Yoo",
      "userId": "07020854033126503907"
     },
     "user_tz": -540
    },
    "id": "YsLgdiwJZr6j",
    "outputId": "44ed18c0-dd03-4667-d08e-53e21205b24d"
   },
   "outputs": [
    {
     "name": "stdout",
     "output_type": "stream",
     "text": [
      "39512000.0\n",
      "522.9\n"
     ]
    }
   ],
   "source": [
    "for 변수 in [\"BTC\", \"XRP\"]:\n",
    "    price = pybithumb.get_current_price(변수)\n",
    "    print(price)\n",
    "    time.sleep(1)  "
   ]
  },
  {
   "cell_type": "code",
   "execution_count": 41,
   "metadata": {
    "colab": {
     "base_uri": "https://localhost:8080/"
    },
    "executionInfo": {
     "elapsed": 409,
     "status": "ok",
     "timestamp": 1649901527346,
     "user": {
      "displayName": "Jonghun Yoo",
      "userId": "07020854033126503907"
     },
     "user_tz": -540
    },
    "id": "Jd1Ple5wyhyy",
    "outputId": "2c32e153-d95f-4b4d-ae97-ac5ab68289df"
   },
   "outputs": [
    {
     "data": {
      "text/plain": [
       "198"
      ]
     },
     "execution_count": 41,
     "metadata": {},
     "output_type": "execute_result"
    }
   ],
   "source": [
    "tickers = pybithumb.get_tickers()\n",
    "len(tickers)"
   ]
  },
  {
   "cell_type": "code",
   "execution_count": 42,
   "metadata": {
    "colab": {
     "base_uri": "https://localhost:8080/"
    },
    "executionInfo": {
     "elapsed": 4165,
     "status": "ok",
     "timestamp": 1649901613347,
     "user": {
      "displayName": "Jonghun Yoo",
      "userId": "07020854033126503907"
     },
     "user_tz": -540
    },
    "id": "hBDUN5B1ysWK",
    "outputId": "182bc734-e9ca-4eb1-bfb7-a6088776cb08"
   },
   "outputs": [
    {
     "name": "stdout",
     "output_type": "stream",
     "text": [
      "BTC : 39512000.0\n",
      "ETH : 2466000.0\n",
      "LTC : 85800.0\n"
     ]
    }
   ],
   "source": [
    "for 변수 in tickers [:3]  :\n",
    "    price = pybithumb.get_current_price(변수)\n",
    "    print(f\"{변수} : {price}\")\n",
    "    time.sleep(1)  "
   ]
  },
  {
   "cell_type": "code",
   "execution_count": 43,
   "metadata": {
    "colab": {
     "base_uri": "https://localhost:8080/"
    },
    "executionInfo": {
     "elapsed": 2151,
     "status": "ok",
     "timestamp": 1649901922156,
     "user": {
      "displayName": "Jonghun Yoo",
      "userId": "07020854033126503907"
     },
     "user_tz": -540
    },
    "id": "SjJedVCHy6PL",
    "outputId": "176d3ee3-16a8-4a31-aec8-479234a25735"
   },
   "outputs": [
    {
     "name": "stdout",
     "output_type": "stream",
     "text": [
      "BTC : 39529000.0\n",
      "ETH : 2466000.0\n",
      "LTC : 85800.0\n"
     ]
    }
   ],
   "source": [
    "result = [     ]\n",
    "for 변수 in tickers [:3]  :\n",
    "    price = pybithumb.get_current_price(변수)\n",
    "    print(f\"{변수} : {price}\")\n",
    "    result.append(price)\n",
    "    time.sleep(0.1) "
   ]
  },
  {
   "cell_type": "code",
   "execution_count": 44,
   "metadata": {
    "colab": {
     "base_uri": "https://localhost:8080/"
    },
    "executionInfo": {
     "elapsed": 3,
     "status": "ok",
     "timestamp": 1649901713682,
     "user": {
      "displayName": "Jonghun Yoo",
      "userId": "07020854033126503907"
     },
     "user_tz": -540
    },
    "id": "59MrcIFlzhsS",
    "outputId": "cdadc8e6-4f08-4227-d136-e8d9f19c20a2"
   },
   "outputs": [
    {
     "data": {
      "text/plain": [
       "[39529000.0, 2466000.0, 85800.0]"
      ]
     },
     "execution_count": 44,
     "metadata": {},
     "output_type": "execute_result"
    }
   ],
   "source": [
    "result"
   ]
  },
  {
   "cell_type": "code",
   "execution_count": null,
   "metadata": {
    "id": "Okmf20OfzjXC"
   },
   "outputs": [],
   "source": []
  },
  {
   "cell_type": "markdown",
   "metadata": {
    "id": "H62hZHHHz0ib"
   },
   "source": [
    "##### 질문 `for문`은 리스트 갯수만큼만 반복되는건가요?\n",
    "네 데이터 수 만큼 반복해서 들여쓰기된 코드가 실행됩니다. 각각이 실행될 때 데이터를 하나씩 바인딩하구요.\n"
   ]
  },
  {
   "cell_type": "code",
   "execution_count": 45,
   "metadata": {
    "id": "fCvVx-kIz1mC"
   },
   "outputs": [
    {
     "name": "stdout",
     "output_type": "stream",
     "text": [
      "ab.xls\n",
      "a.hwp\n",
      "b.exe\n",
      "bbbbb.xls\n",
      "xls.hwp\n"
     ]
    }
   ],
   "source": [
    "for 변수 in 리스트:\n",
    "    print(변수)        # <----- "
   ]
  },
  {
   "cell_type": "markdown",
   "metadata": {
    "id": "y7lbLsW8z_Wr"
   },
   "source": [
    "###### 질문 print 내부 `f` 역할이 뭔가요\n",
    "`f-string`으로 문자열 포맷팅을 위해 사용합니다. 문자열 이어붙이기 보다 가독성이 좋기 때문에 사용합니다."
   ]
  },
  {
   "cell_type": "code",
   "execution_count": 46,
   "metadata": {
    "colab": {
     "base_uri": "https://localhost:8080/",
     "height": 35
    },
    "executionInfo": {
     "elapsed": 3,
     "status": "ok",
     "timestamp": 1649901864371,
     "user": {
      "displayName": "Jonghun Yoo",
      "userId": "07020854033126503907"
     },
     "user_tz": -540
    },
    "id": "4QnSCH260ArS",
    "outputId": "c1174ac7-56d4-454f-bd70-a26eed2da573"
   },
   "outputs": [
    {
     "data": {
      "text/plain": [
       "'반갑습니다   유종훈'"
      ]
     },
     "execution_count": 46,
     "metadata": {},
     "output_type": "execute_result"
    }
   ],
   "source": [
    "변수 = \"유종훈\"\n",
    "f\"반갑습니다   {변수}\""
   ]
  },
  {
   "cell_type": "code",
   "execution_count": 47,
   "metadata": {
    "colab": {
     "base_uri": "https://localhost:8080/",
     "height": 35
    },
    "executionInfo": {
     "elapsed": 5,
     "status": "ok",
     "timestamp": 1649901875559,
     "user": {
      "displayName": "Jonghun Yoo",
      "userId": "07020854033126503907"
     },
     "user_tz": -540
    },
    "id": "SMuJ0YO00D2r",
    "outputId": "26c60cb8-6b20-4521-ec12-0366bebfa065"
   },
   "outputs": [
    {
     "data": {
      "text/plain": [
       "'반갑습니다유종훈'"
      ]
     },
     "execution_count": 47,
     "metadata": {},
     "output_type": "execute_result"
    }
   ],
   "source": [
    "\"반갑습니다\" + 변수"
   ]
  },
  {
   "cell_type": "markdown",
   "metadata": {
    "id": "8XunkGVpW18R"
   },
   "source": [
    "반복문 `for` 뿐만 아니라 `while`도 있습니다. `while`은 무한히 들여쓰기된 코드를 반복합니다. 온라인 강의를 참고해 주세요"
   ]
  },
  {
   "cell_type": "markdown",
   "metadata": {
    "id": "t5kNWjdU0aa5"
   },
   "source": [
    "```\n",
    "while True:\n",
    "    print(pybithumb.get_current_price(\"BTC\"))\n",
    "    time.sleep(1)\n",
    "```\n"
   ]
  },
  {
   "cell_type": "markdown",
   "metadata": {
    "id": "G-6Uicvb0sR5"
   },
   "source": [
    "전 시간에 인덱싱이랑 슬라이싱 하면서 차이 설명해주셨는데 한번 더 가능할까요? 변수값을 꺼내온다는 내용이요\n",
    "- 인덱싱 : 하나의 데이터를 선택\n",
    "- 슬라이싱 : 하나 이상의 데이터를 선택"
   ]
  },
  {
   "cell_type": "code",
   "execution_count": 48,
   "metadata": {
    "colab": {
     "base_uri": "https://localhost:8080/",
     "height": 35
    },
    "executionInfo": {
     "elapsed": 348,
     "status": "ok",
     "timestamp": 1649902125700,
     "user": {
      "displayName": "Jonghun Yoo",
      "userId": "07020854033126503907"
     },
     "user_tz": -540
    },
    "id": "7HNeQq0b0wsy",
    "outputId": "2fd93d90-3c9e-4080-ed20-4df8b48c11a9"
   },
   "outputs": [
    {
     "data": {
      "text/plain": [
       "'안'"
      ]
     },
     "execution_count": 48,
     "metadata": {},
     "output_type": "execute_result"
    }
   ],
   "source": [
    "문자열 = \"안녕 디지몬\"\n",
    "문자열[  0   ]"
   ]
  },
  {
   "cell_type": "code",
   "execution_count": 49,
   "metadata": {
    "colab": {
     "base_uri": "https://localhost:8080/",
     "height": 35
    },
    "executionInfo": {
     "elapsed": 428,
     "status": "ok",
     "timestamp": 1649902154951,
     "user": {
      "displayName": "Jonghun Yoo",
      "userId": "07020854033126503907"
     },
     "user_tz": -540
    },
    "id": "fD1EGiCK1H6I",
    "outputId": "0f0542ae-81d4-4aa9-c634-06790d321884"
   },
   "outputs": [
    {
     "data": {
      "text/plain": [
       "'안녕'"
      ]
     },
     "execution_count": 49,
     "metadata": {},
     "output_type": "execute_result"
    }
   ],
   "source": [
    "문자열[  0 : 2  ]"
   ]
  },
  {
   "cell_type": "code",
   "execution_count": 50,
   "metadata": {
    "colab": {
     "base_uri": "https://localhost:8080/",
     "height": 35
    },
    "executionInfo": {
     "elapsed": 284,
     "status": "ok",
     "timestamp": 1649902172988,
     "user": {
      "displayName": "Jonghun Yoo",
      "userId": "07020854033126503907"
     },
     "user_tz": -540
    },
    "id": "Gsx3rYLJ1PB6",
    "outputId": "04437b52-8c3a-4d3a-f8b1-ce3e64326ecd"
   },
   "outputs": [
    {
     "data": {
      "text/plain": [
       "'가'"
      ]
     },
     "execution_count": 50,
     "metadata": {},
     "output_type": "execute_result"
    }
   ],
   "source": [
    "리스트 = [\"가\", \"나\", \"다\"]\n",
    "리스트[0]"
   ]
  },
  {
   "cell_type": "code",
   "execution_count": 51,
   "metadata": {
    "colab": {
     "base_uri": "https://localhost:8080/"
    },
    "executionInfo": {
     "elapsed": 442,
     "status": "ok",
     "timestamp": 1649902242157,
     "user": {
      "displayName": "Jonghun Yoo",
      "userId": "07020854033126503907"
     },
     "user_tz": -540
    },
    "id": "h-JHlMmT1Td7",
    "outputId": "e125e6d5-96db-401a-cc2a-11df30603439"
   },
   "outputs": [
    {
     "data": {
      "text/plain": [
       "['가']"
      ]
     },
     "execution_count": 51,
     "metadata": {},
     "output_type": "execute_result"
    }
   ],
   "source": [
    "리스트[0:1]"
   ]
  },
  {
   "cell_type": "markdown",
   "metadata": {
    "id": "GUmfExtl1m7y"
   },
   "source": [
    "리스트를 슬라이싱하면 결과는 리스트 타입  \n",
    "시리즈 슬라이싱하면 결과는 시리즈 타입 (시리즈는 다음주에 배웁니다.)"
   ]
  },
  {
   "cell_type": "code",
   "execution_count": null,
   "metadata": {
    "id": "syLeMMHmW_n_"
   },
   "outputs": [],
   "source": []
  }
 ],
 "metadata": {
  "colab": {
   "collapsed_sections": [],
   "name": "반복문-1.ipynb",
   "provenance": []
  },
  "kernelspec": {
   "display_name": "Python 3",
   "language": "python",
   "name": "python3"
  },
  "language_info": {
   "codemirror_mode": {
    "name": "ipython",
    "version": 3
   },
   "file_extension": ".py",
   "mimetype": "text/x-python",
   "name": "python",
   "nbconvert_exporter": "python",
   "pygments_lexer": "ipython3",
   "version": "3.8.5"
  },
  "toc": {
   "base_numbering": 1,
   "nav_menu": {},
   "number_sections": true,
   "sideBar": true,
   "skip_h1_title": false,
   "title_cell": "Table of Contents",
   "title_sidebar": "Contents",
   "toc_cell": false,
   "toc_position": {},
   "toc_section_display": true,
   "toc_window_display": false
  }
 },
 "nbformat": 4,
 "nbformat_minor": 1
}
