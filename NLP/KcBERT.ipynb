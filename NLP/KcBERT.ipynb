{
 "cells": [
  {
   "cell_type": "markdown",
   "id": "c5d228f4",
   "metadata": {},
   "source": [
    "# KcBert로 한국어 빈칸 채우기"
   ]
  },
  {
   "cell_type": "code",
   "execution_count": 1,
   "id": "f6f73ad3",
   "metadata": {},
   "outputs": [
    {
     "name": "stderr",
     "output_type": "stream",
     "text": [
      "/Users/aiden/opt/anaconda3/lib/python3.8/site-packages/requests/__init__.py:89: RequestsDependencyWarning: urllib3 (1.26.10) or chardet (3.0.4) doesn't match a supported version!\n",
      "  warnings.warn(\"urllib3 ({}) or chardet ({}) doesn't match a supported \"\n"
     ]
    }
   ],
   "source": [
    "from transformers import TFBertForMaskedLM, BertTokenizerFast"
   ]
  },
  {
   "cell_type": "code",
   "execution_count": 2,
   "id": "3602e438",
   "metadata": {},
   "outputs": [
    {
     "name": "stderr",
     "output_type": "stream",
     "text": [
      "Some weights of the PyTorch model were not used when initializing the TF 2.0 model TFBertForMaskedLM: ['cls.predictions.decoder.bias']\n",
      "- This IS expected if you are initializing TFBertForMaskedLM from a PyTorch model trained on another task or with another architecture (e.g. initializing a TFBertForSequenceClassification model from a BertForPreTraining model).\n",
      "- This IS NOT expected if you are initializing TFBertForMaskedLM from a PyTorch model that you expect to be exactly identical (e.g. initializing a TFBertForSequenceClassification model from a BertForSequenceClassification model).\n",
      "All the weights of TFBertForMaskedLM were initialized from the PyTorch model.\n",
      "If your task is similar to the task the model of the checkpoint was trained on, you can already use TFBertForMaskedLM for predictions without further training.\n"
     ]
    }
   ],
   "source": [
    "# kcbert 모델 : Korean Comment BERT\n",
    "# from_pt : pytorch 모델 불러오기\n",
    "model = TFBertForMaskedLM.from_pretrained('beomi/kcbert-base', from_pt=True)"
   ]
  },
  {
   "cell_type": "code",
   "execution_count": 3,
   "id": "fdda43e0",
   "metadata": {},
   "outputs": [],
   "source": [
    "tokenizer = BertTokenizerFast.from_pretrained('beomi/kcbert-base')"
   ]
  },
  {
   "cell_type": "code",
   "execution_count": 4,
   "id": "9315c61a",
   "metadata": {},
   "outputs": [],
   "source": [
    "from transformers import FillMaskPipeline"
   ]
  },
  {
   "cell_type": "code",
   "execution_count": 5,
   "id": "533801b9",
   "metadata": {},
   "outputs": [],
   "source": [
    "pipeline = FillMaskPipeline(model=model, tokenizer=tokenizer)"
   ]
  },
  {
   "cell_type": "code",
   "execution_count": 6,
   "id": "f7ad2eb3",
   "metadata": {},
   "outputs": [
    {
     "data": {
      "text/plain": [
       "[{'score': 0.7888973951339722,\n",
       "  'token': 10015,\n",
       "  'token_str': '좋아하는',\n",
       "  'sequence': '피자는 내가 가장 좋아하는 음식이다.'},\n",
       " {'score': 0.11531553417444229,\n",
       "  'token': 13414,\n",
       "  'token_str': '싫어하는',\n",
       "  'sequence': '피자는 내가 가장 싫어하는 음식이다.'},\n",
       " {'score': 0.03199058771133423,\n",
       "  'token': 10431,\n",
       "  'token_str': '먹는',\n",
       "  'sequence': '피자는 내가 가장 먹는 음식이다.'},\n",
       " {'score': 0.015781069174408913,\n",
       "  'token': 10583,\n",
       "  'token_str': '원하는',\n",
       "  'sequence': '피자는 내가 가장 원하는 음식이다.'},\n",
       " {'score': 0.011102331802248955,\n",
       "  'token': 15098,\n",
       "  'token_str': '사랑하는',\n",
       "  'sequence': '피자는 내가 가장 사랑하는 음식이다.'}]"
      ]
     },
     "execution_count": 6,
     "metadata": {},
     "output_type": "execute_result"
    }
   ],
   "source": [
    "pipeline('피자는 내가 가장 [MASK] 음식이다.')"
   ]
  },
  {
   "cell_type": "code",
   "execution_count": null,
   "id": "7f3562e7",
   "metadata": {},
   "outputs": [],
   "source": []
  },
  {
   "cell_type": "code",
   "execution_count": null,
   "id": "cc28e659",
   "metadata": {},
   "outputs": [],
   "source": []
  }
 ],
 "metadata": {
  "kernelspec": {
   "display_name": "Python 3",
   "language": "python",
   "name": "python3"
  },
  "language_info": {
   "codemirror_mode": {
    "name": "ipython",
    "version": 3
   },
   "file_extension": ".py",
   "mimetype": "text/x-python",
   "name": "python",
   "nbconvert_exporter": "python",
   "pygments_lexer": "ipython3",
   "version": "3.8.8"
  },
  "toc": {
   "base_numbering": 1,
   "nav_menu": {},
   "number_sections": true,
   "sideBar": true,
   "skip_h1_title": false,
   "title_cell": "Table of Contents",
   "title_sidebar": "Contents",
   "toc_cell": false,
   "toc_position": {},
   "toc_section_display": true,
   "toc_window_display": false
  },
  "varInspector": {
   "cols": {
    "lenName": 16,
    "lenType": 16,
    "lenVar": 40
   },
   "kernels_config": {
    "python": {
     "delete_cmd_postfix": "",
     "delete_cmd_prefix": "del ",
     "library": "var_list.py",
     "varRefreshCmd": "print(var_dic_list())"
    },
    "r": {
     "delete_cmd_postfix": ") ",
     "delete_cmd_prefix": "rm(",
     "library": "var_list.r",
     "varRefreshCmd": "cat(var_dic_list()) "
    }
   },
   "types_to_exclude": [
    "module",
    "function",
    "builtin_function_or_method",
    "instance",
    "_Feature"
   ],
   "window_display": false
  }
 },
 "nbformat": 4,
 "nbformat_minor": 5
}
