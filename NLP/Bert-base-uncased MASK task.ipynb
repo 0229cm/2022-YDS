{
 "cells": [
  {
   "cell_type": "code",
   "execution_count": 2,
   "id": "2ea1a65f",
   "metadata": {},
   "outputs": [],
   "source": [
    "# !pip install transformers"
   ]
  },
  {
   "cell_type": "code",
   "execution_count": 1,
   "id": "6a396b13",
   "metadata": {},
   "outputs": [
    {
     "name": "stderr",
     "output_type": "stream",
     "text": [
      "/Users/aiden/opt/anaconda3/lib/python3.8/site-packages/requests/__init__.py:89: RequestsDependencyWarning: urllib3 (1.26.10) or chardet (3.0.4) doesn't match a supported version!\n",
      "  warnings.warn(\"urllib3 ({}) or chardet ({}) doesn't match a supported \"\n"
     ]
    }
   ],
   "source": [
    "import numpy as np\n",
    "import tensorflow as tf\n",
    "from transformers import TFBertForMaskedLM, AutoTokenizer"
   ]
  },
  {
   "cell_type": "markdown",
   "id": "15d302e3",
   "metadata": {},
   "source": [
    "# transformers의 TFBertForMaskedLM 라이브러리 이용해서 빈칸 채우기"
   ]
  },
  {
   "cell_type": "code",
   "execution_count": 3,
   "id": "63884102",
   "metadata": {},
   "outputs": [
    {
     "name": "stderr",
     "output_type": "stream",
     "text": [
      "All model checkpoint layers were used when initializing TFBertForMaskedLM.\n",
      "\n",
      "All the layers of TFBertForMaskedLM were initialized from the model checkpoint at bert-base-uncased.\n",
      "If your task is similar to the task the model of the checkpoint was trained on, you can already use TFBertForMaskedLM for predictions without further training.\n"
     ]
    }
   ],
   "source": [
    "# bert 기본 소문자 모델\n",
    "model = TFBertForMaskedLM.from_pretrained('bert-base-uncased')"
   ]
  },
  {
   "cell_type": "code",
   "execution_count": 2,
   "id": "878e56b2",
   "metadata": {},
   "outputs": [],
   "source": [
    "tokenizer = AutoTokenizer.from_pretrained('bert-base-uncased')"
   ]
  },
  {
   "cell_type": "code",
   "execution_count": 6,
   "id": "49adc711",
   "metadata": {},
   "outputs": [
    {
     "name": "stdout",
     "output_type": "stream",
     "text": [
      "30522\n"
     ]
    },
    {
     "data": {
      "text/plain": [
       "{'detroit': 5626,\n",
       " 'longtime': 11155,\n",
       " 'onion': 20949,\n",
       " 'transporting': 18276,\n",
       " '##見': 30474,\n",
       " 'grins': 20237,\n",
       " 'high': 2152,\n",
       " 'rejection': 13893,\n",
       " 'coordinate': 13530,\n",
       " 'sucker': 26476,\n",
       " '340': 16029,\n",
       " 'fen': 21713,\n",
       " 'ponce': 21085,\n",
       " 'theorists': 28442,\n",
       " '##mada': 23574,\n",
       " 'bk': 23923,\n",
       " '[unused303]': 308,\n",
       " 'pas': 14674,\n",
       " 'nicola': 17388,\n",
       " 'harp': 14601,\n",
       " 'psychiatry': 18420,\n",
       " 'cy': 22330,\n",
       " '##sin': 11493,\n",
       " 'fowler': 14990,\n",
       " '[unused275]': 280,\n",
       " 'grandpa': 15310,\n",
       " '₈': 1555,\n",
       " 'occasional': 8138,\n",
       " '##mouth': 14359,\n",
       " 'repression': 22422,\n",
       " 'finalized': 23575,\n",
       " '##●': 30146,\n",
       " 'schuster': 24253,\n",
       " 'discontinued': 8944,\n",
       " 'α': 1155,\n",
       " 'warrior': 6750,\n",
       " 'slot': 10453,\n",
       " 'hancock': 13849,\n",
       " 'pennsylvania': 3552,\n",
       " 'hayes': 10192,\n",
       " 'subsidiary': 7506,\n",
       " '##pw': 28400,\n",
       " 'gotten': 5407,\n",
       " 'universe': 5304,\n",
       " 'noah': 7240,\n",
       " 'cited': 6563,\n",
       " 'adopt': 11092,\n",
       " 'surveying': 19654,\n",
       " '##dier': 24612,\n",
       " 'hyun': 21108,\n",
       " 'ivy': 7768,\n",
       " 'convergence': 19143,\n",
       " 'flotilla': 17150,\n",
       " 'citizenship': 9068,\n",
       " '##thy': 16921,\n",
       " 'scarcely': 20071,\n",
       " '##kill': 15872,\n",
       " 'reporter': 6398,\n",
       " '##toy': 29578,\n",
       " 'basket': 10810,\n",
       " 'sharma': 14654,\n",
       " 'kellan': 19697,\n",
       " '263': 25246,\n",
       " 'mounds': 19503,\n",
       " 'deeds': 15616,\n",
       " 'hydrogen': 9732,\n",
       " 'forced': 3140,\n",
       " 'those': 2216,\n",
       " 'needs': 3791,\n",
       " 'stephen': 4459,\n",
       " 'thrilling': 26162,\n",
       " 'assistants': 16838,\n",
       " 'trumpets': 26506,\n",
       " 'firth': 25138,\n",
       " 'thumped': 28963,\n",
       " 'democracy': 7072,\n",
       " 'nellie': 25365,\n",
       " 'announce': 14970,\n",
       " 'legal': 3423,\n",
       " 'hodgson': 26107,\n",
       " '##cot': 24310,\n",
       " 'departure': 6712,\n",
       " 'courtship': 28592,\n",
       " '1814': 10977,\n",
       " 'lim': 18525,\n",
       " 'without': 2302,\n",
       " 'terminate': 20320,\n",
       " 'sunglasses': 17072,\n",
       " 'beaumont': 16210,\n",
       " 'parochial': 28773,\n",
       " 'formidable': 18085,\n",
       " 'curl': 15390,\n",
       " 'clapton': 24705,\n",
       " '##(': 29619,\n",
       " 'comparable': 12435,\n",
       " 'shin': 12277,\n",
       " 'scheduled': 5115,\n",
       " '##shing': 12227,\n",
       " 'exotic': 12564,\n",
       " 'syrup': 23353,\n",
       " '##版': 30433,\n",
       " '221': 19594,\n",
       " 'insulted': 23637,\n",
       " 'courtyard': 10119,\n",
       " '##ella': 8411,\n",
       " 'addiction': 13449,\n",
       " 'kumar': 9600,\n",
       " 'spotlight': 17763,\n",
       " 'preached': 21491,\n",
       " 'cords': 24551,\n",
       " 'even': 2130,\n",
       " 'jerome': 11120,\n",
       " 'oceans': 17401,\n",
       " 'spawning': 27957,\n",
       " 'undead': 17315,\n",
       " 'demolition': 12451,\n",
       " 'ง': 1410,\n",
       " 'module': 11336,\n",
       " 'beacon': 14400,\n",
       " 'wreckage': 21056,\n",
       " '陽': 1973,\n",
       " '##minster': 24431,\n",
       " 'rents': 28206,\n",
       " 'tq': 28816,\n",
       " 'oppose': 15391,\n",
       " 'biotechnology': 20353,\n",
       " '##ф': 29749,\n",
       " '2015': 2325,\n",
       " '##meyer': 24344,\n",
       " '##raf': 27528,\n",
       " 'surgeon': 9431,\n",
       " 'silesia': 21872,\n",
       " 'pasta': 24857,\n",
       " 'tasked': 13487,\n",
       " '司': 1791,\n",
       " 'piazza': 22463,\n",
       " 'impossible': 5263,\n",
       " '[unused298]': 303,\n",
       " '##walker': 26965,\n",
       " 'jacksonville': 13057,\n",
       " 'fed': 7349,\n",
       " 'negotiating': 18875,\n",
       " 'ptolemy': 23517,\n",
       " 'yacht': 12187,\n",
       " 'rotational': 25254,\n",
       " 'ripping': 17039,\n",
       " 'raaf': 22709,\n",
       " '1731': 28446,\n",
       " 'perform': 4685,\n",
       " 'java': 9262,\n",
       " '##ppet': 29519,\n",
       " 'quo': 22035,\n",
       " '##し': 30183,\n",
       " 'johannes': 12470,\n",
       " 'spd': 23772,\n",
       " 'hierarchy': 12571,\n",
       " '##irus': 26013,\n",
       " 'renowned': 8228,\n",
       " '1675': 27194,\n",
       " '1894': 6539,\n",
       " 'doubled': 11515,\n",
       " 'bel': 19337,\n",
       " 'faction': 10233,\n",
       " 'aiden': 15086,\n",
       " '##‐': 30048,\n",
       " '♦': 1626,\n",
       " 'carter': 5708,\n",
       " 'ᵍ': 1500,\n",
       " 'maturity': 16736,\n",
       " 'rio': 5673,\n",
       " 'illegitimate': 18102,\n",
       " '##ович': 16198,\n",
       " 'backseat': 19978,\n",
       " '##mission': 25481,\n",
       " 'algebraic': 17390,\n",
       " '##heads': 13038,\n",
       " 'clubs': 4184,\n",
       " '##wai': 21547,\n",
       " 'websites': 11744,\n",
       " 'lied': 9828,\n",
       " 'relinquished': 26566,\n",
       " 'dump': 15653,\n",
       " 'fresno': 20840,\n",
       " 'equally': 8053,\n",
       " 'biologist': 21477,\n",
       " 'sixteenth': 14683,\n",
       " 'administering': 28965,\n",
       " '[unused158]': 163,\n",
       " '##bial': 21102,\n",
       " 'engines': 5209,\n",
       " 'currently': 2747,\n",
       " 'addresses': 11596,\n",
       " 'tea': 5572,\n",
       " 'rochelle': 25649,\n",
       " '##aki': 8978,\n",
       " 'res': 24501,\n",
       " 'clinical': 6612,\n",
       " 'hauling': 23113,\n",
       " 'typical': 5171,\n",
       " 'mahmoud': 27278,\n",
       " 'were': 2020,\n",
       " '1848': 7993,\n",
       " 'gases': 15865,\n",
       " 'powered': 6113,\n",
       " 'surf': 14175,\n",
       " '##आ': 29848,\n",
       " 'embodied': 25405,\n",
       " 'steps': 4084,\n",
       " 'vishnu': 17647,\n",
       " 'bull': 7087,\n",
       " 'superintendent': 9133,\n",
       " 'organization': 3029,\n",
       " 'devils': 13664,\n",
       " 'praying': 14488,\n",
       " 'bryson': 26845,\n",
       " 'myers': 13854,\n",
       " 'axel': 18586,\n",
       " '[unused837]': 842,\n",
       " 'tessa': 13167,\n",
       " 'grandson': 7631,\n",
       " '##anto': 21634,\n",
       " 'meade': 26501,\n",
       " 'fog': 9666,\n",
       " 'justice': 3425,\n",
       " 'sal': 16183,\n",
       " 'quad': 17718,\n",
       " 'conserve': 27749,\n",
       " '##mbs': 29232,\n",
       " 'swaying': 21826,\n",
       " 'disagreements': 23145,\n",
       " 'pondered': 28347,\n",
       " 'offensive': 5805,\n",
       " '##erus': 21608,\n",
       " 'advisory': 7319,\n",
       " 'kyle': 7648,\n",
       " 'adapted': 5967,\n",
       " 'composed': 3605,\n",
       " 'doctorate': 8972,\n",
       " 'architectural': 6549,\n",
       " 'transaction': 12598,\n",
       " 'nationals': 10342,\n",
       " 'announces': 17472,\n",
       " 'tunic': 23002,\n",
       " 'invaders': 17347,\n",
       " 'partisan': 14254,\n",
       " 'monde': 23117,\n",
       " 'waldo': 28806,\n",
       " '##ω': 29739,\n",
       " 'michael': 2745,\n",
       " '##yuan': 17236,\n",
       " 'hygiene': 19548,\n",
       " 'hickory': 28158,\n",
       " 'cotton': 6557,\n",
       " 'raked': 22438,\n",
       " 'braking': 24427,\n",
       " 'audition': 14597,\n",
       " 'britney': 29168,\n",
       " 'destroyers': 13242,\n",
       " 'chu': 14684,\n",
       " 'promised': 5763,\n",
       " '##森': 30408,\n",
       " 'cecilia': 18459,\n",
       " 'imprisonment': 10219,\n",
       " 'denial': 14920,\n",
       " 'es': 9686,\n",
       " 'khan': 4967,\n",
       " '##idal': 16975,\n",
       " 'grows': 7502,\n",
       " 'ioc': 25941,\n",
       " 'laying': 10201,\n",
       " 'individually': 14258,\n",
       " 'organising': 21317,\n",
       " 'relationship': 3276,\n",
       " 'honest': 7481,\n",
       " 'clemson': 25906,\n",
       " 'gay': 5637,\n",
       " 'fishing': 5645,\n",
       " 'redesignated': 11836,\n",
       " '630': 23609,\n",
       " 'beige': 28799,\n",
       " 'axis': 8123,\n",
       " 'reclaim': 24104,\n",
       " 'security': 3036,\n",
       " '##crats': 23423,\n",
       " '##gated': 11644,\n",
       " 'sloppy': 28810,\n",
       " 'lyric': 13677,\n",
       " 'bathrooms': 28942,\n",
       " '##на': 19865,\n",
       " '##castle': 23662,\n",
       " '##ন': 29902,\n",
       " 'season': 2161,\n",
       " 'heinrich': 10952,\n",
       " '##ι': 18199,\n",
       " 'homeland': 10759,\n",
       " 'nothing': 2498,\n",
       " 'flashed': 8373,\n",
       " '##cent': 13013,\n",
       " 'peg': 25039,\n",
       " 'wine': 4511,\n",
       " '##石': 30448,\n",
       " 'battled': 19787,\n",
       " 'debbie': 16391,\n",
       " 'freedoms': 22467,\n",
       " 'match': 2674,\n",
       " '##orus': 21694,\n",
       " 'dog': 3899,\n",
       " 'climatic': 27301,\n",
       " 'vols': 18709,\n",
       " 'journeys': 19147,\n",
       " 'reflects': 11138,\n",
       " 'pronunciation': 15498,\n",
       " 'manuscript': 8356,\n",
       " 'nova': 6846,\n",
       " 'men': 2273,\n",
       " 'brave': 9191,\n",
       " 'bmw': 13154,\n",
       " 'amidst': 17171,\n",
       " 'correction': 18140,\n",
       " 'chargers': 18649,\n",
       " 'applied': 4162,\n",
       " '##45': 19961,\n",
       " 'engineers': 6145,\n",
       " 'undoubtedly': 17319,\n",
       " 'chapter': 3127,\n",
       " 'spokesman': 14056,\n",
       " 'josie': 15293,\n",
       " '[unused165]': 170,\n",
       " 'treatise': 15326,\n",
       " '##lellan': 25839,\n",
       " '##↑': 30112,\n",
       " '[unused97]': 98,\n",
       " 'sophie': 8234,\n",
       " 'messing': 22308,\n",
       " 'realistic': 12689,\n",
       " 'vowel': 12710,\n",
       " 'ruth': 7920,\n",
       " '##tage': 26702,\n",
       " 'closing': 5494,\n",
       " '[unused161]': 166,\n",
       " 'relatives': 9064,\n",
       " 'finale': 9599,\n",
       " 'ramsay': 19460,\n",
       " 'angelo': 12262,\n",
       " 'refrigerator': 18097,\n",
       " '##aur': 21159,\n",
       " 'preserved': 6560,\n",
       " 'creeks': 24974,\n",
       " '##ood': 17139,\n",
       " '##॥': 29881,\n",
       " 'treasurer': 10211,\n",
       " '##我': 30381,\n",
       " 'broader': 12368,\n",
       " '##zoo': 23221,\n",
       " 'secondary': 3905,\n",
       " 'crop': 10416,\n",
       " 'with': 2007,\n",
       " 'hoover': 17443,\n",
       " 'three': 2093,\n",
       " '##ities': 6447,\n",
       " 'conception': 13120,\n",
       " '##scoe': 28147,\n",
       " '##tal': 9080,\n",
       " 'bungalow': 27563,\n",
       " '##yana': 16811,\n",
       " 'milano': 21613,\n",
       " 'hue': 20639,\n",
       " 'presumed': 14609,\n",
       " '三': 1741,\n",
       " 'clare': 11152,\n",
       " 'geelong': 18664,\n",
       " '##ult': 11314,\n",
       " 'stipulated': 25729,\n",
       " 'sculptors': 28417,\n",
       " 'gameplay': 11247,\n",
       " 'obedience': 22645,\n",
       " '[unused790]': 795,\n",
       " '[unused419]': 424,\n",
       " 'icelandic': 14024,\n",
       " 'christchurch': 15880,\n",
       " 'exhibits': 10637,\n",
       " 'cleaner': 20133,\n",
       " 'foreword': 23059,\n",
       " 'plane': 4946,\n",
       " 'incorporating': 13543,\n",
       " 'mp': 6131,\n",
       " 'contested': 7259,\n",
       " '[unused537]': 542,\n",
       " '2019': 10476,\n",
       " 'lax': 27327,\n",
       " '[unused13]': 14,\n",
       " 'flame': 8457,\n",
       " '153': 16710,\n",
       " 'katy': 17870,\n",
       " '##quel': 22197,\n",
       " '##fra': 27843,\n",
       " 'kennedy': 5817,\n",
       " '##paper': 23298,\n",
       " 'influenced': 5105,\n",
       " 'vc': 18315,\n",
       " 'holder': 9111,\n",
       " '##dict': 29201,\n",
       " 'wen': 19181,\n",
       " '1679': 27924,\n",
       " 'joey': 9558,\n",
       " 'tribune': 10969,\n",
       " 'mari': 16266,\n",
       " 'willoughby': 24919,\n",
       " 'luke': 5355,\n",
       " 'drugs': 5850,\n",
       " 'maxim': 20446,\n",
       " 'stables': 16232,\n",
       " 'defensive': 5600,\n",
       " 'collingwood': 20044,\n",
       " '[unused865]': 870,\n",
       " 'australians': 15739,\n",
       " 'emancipation': 22656,\n",
       " 'tribes': 6946,\n",
       " '##stra': 20528,\n",
       " '##tub': 28251,\n",
       " 'archers': 23118,\n",
       " 'stephens': 15037,\n",
       " 'deteriorated': 20111,\n",
       " '[unused155]': 160,\n",
       " 'electoral': 6092,\n",
       " 'bottom': 3953,\n",
       " 'hazardous': 17760,\n",
       " 'grasp': 10616,\n",
       " 'magnet': 16853,\n",
       " 'ceo': 5766,\n",
       " 'duval': 23929,\n",
       " 'bhutan': 18768,\n",
       " 'maximize': 25845,\n",
       " '##ء': 29815,\n",
       " 'presented': 3591,\n",
       " 'greatly': 6551,\n",
       " 'derive': 18547,\n",
       " 'fungi': 15289,\n",
       " 'patch': 8983,\n",
       " 'lcd': 27662,\n",
       " 'complications': 12763,\n",
       " 'abigail': 15983,\n",
       " 'customary': 16120,\n",
       " 'peppers': 23582,\n",
       " 'bromwich': 27888,\n",
       " 'allmusic': 10477,\n",
       " 'listened': 7791,\n",
       " 'ee': 25212,\n",
       " 'eugen': 29273,\n",
       " '##49': 26224,\n",
       " '1999': 2639,\n",
       " 'bonded': 20886,\n",
       " 'montpellier': 28153,\n",
       " '##mming': 25057,\n",
       " '##owski': 15249,\n",
       " 'autobiographical': 18534,\n",
       " 'drives': 9297,\n",
       " 'switched': 7237,\n",
       " 'boiler': 15635,\n",
       " '₎': 1559,\n",
       " 'abbot': 11428,\n",
       " 'genocide': 14052,\n",
       " '82': 6445,\n",
       " '##ն': 29778,\n",
       " 'embraced': 14218,\n",
       " 'militants': 17671,\n",
       " 'overturned': 17068,\n",
       " 'turkic': 22926,\n",
       " 'grease': 21956,\n",
       " 'concentration': 6693,\n",
       " 'taped': 19374,\n",
       " 'extract': 14817,\n",
       " '##ᶜ': 30046,\n",
       " 'assets': 7045,\n",
       " '215': 17405,\n",
       " '430': 19540,\n",
       " 'peninsula': 6000,\n",
       " 'assassins': 18364,\n",
       " '##logies': 21615,\n",
       " 'void': 11675,\n",
       " '395': 24673,\n",
       " 'judgments': 26186,\n",
       " 'atlantic': 4448,\n",
       " 'linda': 8507,\n",
       " '##iques': 19516,\n",
       " '##itte': 27100,\n",
       " '##rained': 27361,\n",
       " 'securely': 28999,\n",
       " 'accompaniment': 22205,\n",
       " '##sburg': 9695,\n",
       " 'vaguely': 15221,\n",
       " 'bulletin': 13146,\n",
       " '##«': 29654,\n",
       " 'seasoned': 28223,\n",
       " 'baja': 19497,\n",
       " '385': 24429,\n",
       " 'rhodesia': 20340,\n",
       " 'grassy': 22221,\n",
       " 'going': 2183,\n",
       " 'pei': 26850,\n",
       " '##act': 18908,\n",
       " '##hul': 21886,\n",
       " 'bukit': 29007,\n",
       " 'boundaries': 7372,\n",
       " 'wagner': 10304,\n",
       " '##·': 29661,\n",
       " 'stanisław': 26133,\n",
       " '[unused244]': 249,\n",
       " 'shock': 5213,\n",
       " '##mal': 9067,\n",
       " 'herds': 28822,\n",
       " '1797': 14112,\n",
       " 'retrieve': 12850,\n",
       " 'illuminating': 27816,\n",
       " 'houghton': 21234,\n",
       " 'gloucester': 13370,\n",
       " '##jected': 24455,\n",
       " 'rasped': 28459,\n",
       " 'as': 2004,\n",
       " 'spade': 23288,\n",
       " 'clones': 24418,\n",
       " 'inward': 20546,\n",
       " 'fancy': 11281,\n",
       " 'brackets': 19719,\n",
       " 'variables': 10857,\n",
       " '265': 20549,\n",
       " 'regain': 12452,\n",
       " 'wary': 15705,\n",
       " 'ark': 15745,\n",
       " '##ო': 29986,\n",
       " 'oblivion': 24034,\n",
       " 'yellowstone': 29231,\n",
       " 'ski': 8301,\n",
       " '[unused881]': 886,\n",
       " 'lennox': 21060,\n",
       " 'ascended': 19644,\n",
       " 'stitches': 25343,\n",
       " 'interstate': 7553,\n",
       " 'nara': 27544,\n",
       " 'disease': 4295,\n",
       " 'windshield': 19521,\n",
       " 'leadership': 4105,\n",
       " '¦': 1072,\n",
       " '\"': 1000,\n",
       " '##watch': 18866,\n",
       " '[unused71]': 72,\n",
       " 'ethanol': 22886,\n",
       " '[unused870]': 875,\n",
       " 'partition': 13571,\n",
       " 'ignoring': 9217,\n",
       " '220': 10545,\n",
       " 'brighton': 10309,\n",
       " 'footsteps': 9717,\n",
       " '##mas': 9335,\n",
       " 'woman': 2450,\n",
       " 'entity': 9178,\n",
       " 'priority': 9470,\n",
       " 'hurley': 25124,\n",
       " 'dew': 24903,\n",
       " 'contrasts': 23347,\n",
       " 'trance': 16588,\n",
       " 'addressing': 12786,\n",
       " 'disturbances': 24535,\n",
       " '##weather': 28949,\n",
       " '##erative': 25284,\n",
       " '##oxide': 28479,\n",
       " 'rv': 27634,\n",
       " 'theta': 23963,\n",
       " 'capped': 13880,\n",
       " 'rebels': 8431,\n",
       " '402': 28048,\n",
       " 'union': 2586,\n",
       " 'bid': 7226,\n",
       " '##ible': 7028,\n",
       " 'round': 2461,\n",
       " 'seemingly': 9428,\n",
       " 'bugs': 12883,\n",
       " 'kashmir': 13329,\n",
       " 'tapped': 10410,\n",
       " 'breakout': 25129,\n",
       " 'tugging': 17100,\n",
       " '##cke': 19869,\n",
       " 'conducting': 9283,\n",
       " 'vain': 15784,\n",
       " 'wilhelm': 9070,\n",
       " 'sri': 5185,\n",
       " '[unused492]': 497,\n",
       " 'detention': 12345,\n",
       " 'contradictory': 27894,\n",
       " 'thinks': 6732,\n",
       " 'deepest': 17578,\n",
       " '##の': 30197,\n",
       " 'ruined': 9868,\n",
       " 'sequences': 10071,\n",
       " '1732': 27582,\n",
       " 'cromwell': 16759,\n",
       " '##sten': 16173,\n",
       " 'wade': 10653,\n",
       " 'glazed': 19724,\n",
       " '##$': 29615,\n",
       " 'policeman': 14460,\n",
       " 'performing': 4488,\n",
       " 'exploring': 11131,\n",
       " 'lankan': 16159,\n",
       " 'regardless': 7539,\n",
       " '32nd': 20628,\n",
       " '##screen': 18182,\n",
       " 'constructed': 3833,\n",
       " 'samson': 18375,\n",
       " 'buffer': 17698,\n",
       " 'debates': 14379,\n",
       " '##bic': 13592,\n",
       " 'refined': 15514,\n",
       " 'summit': 6465,\n",
       " 'contributors': 16884,\n",
       " 'abc': 5925,\n",
       " 'utopia': 26425,\n",
       " 'astro': 28625,\n",
       " 'registration': 8819,\n",
       " 'premiered': 5885,\n",
       " 'farewell': 13407,\n",
       " 'crow': 11465,\n",
       " 'literary': 4706,\n",
       " '##cin': 15459,\n",
       " 'mohammad': 12050,\n",
       " 'slash': 18296,\n",
       " 'blast': 8479,\n",
       " 'councillor': 10674,\n",
       " 'diane': 12082,\n",
       " '##ncies': 14767,\n",
       " '##uration': 18924,\n",
       " 'well': 2092,\n",
       " 'fabulous': 18783,\n",
       " 'bloomington': 26372,\n",
       " 'mexican': 4916,\n",
       " 'fries': 22201,\n",
       " 'boo': 22017,\n",
       " '巿': 1837,\n",
       " 'reference': 4431,\n",
       " '##扌': 30385,\n",
       " 'elders': 13376,\n",
       " 'roberta': 23455,\n",
       " 'list': 2862,\n",
       " 'volcanoes': 23694,\n",
       " '##guide': 28582,\n",
       " '##ᄎ': 30001,\n",
       " '##ast': 14083,\n",
       " 'matter': 3043,\n",
       " 'premio': 23031,\n",
       " 'said': 2056,\n",
       " 'adjust': 14171,\n",
       " 'enriched': 25202,\n",
       " 'bain': 28477,\n",
       " '[unused785]': 790,\n",
       " 'survived': 5175,\n",
       " 'alias': 14593,\n",
       " 'rr': 25269,\n",
       " 'dumb': 12873,\n",
       " 'conan': 16608,\n",
       " 'eta': 27859,\n",
       " 'parentheses': 27393,\n",
       " 'reverend': 10547,\n",
       " '[unused767]': 772,\n",
       " 'vault': 11632,\n",
       " 'rejoined': 14311,\n",
       " 'pilasters': 26752,\n",
       " '##thing': 20744,\n",
       " 'morley': 20653,\n",
       " 'stephane': 26624,\n",
       " 'puebla': 27452,\n",
       " 'desirable': 16166,\n",
       " 'supermarket': 17006,\n",
       " 'prayer': 7083,\n",
       " 'affiliation': 12912,\n",
       " 'mortal': 9801,\n",
       " '##or': 2953,\n",
       " 'file': 5371,\n",
       " '1868': 7582,\n",
       " 'psychological': 8317,\n",
       " 'religions': 11822,\n",
       " '##33': 22394,\n",
       " '##be': 4783,\n",
       " 'secession': 22965,\n",
       " '[unused799]': 804,\n",
       " '##kot': 23342,\n",
       " '##,': 29623,\n",
       " 'smashed': 14368,\n",
       " 'ribbon': 10557,\n",
       " 'eaten': 8828,\n",
       " 'ancestral': 14947,\n",
       " '##heimer': 18826,\n",
       " '1898': 6068,\n",
       " 'casting': 9179,\n",
       " 'compose': 17202,\n",
       " 'guitar': 2858,\n",
       " 'coyote': 20457,\n",
       " '[unused113]': 118,\n",
       " 'converting': 16401,\n",
       " 'senses': 9456,\n",
       " '##₂': 8229,\n",
       " 'morrison': 9959,\n",
       " 'erie': 13374,\n",
       " 'iris': 11173,\n",
       " 'highs': 26836,\n",
       " '##iti': 25090,\n",
       " '##uj': 23049,\n",
       " 'palmer': 8809,\n",
       " 'apologize': 12134,\n",
       " 'tops': 13284,\n",
       " 'hugs': 24459,\n",
       " 'sandwiches': 22094,\n",
       " 'deliver': 8116,\n",
       " '1646': 28783,\n",
       " 'tyrol': 27193,\n",
       " 'snail': 10879,\n",
       " 'woodstock': 21028,\n",
       " 'questioning': 11242,\n",
       " 'arching': 27335,\n",
       " 'frantically': 16460,\n",
       " '[unused323]': 328,\n",
       " 'drift': 11852,\n",
       " 'spur': 12996,\n",
       " 'bait': 17395,\n",
       " 'filling': 8110,\n",
       " 'showcasing': 27696,\n",
       " 'kinds': 7957,\n",
       " 'voice': 2376,\n",
       " 'counties': 5721,\n",
       " '##ᆷ': 30023,\n",
       " 'chieftain': 26625,\n",
       " 'millions': 8817,\n",
       " 'easing': 24070,\n",
       " 'quarterfinal': 29380,\n",
       " '[unused754]': 759,\n",
       " 'whitish': 16800,\n",
       " 'maddie': 17805,\n",
       " 'argent': 23157,\n",
       " 'mercy': 8673,\n",
       " 'preparations': 12929,\n",
       " 'scarf': 18982,\n",
       " 'seminar': 18014,\n",
       " 'scanner': 26221,\n",
       " 'dragoons': 28069,\n",
       " 'climbed': 6589,\n",
       " 'entitled': 4709,\n",
       " 'graceful': 19415,\n",
       " '##ow': 5004,\n",
       " 'above': 2682,\n",
       " 'pointed': 4197,\n",
       " 'sloping': 24724,\n",
       " 'nickname': 8367,\n",
       " 'doubling': 19383,\n",
       " 'superseded': 19886,\n",
       " '##7th': 27506,\n",
       " 'ulrich': 19619,\n",
       " 'formats': 11630,\n",
       " 'mandarin': 15831,\n",
       " 'tristan': 9822,\n",
       " 'prompt': 25732,\n",
       " 'calmly': 12885,\n",
       " '##hani': 23573,\n",
       " 'stefano': 19618,\n",
       " '##ع': 29830,\n",
       " 'southeastern': 8252,\n",
       " 'right': 2157,\n",
       " 'chasing': 11777,\n",
       " '190': 11827,\n",
       " '[unused135]': 140,\n",
       " 'wendy': 12815,\n",
       " 'nr': 17212,\n",
       " 'among': 2426,\n",
       " 'panties': 12095,\n",
       " 'saul': 16897,\n",
       " '##／': 30518,\n",
       " '##inal': 13290,\n",
       " 'cousin': 5542,\n",
       " 'burlington': 15552,\n",
       " 'dazzling': 28190,\n",
       " 'situ': 26179,\n",
       " 'fought': 4061,\n",
       " 'santana': 21158,\n",
       " 'amplifier': 22686,\n",
       " 'consonants': 19694,\n",
       " '##olate': 19425,\n",
       " 'venice': 7914,\n",
       " 'magician': 16669,\n",
       " 'veteran': 8003,\n",
       " 'zoe': 11199,\n",
       " 'hugging': 17662,\n",
       " 'dread': 14436,\n",
       " 'spike': 9997,\n",
       " 'ordinary': 6623,\n",
       " 'pagan': 14318,\n",
       " 'pacific': 3534,\n",
       " 'reluctance': 21662,\n",
       " 'reelection': 17648,\n",
       " 'ledge': 18283,\n",
       " '##hering': 22658,\n",
       " '##uder': 29190,\n",
       " 'blanc': 18698,\n",
       " '[unused540]': 545,\n",
       " '##erina': 26052,\n",
       " '##sdale': 15145,\n",
       " 'isolate': 27152,\n",
       " 'conduct': 6204,\n",
       " 'vacant': 10030,\n",
       " 'preface': 18443,\n",
       " 'wrapped': 5058,\n",
       " 'locals': 10575,\n",
       " 'overlook': 27590,\n",
       " 'solemnly': 26294,\n",
       " '##rg': 10623,\n",
       " 'williams': 3766,\n",
       " 'heated': 9685,\n",
       " '[unused198]': 203,\n",
       " '##hman': 13890,\n",
       " 'reckon': 29072,\n",
       " 'applicant': 23761,\n",
       " '[unused473]': 478,\n",
       " '##world': 11108,\n",
       " 'footed': 28856,\n",
       " 'darmstadt': 28381,\n",
       " '##cic': 19053,\n",
       " 'mae': 11530,\n",
       " 'heart': 2540,\n",
       " 'rooted': 15685,\n",
       " 'caution': 14046,\n",
       " 'shillings': 29332,\n",
       " 'ezra': 16245,\n",
       " 'eclectic': 20551,\n",
       " 'pasadena': 18880,\n",
       " 'thirteen': 7093,\n",
       " '1957': 3890,\n",
       " 'shiva': 12535,\n",
       " '##books': 17470,\n",
       " 'swan': 10677,\n",
       " 'quickly': 2855,\n",
       " '##nae': 17452,\n",
       " 'ර': 1405,\n",
       " 'both': 2119,\n",
       " 'prosperity': 14165,\n",
       " 'space': 2686,\n",
       " '##dit': 23194,\n",
       " '##cp': 21906,\n",
       " 'parades': 26635,\n",
       " 'ff': 21461,\n",
       " 'dining': 7759,\n",
       " 'april': 2258,\n",
       " 'devised': 14917,\n",
       " 'beast': 6841,\n",
       " 'edo': 18314,\n",
       " 'dominate': 16083,\n",
       " '##三': 30267,\n",
       " 'horizontally': 23190,\n",
       " 'naked': 6248,\n",
       " 'newark': 12948,\n",
       " 'hiroshima': 20168,\n",
       " '[unused653]': 658,\n",
       " 'competitors': 10159,\n",
       " '##ت': 29817,\n",
       " 'zachary': 19474,\n",
       " 'hung': 5112,\n",
       " 'incoming': 14932,\n",
       " '示': 1923,\n",
       " 'cyclists': 21912,\n",
       " 'heavier': 11907,\n",
       " 'allegiance': 14588,\n",
       " 'harmonica': 16527,\n",
       " 'forehead': 6130,\n",
       " '##fle': 21031,\n",
       " '##oka': 12352,\n",
       " 'formulated': 19788,\n",
       " 'seth': 6662,\n",
       " 'magdalena': 23984,\n",
       " 'fusion': 10077,\n",
       " 'ratings': 8599,\n",
       " 'totaled': 23596,\n",
       " '##pt': 13876,\n",
       " 'aisles': 25442,\n",
       " 'attire': 20426,\n",
       " 'worse': 4788,\n",
       " 'defenses': 13345,\n",
       " 'fusiliers': 27207,\n",
       " '##tty': 15353,\n",
       " 'bubba': 19606,\n",
       " '##bury': 4917,\n",
       " '##reate': 29313,\n",
       " '160': 8148,\n",
       " '##5': 2629,\n",
       " '[unused2]': 3,\n",
       " '##dez': 24601,\n",
       " 'part': 2112,\n",
       " 'テ': 1713,\n",
       " 'sincerely': 25664,\n",
       " 'smoothed': 17966,\n",
       " 'tunis': 25317,\n",
       " '##typical': 27086,\n",
       " 'sergeant': 6722,\n",
       " 'precise': 10480,\n",
       " '##eed': 13089,\n",
       " 'bitten': 19026,\n",
       " 'band': 2316,\n",
       " 'pointing': 7302,\n",
       " 'structurally': 29060,\n",
       " 'cb': 17324,\n",
       " 'ր': 1237,\n",
       " 'slovakia': 10991,\n",
       " '##mist': 23738,\n",
       " 'northwards': 27592,\n",
       " 'surfer': 27747,\n",
       " '[unused774]': 779,\n",
       " 'honor': 3932,\n",
       " 'hayden': 13872,\n",
       " 'carvings': 22838,\n",
       " 'ahl': 18347,\n",
       " 'abby': 9460,\n",
       " 'outnumbered': 21943,\n",
       " 'georgian': 9166,\n",
       " '##day': 10259,\n",
       " 'eliminate': 11027,\n",
       " '[unused173]': 178,\n",
       " 'culminated': 16943,\n",
       " 'rooftop': 23308,\n",
       " 'nationally': 9582,\n",
       " '##ж': 29743,\n",
       " '[unused336]': 341,\n",
       " '##mus': 7606,\n",
       " 'pokemon': 20421,\n",
       " 'tonic': 28157,\n",
       " 'magnetic': 8060,\n",
       " 'grit': 24842,\n",
       " 'championships': 3219,\n",
       " 'fuzzy': 18001,\n",
       " '##rlin': 19403,\n",
       " '##odies': 27391,\n",
       " 'houses': 3506,\n",
       " 'ח': 1248,\n",
       " 'squire': 21263,\n",
       " 'luciano': 24512,\n",
       " 'uniform': 6375,\n",
       " '##dalen': 26414,\n",
       " 'floor': 2723,\n",
       " 'foreign': 3097,\n",
       " 'traversed': 27797,\n",
       " '##hane': 28006,\n",
       " '−': 1597,\n",
       " 'macedonia': 11492,\n",
       " 'hurricane': 7064,\n",
       " 'sanctioned': 14755,\n",
       " '1702': 26776,\n",
       " 'patty': 17798,\n",
       " 'enthusiasts': 20305,\n",
       " 'mcleod': 25363,\n",
       " 'levels': 3798,\n",
       " '##itan': 25451,\n",
       " 'salary': 10300,\n",
       " '##boat': 11975,\n",
       " '[unused788]': 793,\n",
       " '##ன': 29923,\n",
       " '##lier': 14355,\n",
       " 'pencil': 14745,\n",
       " 'expeditionary': 15372,\n",
       " 'czech': 5569,\n",
       " 'ceded': 19705,\n",
       " 'arrondissement': 20522,\n",
       " 'holm': 28925,\n",
       " 'papyrus': 29575,\n",
       " 'slightest': 15989,\n",
       " 'sovereignty': 12601,\n",
       " '##alia': 22786,\n",
       " '##ioms': 29178,\n",
       " 'rate': 3446,\n",
       " 'shire': 13182,\n",
       " '##nstein': 15493,\n",
       " 'kept': 2921,\n",
       " 'satisfying': 17087,\n",
       " 'escorting': 23831,\n",
       " 'hamburger': 24575,\n",
       " 'recommends': 26021,\n",
       " 'ching': 19992,\n",
       " 'brand': 4435,\n",
       " 'nervous': 6091,\n",
       " '##lean': 20898,\n",
       " 'fucked': 21746,\n",
       " 'narcotics': 27290,\n",
       " '##wicz': 21355,\n",
       " 'eureka': 21142,\n",
       " 'shifting': 9564,\n",
       " '##pheus': 22809,\n",
       " '161': 17365,\n",
       " 'chelsea': 9295,\n",
       " '##rger': 25858,\n",
       " 'gavin': 9448,\n",
       " 'artisans': 26818,\n",
       " 'cebu': 23312,\n",
       " '##yla': 23943,\n",
       " '##yala': 28617,\n",
       " '##lino': 25226,\n",
       " '[unused888]': 893,\n",
       " 'degradation': 16627,\n",
       " ...}"
      ]
     },
     "execution_count": 6,
     "metadata": {},
     "output_type": "execute_result"
    }
   ],
   "source": [
    "# word2ind와 ind2word\n",
    "vocab = tokenizer.get_vocab()\n",
    "\n",
    "print(len(vocab))\n",
    "vocab"
   ]
  },
  {
   "cell_type": "code",
   "execution_count": 15,
   "id": "fe77f3ab",
   "metadata": {},
   "outputs": [
    {
     "data": {
      "text/plain": [
       "103"
      ]
     },
     "execution_count": 15,
     "metadata": {},
     "output_type": "execute_result"
    }
   ],
   "source": [
    "vocab['[MASK]']"
   ]
  },
  {
   "cell_type": "code",
   "execution_count": 10,
   "id": "1193f08e",
   "metadata": {},
   "outputs": [
    {
     "data": {
      "text/plain": [
       "5626"
      ]
     },
     "execution_count": 10,
     "metadata": {},
     "output_type": "execute_result"
    }
   ],
   "source": [
    "vocab['detroit']"
   ]
  },
  {
   "cell_type": "code",
   "execution_count": 7,
   "id": "2e156e93",
   "metadata": {},
   "outputs": [],
   "source": [
    "# index to word\n",
    "ind2word = {i: word for word, i in vocab.items()}"
   ]
  },
  {
   "cell_type": "code",
   "execution_count": 9,
   "id": "d16eef24",
   "metadata": {},
   "outputs": [
    {
     "data": {
      "text/plain": [
       "'detroit'"
      ]
     },
     "execution_count": 9,
     "metadata": {},
     "output_type": "execute_result"
    }
   ],
   "source": [
    "ind2word[5626]"
   ]
  },
  {
   "cell_type": "code",
   "execution_count": 16,
   "id": "8b2b6d8a",
   "metadata": {},
   "outputs": [
    {
     "data": {
      "text/plain": [
       "'[MASK]'"
      ]
     },
     "execution_count": 16,
     "metadata": {},
     "output_type": "execute_result"
    }
   ],
   "source": [
    "ind2word[103]"
   ]
  },
  {
   "cell_type": "code",
   "execution_count": 18,
   "id": "190077b4",
   "metadata": {},
   "outputs": [
    {
     "data": {
      "text/plain": [
       "'[SEP]'"
      ]
     },
     "execution_count": 18,
     "metadata": {},
     "output_type": "execute_result"
    }
   ],
   "source": [
    "ind2word[102]"
   ]
  },
  {
   "cell_type": "code",
   "execution_count": 19,
   "id": "348f00c4",
   "metadata": {},
   "outputs": [
    {
     "data": {
      "text/plain": [
       "'[CLS]'"
      ]
     },
     "execution_count": 19,
     "metadata": {},
     "output_type": "execute_result"
    }
   ],
   "source": [
    "ind2word[101]"
   ]
  },
  {
   "cell_type": "code",
   "execution_count": 11,
   "id": "99936b65",
   "metadata": {
    "scrolled": false
   },
   "outputs": [
    {
     "data": {
      "text/plain": [
       "'[MASK]'"
      ]
     },
     "execution_count": 11,
     "metadata": {},
     "output_type": "execute_result"
    }
   ],
   "source": [
    "tokenizer.mask_token"
   ]
  },
  {
   "cell_type": "code",
   "execution_count": 20,
   "id": "4f9b44cd",
   "metadata": {},
   "outputs": [
    {
     "data": {
      "text/plain": [
       "<tf.Tensor: shape=(1, 8), dtype=int32, numpy=\n",
       "array([[  101, 10733,  2003,  2026,   103,  2833,  1012,   102]],\n",
       "      dtype=int32)>"
      ]
     },
     "execution_count": 20,
     "metadata": {},
     "output_type": "execute_result"
    }
   ],
   "source": [
    "# 문장 토큰화\n",
    "inputs = tokenizer.encode('Pizza is my [MASK] food.', return_tensors='tf')\n",
    "\n",
    "inputs"
   ]
  },
  {
   "cell_type": "code",
   "execution_count": 22,
   "id": "505c38aa",
   "metadata": {},
   "outputs": [
    {
     "data": {
      "text/plain": [
       "array([[  101, 10733,  2003,  2026,   103,  2833,  1012,   102]],\n",
       "      dtype=int32)"
      ]
     },
     "execution_count": 22,
     "metadata": {},
     "output_type": "execute_result"
    }
   ],
   "source": [
    "inputs.numpy()"
   ]
  },
  {
   "cell_type": "code",
   "execution_count": 23,
   "id": "daffbd5b",
   "metadata": {
    "scrolled": false
   },
   "outputs": [
    {
     "name": "stdout",
     "output_type": "stream",
     "text": [
      "[CLS]\n",
      "pizza\n",
      "is\n",
      "my\n",
      "[MASK]\n",
      "food\n",
      ".\n",
      "[SEP]\n"
     ]
    }
   ],
   "source": [
    "for word in inputs.numpy()[0]:\n",
    "    print(ind2word[word])"
   ]
  },
  {
   "cell_type": "code",
   "execution_count": null,
   "id": "10ac2035",
   "metadata": {},
   "outputs": [],
   "source": [
    "# [MASK]는 4번 토큰 -> 4번 토큰을 예측하는 문제"
   ]
  },
  {
   "cell_type": "code",
   "execution_count": 24,
   "id": "abacd0a2",
   "metadata": {
    "scrolled": true
   },
   "outputs": [
    {
     "data": {
      "text/plain": [
       "30522"
      ]
     },
     "execution_count": 24,
     "metadata": {},
     "output_type": "execute_result"
    }
   ],
   "source": [
    "# 단어 집합 개수\n",
    "tokenizer.vocab_size"
   ]
  },
  {
   "cell_type": "code",
   "execution_count": 25,
   "id": "960c9ab3",
   "metadata": {},
   "outputs": [
    {
     "name": "stdout",
     "output_type": "stream",
     "text": [
      "101\n"
     ]
    }
   ],
   "source": [
    "# 특수 토큰 cls : 문장의 시작\n",
    "print(tokenizer.cls_token_id)"
   ]
  },
  {
   "cell_type": "code",
   "execution_count": 26,
   "id": "159bddf7",
   "metadata": {
    "scrolled": true
   },
   "outputs": [
    {
     "name": "stdout",
     "output_type": "stream",
     "text": [
      "102\n"
     ]
    }
   ],
   "source": [
    "# 특수 토큰 sep : 문장 구분\n",
    "print(tokenizer.sep_token_id)"
   ]
  },
  {
   "cell_type": "code",
   "execution_count": 27,
   "id": "d1290e6b",
   "metadata": {},
   "outputs": [
    {
     "data": {
      "text/plain": [
       "TFMaskedLMOutput(loss=None, logits=<tf.Tensor: shape=(1, 8, 30522), dtype=float32, numpy=\n",
       "array([[[ -6.5892477,  -6.545541 ,  -6.550172 , ...,  -5.9745717,\n",
       "          -5.7345476,  -4.015825 ],\n",
       "        [ -7.989972 ,  -7.8295565,  -7.847025 , ...,  -7.580194 ,\n",
       "          -6.8277597,  -6.4859447],\n",
       "        [-12.688309 , -12.100912 , -12.303783 , ..., -10.958016 ,\n",
       "          -9.478661 , -11.172879 ],\n",
       "        ...,\n",
       "        [-10.789201 , -11.01828  , -10.619027 , ...,  -9.310557 ,\n",
       "          -7.95036  , -12.606779 ],\n",
       "        [-11.8699875, -11.202811 , -11.640639 , ...,  -8.015509 ,\n",
       "          -9.464375 ,  -7.8128185],\n",
       "        [-16.216164 , -16.04058  , -16.043331 , ..., -16.037857 ,\n",
       "         -14.760496 , -13.951068 ]]], dtype=float32)>, hidden_states=None, attentions=None)"
      ]
     },
     "execution_count": 27,
     "metadata": {},
     "output_type": "execute_result"
    }
   ],
   "source": [
    "# 토큰화된 문장을 model에 넣기\n",
    "result = model(inputs)\n",
    "result"
   ]
  },
  {
   "cell_type": "code",
   "execution_count": 29,
   "id": "1e218f1a",
   "metadata": {},
   "outputs": [
    {
     "data": {
      "text/plain": [
       "<tf.Tensor: shape=(1, 8, 30522), dtype=float32, numpy=\n",
       "array([[[ -6.5892477,  -6.545541 ,  -6.550172 , ...,  -5.9745717,\n",
       "          -5.7345476,  -4.015825 ],\n",
       "        [ -7.989972 ,  -7.8295565,  -7.847025 , ...,  -7.580194 ,\n",
       "          -6.8277597,  -6.4859447],\n",
       "        [-12.688309 , -12.100912 , -12.303783 , ..., -10.958016 ,\n",
       "          -9.478661 , -11.172879 ],\n",
       "        ...,\n",
       "        [-10.789201 , -11.01828  , -10.619027 , ...,  -9.310557 ,\n",
       "          -7.95036  , -12.606779 ],\n",
       "        [-11.8699875, -11.202811 , -11.640639 , ...,  -8.015509 ,\n",
       "          -9.464375 ,  -7.8128185],\n",
       "        [-16.216164 , -16.04058  , -16.043331 , ..., -16.037857 ,\n",
       "         -14.760496 , -13.951068 ]]], dtype=float32)>"
      ]
     },
     "execution_count": 29,
     "metadata": {},
     "output_type": "execute_result"
    }
   ],
   "source": [
    "# 문장의 로짓(=확률) 값\n",
    "logits = result[0]\n",
    "logits"
   ]
  },
  {
   "cell_type": "raw",
   "id": "cbc410b9",
   "metadata": {},
   "source": [
    "# shape=(1, 8, 30522) : 1개의 문장, 8개의 토큰, 30522개의 단어 집합"
   ]
  },
  {
   "cell_type": "code",
   "execution_count": 30,
   "id": "eb2a6015",
   "metadata": {},
   "outputs": [
    {
     "data": {
      "text/plain": [
       "<tf.Tensor: shape=(30522,), dtype=float32, numpy=\n",
       "array([-5.408284 , -5.7645416, -5.3103952, ..., -5.7365346, -4.585004 ,\n",
       "       -4.6279488], dtype=float32)>"
      ]
     },
     "execution_count": 30,
     "metadata": {},
     "output_type": "execute_result"
    }
   ],
   "source": [
    "logits[0][4]  # 0번째 문장, 4번 토큰(=MASK)의 단어 별 logits(=확률)"
   ]
  },
  {
   "cell_type": "code",
   "execution_count": 31,
   "id": "09cdebae",
   "metadata": {},
   "outputs": [
    {
     "data": {
      "text/plain": [
       "array([ 5440,  8837,  7216,  6871, 18785], dtype=int32)"
      ]
     },
     "execution_count": 31,
     "metadata": {},
     "output_type": "execute_result"
    }
   ],
   "source": [
    "# 가장 확률값이 높은 단어 k개\n",
    "k_words = tf.math.top_k(logits[0][4], k=5).indices.numpy()\n",
    "k_words"
   ]
  },
  {
   "cell_type": "code",
   "execution_count": 32,
   "id": "88c2b36c",
   "metadata": {},
   "outputs": [
    {
     "name": "stdout",
     "output_type": "stream",
     "text": [
      "favorite\n",
      "favourite\n",
      "comfort\n",
      "preferred\n",
      "staple\n"
     ]
    }
   ],
   "source": [
    "for i in range(0, len(k_words)):\n",
    "    print(ind2word[k_words[i]])"
   ]
  },
  {
   "cell_type": "code",
   "execution_count": 33,
   "id": "692b25d6",
   "metadata": {},
   "outputs": [
    {
     "data": {
      "text/plain": [
       "'favorite favourite comfort preferred staple'"
      ]
     },
     "execution_count": 33,
     "metadata": {},
     "output_type": "execute_result"
    }
   ],
   "source": [
    "# 토큰 디코드(index2word)\n",
    "tokenizer.decode(k_words)"
   ]
  },
  {
   "cell_type": "raw",
   "id": "2b9553eb",
   "metadata": {},
   "source": [
    "Pizza is my [MASK] food."
   ]
  },
  {
   "cell_type": "raw",
   "id": "238ad9ba",
   "metadata": {},
   "source": [
    "MASK 자리에 나타날 확률이 가장 높은 5개의 단어는 'favorite favourite comfort preferred staple'"
   ]
  },
  {
   "cell_type": "markdown",
   "id": "dcb6f868",
   "metadata": {},
   "source": [
    "# transformers의 pipeline 이용해서 빈칸 채우기"
   ]
  },
  {
   "cell_type": "code",
   "execution_count": 34,
   "id": "ca5c597e",
   "metadata": {},
   "outputs": [],
   "source": [
    "from transformers import pipeline"
   ]
  },
  {
   "cell_type": "code",
   "execution_count": 35,
   "id": "f4c54c73",
   "metadata": {},
   "outputs": [],
   "source": [
    "# bert 모델 다운받아서 학습하기"
   ]
  },
  {
   "cell_type": "code",
   "execution_count": 36,
   "id": "ebd4568a",
   "metadata": {},
   "outputs": [
    {
     "name": "stderr",
     "output_type": "stream",
     "text": [
      "Some weights of the model checkpoint at bert-base-uncased were not used when initializing BertForMaskedLM: ['cls.seq_relationship.weight', 'cls.seq_relationship.bias']\n",
      "- This IS expected if you are initializing BertForMaskedLM from the checkpoint of a model trained on another task or with another architecture (e.g. initializing a BertForSequenceClassification model from a BertForPreTraining model).\n",
      "- This IS NOT expected if you are initializing BertForMaskedLM from the checkpoint of a model that you expect to be exactly identical (initializing a BertForSequenceClassification model from a BertForSequenceClassification model).\n"
     ]
    }
   ],
   "source": [
    "pip = pipeline('fill-mask', model='bert-base-uncased')"
   ]
  },
  {
   "cell_type": "code",
   "execution_count": 37,
   "id": "8d40b632",
   "metadata": {},
   "outputs": [
    {
     "data": {
      "text/plain": [
       "[{'score': 0.9569321870803833,\n",
       "  'token': 5440,\n",
       "  'token_str': 'favorite',\n",
       "  'sequence': 'pizza is my favorite food'},\n",
       " {'score': 0.032709430903196335,\n",
       "  'token': 8837,\n",
       "  'token_str': 'favourite',\n",
       "  'sequence': 'pizza is my favourite food'},\n",
       " {'score': 0.0019699952099472284,\n",
       "  'token': 7216,\n",
       "  'token_str': 'comfort',\n",
       "  'sequence': 'pizza is my comfort food'},\n",
       " {'score': 0.0017387170810252428,\n",
       "  'token': 6871,\n",
       "  'token_str': 'preferred',\n",
       "  'sequence': 'pizza is my preferred food'},\n",
       " {'score': 0.0011286975350230932,\n",
       "  'token': 2069,\n",
       "  'token_str': 'only',\n",
       "  'sequence': 'pizza is my only food'}]"
      ]
     },
     "execution_count": 37,
     "metadata": {},
     "output_type": "execute_result"
    }
   ],
   "source": [
    "pip('Pizza is my [MASK] food')"
   ]
  },
  {
   "cell_type": "code",
   "execution_count": 113,
   "id": "3b78392b",
   "metadata": {},
   "outputs": [],
   "source": [
    "# 원하는 모델과 토크나이저 지정해서 학습하기"
   ]
  },
  {
   "cell_type": "code",
   "execution_count": 38,
   "id": "f3f2bae5",
   "metadata": {},
   "outputs": [],
   "source": [
    "from transformers import FillMaskPipeline"
   ]
  },
  {
   "cell_type": "code",
   "execution_count": 39,
   "id": "bb6c3e63",
   "metadata": {},
   "outputs": [],
   "source": [
    "pip2 = FillMaskPipeline(model=model, tokenizer=tokenizer)"
   ]
  },
  {
   "cell_type": "code",
   "execution_count": 40,
   "id": "212b5ee4",
   "metadata": {},
   "outputs": [
    {
     "data": {
      "text/plain": [
       "[{'score': 0.9569203853607178,\n",
       "  'token': 5440,\n",
       "  'token_str': 'favorite',\n",
       "  'sequence': 'pizza is my favorite food'},\n",
       " {'score': 0.03270899876952171,\n",
       "  'token': 8837,\n",
       "  'token_str': 'favourite',\n",
       "  'sequence': 'pizza is my favourite food'},\n",
       " {'score': 0.0019699616823345423,\n",
       "  'token': 7216,\n",
       "  'token_str': 'comfort',\n",
       "  'sequence': 'pizza is my comfort food'},\n",
       " {'score': 0.001738694030791521,\n",
       "  'token': 6871,\n",
       "  'token_str': 'preferred',\n",
       "  'sequence': 'pizza is my preferred food'},\n",
       " {'score': 0.0011286772787570953,\n",
       "  'token': 2069,\n",
       "  'token_str': 'only',\n",
       "  'sequence': 'pizza is my only food'}]"
      ]
     },
     "execution_count": 40,
     "metadata": {},
     "output_type": "execute_result"
    }
   ],
   "source": [
    "pip2('Pizza is my [MASK] food')"
   ]
  },
  {
   "cell_type": "code",
   "execution_count": null,
   "id": "bc05c2ed",
   "metadata": {},
   "outputs": [],
   "source": []
  },
  {
   "cell_type": "code",
   "execution_count": null,
   "id": "b3419705",
   "metadata": {},
   "outputs": [],
   "source": []
  }
 ],
 "metadata": {
  "kernelspec": {
   "display_name": "Python 3",
   "language": "python",
   "name": "python3"
  },
  "language_info": {
   "codemirror_mode": {
    "name": "ipython",
    "version": 3
   },
   "file_extension": ".py",
   "mimetype": "text/x-python",
   "name": "python",
   "nbconvert_exporter": "python",
   "pygments_lexer": "ipython3",
   "version": "3.8.8"
  },
  "toc": {
   "base_numbering": 1,
   "nav_menu": {},
   "number_sections": true,
   "sideBar": true,
   "skip_h1_title": false,
   "title_cell": "Table of Contents",
   "title_sidebar": "Contents",
   "toc_cell": false,
   "toc_position": {},
   "toc_section_display": true,
   "toc_window_display": false
  },
  "varInspector": {
   "cols": {
    "lenName": 16,
    "lenType": 16,
    "lenVar": 40
   },
   "kernels_config": {
    "python": {
     "delete_cmd_postfix": "",
     "delete_cmd_prefix": "del ",
     "library": "var_list.py",
     "varRefreshCmd": "print(var_dic_list())"
    },
    "r": {
     "delete_cmd_postfix": ") ",
     "delete_cmd_prefix": "rm(",
     "library": "var_list.r",
     "varRefreshCmd": "cat(var_dic_list()) "
    }
   },
   "types_to_exclude": [
    "module",
    "function",
    "builtin_function_or_method",
    "instance",
    "_Feature"
   ],
   "window_display": false
  }
 },
 "nbformat": 4,
 "nbformat_minor": 5
}
