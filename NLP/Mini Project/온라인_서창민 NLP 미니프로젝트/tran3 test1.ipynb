{
  "nbformat": 4,
  "nbformat_minor": 0,
  "metadata": {
    "colab": {
      "name": "Untitled14.ipynb",
      "provenance": [],
      "collapsed_sections": []
    },
    "kernelspec": {
      "name": "python3",
      "display_name": "Python 3"
    },
    "language_info": {
      "name": "python"
    },
    "accelerator": "GPU",
    "gpuClass": "standard"
  },
  "cells": [
    {
      "cell_type": "code",
      "execution_count": null,
      "metadata": {
        "id": "6HQWwX7cw53F"
      },
      "outputs": [],
      "source": [
        "import pandas as pd\n",
        "\n",
        "train_data = pd.read_excel(\"/content/drive/MyDrive/Colab Notebooks/train3000.xlsx\")\n",
        "test_data = pd.read_excel(\"/content/drive/MyDrive/Colab Notebooks/test1000.xlsx\")\n"
      ]
    },
    {
      "cell_type": "code",
      "source": [
        "!pip install -q konlpy tqdm"
      ],
      "metadata": {
        "colab": {
          "base_uri": "https://localhost:8080/"
        },
        "id": "lX8wKikuyd5o",
        "outputId": "238b04a9-5789-40fb-a6c9-292aaaa00ea5"
      },
      "execution_count": null,
      "outputs": [
        {
          "output_type": "stream",
          "name": "stdout",
          "text": [
            "\u001b[K     |████████████████████████████████| 19.4 MB 1.4 MB/s \n",
            "\u001b[K     |████████████████████████████████| 453 kB 71.0 MB/s \n",
            "\u001b[?25h"
          ]
        }
      ]
    },
    {
      "cell_type": "code",
      "source": [
        ""
      ],
      "metadata": {
        "id": "xfbwp9knyits"
      },
      "execution_count": null,
      "outputs": []
    },
    {
      "cell_type": "code",
      "source": [
        "%matplotlib inline\n",
        "import matplotlib.pyplot as plt"
      ],
      "metadata": {
        "id": "ko_UlEv4xUf0"
      },
      "execution_count": null,
      "outputs": []
    },
    {
      "cell_type": "code",
      "source": [
        "train_data['label'].value_counts().plot(kind='bar')"
      ],
      "metadata": {
        "colab": {
          "base_uri": "https://localhost:8080/",
          "height": 289
        },
        "id": "F3CEYo_RxUbx",
        "outputId": "24da4d24-e8fe-4394-f480-7916bf713d26"
      },
      "execution_count": null,
      "outputs": [
        {
          "output_type": "execute_result",
          "data": {
            "text/plain": [
              "<matplotlib.axes._subplots.AxesSubplot at 0x7f78ab134bd0>"
            ]
          },
          "metadata": {},
          "execution_count": 4
        },
        {
          "output_type": "display_data",
          "data": {
            "text/plain": [
              "<Figure size 432x288 with 1 Axes>"
            ],
            "image/png": "[encoded data removed]"
          },
          "metadata": {
            "needs_background": "light"
          }
        }
      ]
    },
    {
      "cell_type": "code",
      "source": [
        "print(train_data.groupby('label').size().reset_index(name='count'))\n",
        "print(test_data.groupby('label').size().reset_index(name='count'))"
      ],
      "metadata": {
        "colab": {
          "base_uri": "https://localhost:8080/"
        },
        "id": "AH2p43O_yQi_",
        "outputId": "7aa68412-0a45-4834-e9c8-e0c7bb8e8e44"
      },
      "execution_count": null,
      "outputs": [
        {
          "output_type": "stream",
          "name": "stdout",
          "text": [
            "   label  count\n",
            "0    0.0    542\n",
            "1    1.0   2076\n",
            "2    2.0    379\n",
            "   label  count\n",
            "0    0.0    155\n",
            "1    1.0    760\n",
            "2    2.0     82\n"
          ]
        }
      ]
    },
    {
      "cell_type": "code",
      "source": [
        "stopwords = ['의', '가', '이', '은', '들', '는', '좀', '잘', '걍', '과', '도', '를', '으로', '자', '에', '와', '한', '하다']"
      ],
      "metadata": {
        "id": "1A5unxU_yUNq"
      },
      "execution_count": null,
      "outputs": []
    },
    {
      "cell_type": "code",
      "source": [
        "import konlpy\n",
        "from konlpy.tag import Okt\n",
        "okt = Okt()\n",
        "X_train = []\n",
        "for sentence in train_data['comment']:\n",
        "  temp_X = []\n",
        "  temp_X = okt.morphs(sentence, stem=True) # 토큰화\n",
        "  temp_X = [word for word in temp_X if not word in stopwords] # 불용어 제거\n",
        "  X_train.append(temp_X)\n",
        "  \n",
        "X_test = []\n",
        "for sentence in test_data['comment']:\n",
        "  temp_X = []\n",
        "  temp_X = okt.morphs(sentence, stem=True) # 토큰화\n",
        "  temp_X = [word for word in temp_X if not word in stopwords] # 불용어 제거\n",
        "  X_test.append(temp_X)"
      ],
      "metadata": {
        "id": "dmaPewHyyULp"
      },
      "execution_count": null,
      "outputs": []
    },
    {
      "cell_type": "code",
      "source": [
        "from keras.preprocessing.text import Tokenizer\n",
        "max_words = 35000\n",
        "tokenizer = Tokenizer(num_words = max_words)\n",
        "tokenizer.fit_on_texts(X_train)\n",
        "X_train = tokenizer.texts_to_sequences(X_train)\n",
        "X_test = tokenizer.texts_to_sequences(X_test)"
      ],
      "metadata": {
        "id": "2Y5H9FzjyUJq"
      },
      "execution_count": null,
      "outputs": []
    },
    {
      "cell_type": "code",
      "source": [
        "print(\"제목의 최대 길이 : \", max(len(l) for l in X_train))\n",
        "print(\"제목의 평균 길이 : \", sum(map(len, X_train))/ len(X_train))\n",
        "plt.hist([len(s) for s in X_train], bins=50)\n",
        "plt.xlabel('length of Data')\n",
        "plt.ylabel('number of Data')\n",
        "plt.show()"
      ],
      "metadata": {
        "colab": {
          "base_uri": "https://localhost:8080/",
          "height": 319
        },
        "id": "5Fagomj7yUH-",
        "outputId": "d59d74a9-6316-4e54-ff33-d751d5f86251"
      },
      "execution_count": null,
      "outputs": [
        {
          "output_type": "stream",
          "name": "stdout",
          "text": [
            "제목의 최대 길이 :  154\n",
            "제목의 평균 길이 :  12.458666666666666\n"
          ]
        },
        {
          "output_type": "display_data",
          "data": {
            "text/plain": [
              "<Figure size 432x288 with 1 Axes>"
            ],
            "image/png": "[encoded data removed]"
          },
          "metadata": {
            "needs_background": "light"
          }
        }
      ]
    },
    {
      "cell_type": "code",
      "source": [
        "print(\"제목의 최대 길이 : \", max(len(l) for l in X_test))\n",
        "print(\"제목의 평균 길이 : \", sum(map(len, X_test))/ len(X_test))\n",
        "plt.hist([len(s) for s in X_test], bins=50)\n",
        "plt.xlabel('length of Data')\n",
        "plt.ylabel('number of Data')\n",
        "plt.show()"
      ],
      "metadata": {
        "colab": {
          "base_uri": "https://localhost:8080/",
          "height": 316
        },
        "id": "GzJLluyayvKo",
        "outputId": "0f1376cd-ff35-40d9-a779-177bf450da8a"
      },
      "execution_count": null,
      "outputs": [
        {
          "output_type": "stream",
          "name": "stdout",
          "text": [
            "제목의 최대 길이 :  150\n",
            "제목의 평균 길이 :  11.647\n"
          ]
        },
        {
          "output_type": "display_data",
          "data": {
            "text/plain": [
              "<Figure size 432x288 with 1 Axes>"
            ],
            "image/png": "[encoded data removed]"
          },
          "metadata": {
            "needs_background": "light"
          }
        }
      ]
    },
    {
      "cell_type": "code",
      "source": [
        "import numpy as np\n",
        "\n",
        "y_train = []\n",
        "y_test = []\n",
        "\n",
        "\n",
        "\n",
        "for i in range(len(train_data['label'])):\n",
        "  if train_data['label'].iloc[i] == 1:\n",
        "    y_train.append([0, 0, 1])\n",
        "  elif train_data['label'].iloc[i] == 0:\n",
        "    y_train.append([0, 1, 0])\n",
        "  elif train_data['label'].iloc[i] == -1:\n",
        "    y_train.append([1, 0, 0])\n",
        "\n",
        "for i in range(len(test_data['label'])):\n",
        "  if test_data['label'].iloc[i] == 1:\n",
        "    y_test.append([0, 0, 1])\n",
        "  elif test_data['label'].iloc[i] == 0:\n",
        "    y_test.append([0, 1, 0])\n",
        "  elif test_data['label'].iloc[i] == -1:\n",
        "    y_test.append([1, 0, 0])\n",
        "\n",
        "y_train = np.array(y_train)\n",
        "y_test = np.array(y_test)"
      ],
      "metadata": {
        "id": "MFdcpDBCyvIt"
      },
      "execution_count": null,
      "outputs": []
    },
    {
      "cell_type": "code",
      "source": [
        "from keras.layers import Embedding, Dense, LSTM\n",
        "from keras.models import Sequential\n",
        "from keras.preprocessing.sequence import pad_sequences\n",
        "max_len = 20 # 전체 데이터의 길이를 20로 맞춘다\n",
        "\n",
        "X_train = pad_sequences(X_train, maxlen=max_len)\n",
        "X_train = pad_sequences(X_test, maxlen=max_len)"
      ],
      "metadata": {
        "id": "n2D7MgDYyvGz"
      },
      "execution_count": null,
      "outputs": []
    },
    {
      "cell_type": "code",
      "source": [
        "model = Sequential()\n",
        "model.add(Embedding(max_words, 100))\n",
        "model.add(LSTM(128))\n",
        "model.add(Dense(3, activation='softmax'))\n",
        "\n",
        "model.compile(optimizer='rmsprop', loss='categorical_crossentropy', metrics=['accuracy'])\n",
        "history = model.fit(X_train, y_train, epochs=10, batch_size=10, validation_split=0.1)"
      ],
      "metadata": {
        "colab": {
          "base_uri": "https://localhost:8080/"
        },
        "id": "_Hb4ULtzy4xg",
        "outputId": "07ca0bda-880f-4fe8-cd74-171922c6106e"
      },
      "execution_count": null,
      "outputs": [
        {
          "output_type": "stream",
          "name": "stdout",
          "text": [
            "Epoch 1/10\n",
            "90/90 [==============================] - 9s 16ms/step - loss: 0.5968 - accuracy: 0.7522 - val_loss: 0.5372 - val_accuracy: 0.8100\n",
            "Epoch 2/10\n",
            "90/90 [==============================] - 0s 5ms/step - loss: 0.5519 - accuracy: 0.7611 - val_loss: 0.4858 - val_accuracy: 0.8100\n",
            "Epoch 3/10\n",
            "90/90 [==============================] - 1s 6ms/step - loss: 0.5072 - accuracy: 0.7744 - val_loss: 0.5026 - val_accuracy: 0.8100\n",
            "Epoch 4/10\n",
            "90/90 [==============================] - 0s 5ms/step - loss: 0.3989 - accuracy: 0.8267 - val_loss: 0.6113 - val_accuracy: 0.7900\n",
            "Epoch 5/10\n",
            "90/90 [==============================] - 1s 6ms/step - loss: 0.2907 - accuracy: 0.8922 - val_loss: 0.7158 - val_accuracy: 0.7100\n",
            "Epoch 6/10\n",
            "90/90 [==============================] - 0s 5ms/step - loss: 0.1965 - accuracy: 0.9289 - val_loss: 0.7707 - val_accuracy: 0.7100\n",
            "Epoch 7/10\n",
            "90/90 [==============================] - 0s 5ms/step - loss: 0.1454 - accuracy: 0.9478 - val_loss: 0.9451 - val_accuracy: 0.6500\n",
            "Epoch 8/10\n",
            "90/90 [==============================] - 0s 5ms/step - loss: 0.1105 - accuracy: 0.9589 - val_loss: 1.2122 - val_accuracy: 0.6600\n",
            "Epoch 9/10\n",
            "90/90 [==============================] - 1s 6ms/step - loss: 0.0869 - accuracy: 0.9722 - val_loss: 1.0336 - val_accuracy: 0.6900\n",
            "Epoch 10/10\n",
            "90/90 [==============================] - 1s 6ms/step - loss: 0.0772 - accuracy: 0.9689 - val_loss: 1.1737 - val_accuracy: 0.6700\n"
          ]
        }
      ]
    },
    {
      "cell_type": "code",
      "source": [
        "model = Sequential()\n",
        "model.add(Embedding(max_words, 100))\n",
        "model.add(LSTM(128))\n",
        "model.add(Dense(3, activation='softmax'))\n",
        "\n",
        "model.compile(optimizer='adam', loss='categorical_crossentropy', metrics=['accuracy'])\n",
        "history = model.fit(X_train, y_train, epochs=10, batch_size=10, validation_split=0.1)"
      ],
      "metadata": {
        "colab": {
          "base_uri": "https://localhost:8080/"
        },
        "id": "eG97Uzi9y4rm",
        "outputId": "6219d7ae-7324-4448-83a1-9934d2a33475"
      },
      "execution_count": null,
      "outputs": [
        {
          "output_type": "stream",
          "name": "stdout",
          "text": [
            "Epoch 1/10\n",
            "90/90 [==============================] - 4s 22ms/step - loss: 0.6260 - accuracy: 0.7522 - val_loss: 0.5081 - val_accuracy: 0.8100\n",
            "Epoch 2/10\n",
            "90/90 [==============================] - 2s 17ms/step - loss: 0.5292 - accuracy: 0.7600 - val_loss: 0.5193 - val_accuracy: 0.8100\n",
            "Epoch 3/10\n",
            "90/90 [==============================] - 1s 6ms/step - loss: 0.3859 - accuracy: 0.8278 - val_loss: 0.7176 - val_accuracy: 0.7300\n",
            "Epoch 4/10\n",
            "90/90 [==============================] - 1s 6ms/step - loss: 0.2072 - accuracy: 0.9278 - val_loss: 0.8919 - val_accuracy: 0.7800\n",
            "Epoch 5/10\n",
            "90/90 [==============================] - 1s 6ms/step - loss: 0.1151 - accuracy: 0.9578 - val_loss: 1.2287 - val_accuracy: 0.6800\n",
            "Epoch 6/10\n",
            "90/90 [==============================] - 1s 6ms/step - loss: 0.0801 - accuracy: 0.9700 - val_loss: 1.2257 - val_accuracy: 0.7100\n",
            "Epoch 7/10\n",
            "90/90 [==============================] - 1s 7ms/step - loss: 0.0715 - accuracy: 0.9756 - val_loss: 1.3495 - val_accuracy: 0.7200\n",
            "Epoch 8/10\n",
            "90/90 [==============================] - 1s 6ms/step - loss: 0.0568 - accuracy: 0.9800 - val_loss: 1.4292 - val_accuracy: 0.7300\n",
            "Epoch 9/10\n",
            "90/90 [==============================] - 1s 7ms/step - loss: 0.0486 - accuracy: 0.9789 - val_loss: 1.5586 - val_accuracy: 0.7000\n",
            "Epoch 10/10\n",
            "90/90 [==============================] - 1s 6ms/step - loss: 0.0449 - accuracy: 0.9867 - val_loss: 1.6352 - val_accuracy: 0.6800\n"
          ]
        }
      ]
    },
    {
      "cell_type": "code",
      "source": [
        "predict = model.predict(X_test)"
      ],
      "metadata": {
        "id": "gRpJYiSay4nV"
      },
      "execution_count": null,
      "outputs": []
    },
    {
      "cell_type": "code",
      "source": [
        "import numpy as np\n",
        "predict_labels = np.argmax(predict, axis=1)\n",
        "original_labels = np.argmax(y_test, axis=1)"
      ],
      "metadata": {
        "id": "HacD9_JWy4li"
      },
      "execution_count": null,
      "outputs": []
    },
    {
      "cell_type": "code",
      "source": [
        "for i in range(30):\n",
        "  print(\"댓글 : \", test_data['comment'].iloc[i], \"/\\t 원래 라벨 : \", original_labels[i], \"/\\t예측한 라벨 : \", predict_labels[i])"
      ],
      "metadata": {
        "colab": {
          "base_uri": "https://localhost:8080/"
        },
        "id": "67x8WUgSy4jb",
        "outputId": "5f6bcb0a-738a-498f-be81-fb387b214249"
      },
      "execution_count": null,
      "outputs": [
        {
          "output_type": "stream",
          "name": "stdout",
          "text": [
            "댓글 :    스브스 진짜 땅을 치고 후회할 듯    이 띵작을 거절한다고        /\t 원래 라벨 :  2 /\t예측한 라벨 :  2\n",
            "댓글 :    아버지가 한바다 찾아갔을때 대표한테 말함 /\t 원래 라벨 :  2 /\t예측한 라벨 :  1\n",
            "댓글 :    그해우리는 나온게 신기함 /\t 원래 라벨 :  1 /\t예측한 라벨 :  2\n",
            "댓글 :                뭐여 이건 국뽕 부작용인가  /\t 원래 라벨 :  2 /\t예측한 라벨 :  2\n",
            "댓글 :    연기력 미쳤다                   /\t 원래 라벨 :  2 /\t예측한 라벨 :  2\n",
            "댓글 :    너무 이쁘고 귀엽고 매력적임데이트때마다 김초밥만 먹어도 좋을듯 /\t 원래 라벨 :  1 /\t예측한 라벨 :  1\n",
            "댓글 :            하버드 수석을 한 일반 비 장애인  변호사가 사직서를 낸다면 과연 정명석 변호사는 수리를 할까요  안 할까요  우영우보다 능력이 훨씬 좋을텐데 저는 바로 짤린다고 봅니다 상사한테 말도 제대로 안하고 연락까지 안 받는다면요 /\t 원래 라벨 :  1 /\t예측한 라벨 :  1\n",
            "댓글 :     하이루  다른나라에서도 좋다고요      다른나라에서도 레디컬 페미니즘이나 페미나치 많이 나와서 거부감 심해요     특히 미국 /\t 원래 라벨 :  1 /\t예측한 라벨 :  2\n",
            "댓글 :         저기 앞에 불법주차나 못하게 해 /\t 원래 라벨 :  1 /\t예측한 라벨 :  2\n",
            "댓글 :    아 썸네일 스포뭔데        /\t 원래 라벨 :  2 /\t예측한 라벨 :  1\n",
            "댓글 :                   상세한설명 감사합니다 /\t 원래 라벨 :  2 /\t예측한 라벨 :  2\n",
            "댓글 :     피즈멍       /\t 원래 라벨 :  2 /\t예측한 라벨 :  1\n",
            "댓글 :    권모술수 권영우 밉짠 /\t 원래 라벨 :  2 /\t예측한 라벨 :  2\n",
            "댓글 :    저렇게 많은 자료들을 머릿속에 저장하고 다니면서 재판에 바로 써먹는거 보면 누가봐도 빽이 아니라 영우 본인의 능력인걸 왜 권모술수  방새만 모르는걸까    /\t 원래 라벨 :  2 /\t예측한 라벨 :  1\n",
            "댓글 :    시즌제로 나오길 기대하고 있습니다 /\t 원래 라벨 :  1 /\t예측한 라벨 :  2\n",
            "댓글 :    제 의 아버지라는 정변   멋있어 /\t 원래 라벨 :  2 /\t예측한 라벨 :  2\n",
            "댓글 :    드라마잖아   과몰입좀 그만해   /\t 원래 라벨 :  2 /\t예측한 라벨 :  2\n",
            "댓글 :     고몽  유도심문 유도신문 둘 다 쓰입니다  국립국어원 출처 드라마 내의 대사는   심 문처럼 보입니다 헷갈리시면 한번 발음해보시면 좋을거같습니다   심 은 입술이 모여서 붙고   신 은 입술이 붙지않습니다  /\t 원래 라벨 :  2 /\t예측한 라벨 :  2\n",
            "댓글 :    이 드라마 보면서 웃다가 /\t 원래 라벨 :  2 /\t예측한 라벨 :  2\n",
            "댓글 :    자폐 의사 드라마도 있던데 변호사도 나왔네 /\t 원래 라벨 :  2 /\t예측한 라벨 :  2\n",
            "댓글 :    떡상 전에 고정 좀    /\t 원래 라벨 :  2 /\t예측한 라벨 :  2\n",
            "댓글 :    이분 언어영역 만점에    원건다 /\t 원래 라벨 :  2 /\t예측한 라벨 :  2\n",
            "댓글 :    어른은 놀면 안됩니까   /\t 원래 라벨 :  2 /\t예측한 라벨 :  1\n",
            "댓글 :    참리더의 모습  /\t 원래 라벨 :  1 /\t예측한 라벨 :  2\n",
            "댓글 :    자폐인에게 제일 힘든건 사람의 눈을 똑바로 바라보는거야 우영우 하지만 엄마의 말 한마디에 눈을 똑바로 바라봄 그립고 보고싶은 엄마 엿으니까 /\t 원래 라벨 :  2 /\t예측한 라벨 :  1\n",
            "댓글 :      화 가 아니구     년  월  일   일   /\t 원래 라벨 :  2 /\t예측한 라벨 :  2\n",
            "댓글 :    오   /\t 원래 라벨 :  2 /\t예측한 라벨 :  2\n",
            "댓글 :    자녀를 버렸다는 미안함과 어린시절 두려웠던 그 마음 /\t 원래 라벨 :  2 /\t예측한 라벨 :  1\n",
            "댓글 :    억빠 /\t 원래 라벨 :  2 /\t예측한 라벨 :  2\n",
            "댓글 :    이렇게 레전드 영상이 나오네 /\t 원래 라벨 :  2 /\t예측한 라벨 :  2\n"
          ]
        }
      ]
    },
    {
      "cell_type": "code",
      "source": [
        ""
      ],
      "metadata": {
        "id": "sLcs36p8yvEs"
      },
      "execution_count": null,
      "outputs": []
    },
    {
      "cell_type": "code",
      "source": [
        ""
      ],
      "metadata": {
        "id": "O8emjLpbyUF7"
      },
      "execution_count": null,
      "outputs": []
    },
    {
      "cell_type": "code",
      "source": [
        ""
      ],
      "metadata": {
        "id": "L35feDN0yQgz"
      },
      "execution_count": null,
      "outputs": []
    }
  ]
}