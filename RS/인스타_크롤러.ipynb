{
 "cells": [
  {
   "cell_type": "code",
   "execution_count": 106,
   "metadata": {},
   "outputs": [],
   "source": [
    "import pandas as pd\n",
    "import numpy as np\n",
    "\n",
    "# 라이브러리 import\n",
    "# 라이브러리 : 필요한 도구\n",
    "from selenium import webdriver  # 라이브러리(모듈) 가져오라\n",
    "from selenium.webdriver import ActionChains as AC\n",
    "import chromedriver_autoinstaller\n",
    "from tqdm import tqdm\n",
    "from tqdm import tqdm_notebook\n",
    "import re\n",
    "from time import sleep\n",
    "import time\n",
    "\n",
    "# 워닝 무시\n",
    "import warnings\n",
    "warnings.filterwarnings('ignore')"
   ]
  },
  {
   "cell_type": "markdown",
   "metadata": {},
   "source": [
    "## (테스트용)크롤링 연구"
   ]
  },
  {
   "cell_type": "code",
   "execution_count": 107,
   "metadata": {},
   "outputs": [
    {
     "data": {
      "text/plain": [
       "'홍대맛집'"
      ]
     },
     "execution_count": 107,
     "metadata": {},
     "output_type": "execute_result"
    }
   ],
   "source": [
    "# 데이터 수집할 키워드 지정\n",
    "keyword = \"홍대맛집\"\n",
    "keyword"
   ]
  },
  {
   "cell_type": "code",
   "execution_count": 108,
   "metadata": {},
   "outputs": [],
   "source": [
    "# 크롬창 띄우기\n",
    "chrome_path = chromedriver_autoinstaller.install()\n",
    "driver = webdriver.Chrome(chrome_path)\n",
    "\n",
    "driver.get(\"https://www.instagram.com/\")\n",
    "time.sleep(3)"
   ]
  },
  {
   "cell_type": "raw",
   "metadata": {},
   "source": [
    "수동 로그인 + 나중에 하기"
   ]
  },
  {
   "cell_type": "code",
   "execution_count": 112,
   "metadata": {},
   "outputs": [],
   "source": [
    "# 검색창에 커서 클릭\n",
    "element = driver.find_element_by_css_selector(\"._aaw9\")\n",
    "element.click()\n",
    "time.sleep(1)\n",
    "\n",
    "# 검색 창에 검색어 입력\n",
    "element = driver.find_element_by_css_selector(\"._aawh._aawj._aauy\")\n",
    "element.clear()  # 혹시 검색창에 존재하는 텍스트 제거\n",
    "\n",
    "element.send_keys(keyword)\n",
    "time.sleep(2)\n",
    "\n",
    "# 검색어 리스트 중 첫번째 검색어 클릭\n",
    "query_list = driver.find_elements_by_css_selector(\"._aacl._aaco._aacw._aacx._aad6\")\n",
    "query_list[0].text\n",
    "\n",
    "query_list[0].click()\n",
    "time.sleep(3)"
   ]
  },
  {
   "cell_type": "code",
   "execution_count": 113,
   "metadata": {},
   "outputs": [],
   "source": [
    "# 두번째 사진 클릭\n",
    "CSS_tran=\"._aagw\"\n",
    "elements = driver.find_elements_by_css_selector(CSS_tran)   # 사진 클릭\n",
    "elements[1].click()"
   ]
  },
  {
   "cell_type": "code",
   "execution_count": 132,
   "metadata": {},
   "outputs": [
    {
     "data": {
      "text/plain": [
       "'https://scontent-gmp1-1.cdninstagram.com/v/t51.2885-15/294513645_1839450496446677_5977383133404062134_n.jpg?stp=dst-jpg_e35&_nc_ht=scontent-gmp1-1.cdninstagram.com&_nc_cat=105&_nc_ohc=0XSEcASIqzMAX-YtwsB&edm=ALQROFkBAAAA&ccb=7-5&ig_cache_key=Mjg4NzE0OTY2MzAzNjQ5NTUzNg%3D%3D.2-ccb7-5&oh=00_AT_RWfuENmQozHRVNL6xwBfbuQ9gCKFVwesxzNNOAea-YQ&oe=62E19B9B&_nc_sid=30a2ef'"
      ]
     },
     "execution_count": 132,
     "metadata": {},
     "output_type": "execute_result"
    }
   ],
   "source": [
    "# 사진(pic) 크롤링\n",
    "overlays1 = \"._aagu._aamh img\"                   # 사진창 속 사진   \n",
    "img = driver.find_element_by_css_selector(overlays1)    # 사진 선택\n",
    "img                          # 사진 url 크롤링 완료\n",
    "\n",
    "pic = img.get_attribute('src')                          # 사진 url 크롤링 완료\n",
    "pic"
   ]
  },
  {
   "cell_type": "code",
   "execution_count": 117,
   "metadata": {},
   "outputs": [
    {
     "data": {
      "text/plain": [
       "'7월 19, 2022'"
      ]
     },
     "execution_count": 117,
     "metadata": {},
     "output_type": "execute_result"
    }
   ],
   "source": [
    "# 날짜(date) 크롤링\n",
    "overlays2 = \"._aaqe\"                  # 날짜 지정\n",
    "datum2 = driver.find_element_by_css_selector(overlays2)     # 날짜 선택\n",
    "datum2.get_attribute('title')"
   ]
  },
  {
   "cell_type": "code",
   "execution_count": 118,
   "metadata": {},
   "outputs": [
    {
     "data": {
      "text/plain": [
       "'좋아요 1,926개'"
      ]
     },
     "execution_count": 118,
     "metadata": {},
     "output_type": "execute_result"
    }
   ],
   "source": [
    "# 좋아요(like) 크롤링\n",
    "overlays3 = \"._aacl._aaco._aacw._aacx._aada._aade\"                                        # 리뷰창 속 날짜\n",
    "datum3 = driver.find_element_by_css_selector(overlays3)     # 리뷰 선택\n",
    "like = datum3.text                                          # 좋아요 크롤링 완료\n",
    "like"
   ]
  },
  {
   "cell_type": "code",
   "execution_count": 122,
   "metadata": {
    "scrolled": true
   },
   "outputs": [
    {
     "data": {
      "text/plain": [
       "['#돼슐랭',\n",
       " '@michelin_piggy',\n",
       " '#부평맛집',\n",
       " '#고기맛집',\n",
       " '#삼겹살맛집',\n",
       " '#국수맛집',\n",
       " '#부평술집',\n",
       " '#신중동맛집',\n",
       " '#부평데이트',\n",
       " '#삼산동맛집',\n",
       " '#인천삼산동맛집',\n",
       " '#중동맛집',\n",
       " '#상동맛집']"
      ]
     },
     "execution_count": 122,
     "metadata": {},
     "output_type": "execute_result"
    }
   ],
   "source": [
    "# 해시태그(tag) 크롤링\n",
    "overlays4 = \"#mount_0_0_w1 > div > div > div > div:nth-child(4) > div > div > div.rq0escxv.l9j0dhe7.du4w35lb > div > div.iqfcb0g7.tojvnm2t.a6sixzi8.k5wvi7nf.q3lfd5jv.pk4s997a.bipmatt0.cebpdrjk.qowsmv63.owwhemhu.dp1hu0rb.dhp61c6y.l9j0dhe7.iyyx5f41.a8s20v7p > div > div > div > div > div.pi61vmqs.od1n8kyl.h6an9nv3.j4yusqav.djyw54ux.c9k30104.rxghi256.jhx0qe0y.mbxd2wpa.hb7lyos6.rfyvs5rk.sspdcydq.n34oi56o.c3wyshyw.im6prb7w.kzdz7bm1.k01ojvdi.alxbew3a.t78t6opn > div > article > div > div._aata > div > div > div._aasx > div._aat6 > ul > div > li > div > div > div._a9zr > div._a9zs > span > a\"                                         \n",
    "datum3 = driver.find_elements_by_css_selector(overlays4)    # 태그 선택\n",
    "\n",
    "tag_list = []\n",
    "for i in range(len(datum3)):\n",
    "    tag_list.append(datum3[i].text)\n",
    "tag_list"
   ]
  },
  {
   "cell_type": "code",
   "execution_count": 131,
   "metadata": {
    "scrolled": false
   },
   "outputs": [],
   "source": [
    "# 다음장 클릭\n",
    "CSS_tran2=\"#mount_0_0_w1 > div > div > div > div:nth-child(4) > div > div > div.rq0escxv.l9j0dhe7.du4w35lb > div > div.iqfcb0g7.tojvnm2t.a6sixzi8.k5wvi7nf.q3lfd5jv.pk4s997a.bipmatt0.cebpdrjk.qowsmv63.owwhemhu.dp1hu0rb.dhp61c6y.l9j0dhe7.iyyx5f41.a8s20v7p > div > div > div > div > div._a3gq._ab-1 > div > div > div._aaqg._aaqh > button\"             # 다음 버튼 \n",
    "tran_button2 = driver.find_element_by_css_selector(CSS_tran2)  # 다음 버튼 find\n",
    "AC(driver).move_to_element(tran_button2).click().perform()     # 다음 버튼 클릭"
   ]
  },
  {
   "cell_type": "code",
   "execution_count": 133,
   "metadata": {
    "scrolled": true
   },
   "outputs": [
    {
     "data": {
      "application/vnd.jupyter.widget-view+json": {
       "model_id": "c1656690b81e45c2ba80592dcf57a0c4",
       "version_major": 2,
       "version_minor": 0
      },
      "text/plain": [
       "  0%|          | 0/10 [00:00<?, ?it/s]"
      ]
     },
     "metadata": {},
     "output_type": "display_data"
    },
    {
     "name": "stdout",
     "output_type": "stream",
     "text": [
      "0 ['#돼슐랭', '@michelin_piggy', '#부평맛집', '#고기맛집', '#삼겹살맛집', '#국수맛집', '#부평술집', '#신중동맛집', '#부평데이트', '#삼산동맛집', '#인천삼산동맛집', '#중동맛집', '#상동맛집']\n",
      "1 ['#합정티라미수', '#저장필수', '#합정티라미수', '#요미_합정', '#요미_홍대', '#요미_디저트']\n",
      "2 ['@camello_yeonnam', '#홍대맛집']\n",
      "3 ['#두찜', '#코카콜라', '#코카콜라굿즈', '#코카콜라보냉백', '#두찜코카콜라세트', '#두찜', '#찜닭게티', '#강남역맛집', '#홍대맛집', '#합정맛집', '#송파맛집', '#잠실맛집', '#찜닭', '#찜닭맛집']\n",
      "4 ['#유경당', '#유경당연남점', '#맛포트_홍대', '#맛포트_연남동', '#홍대맛집', '#홍대술집', '#홍대데이트', '#홍대입구맛집', '#합정맛집', '#연남동맛집', '#신촌맛집', '#연남동술집', '#이대맛집', '#연희동맛집', '#덮밥맛집', '#사케동']\n",
      "5 ['#합정맛집', '#합정역맛집', '#조이떡볶이', '#떡볶이맛집', '#저장각', '#합정동맛집', '#홍대맛집', '#홍대맛집추천', '#합정맛집추천', '#떡볶이', '#떡볶이그램']\n",
      "6 ['#소점', '#푸딜락_연남', '#푸딜락_홍대']\n",
      "7 ['#애월연어', '#연남동맛집', '#연남맛집', '#연남동핫플', '#연남동데이트', '#연남동연어', '#홍대맛집', '#홍대입구맛집', '#합정맛집', '#신촌맛집', '#마포구맛집', '#연어맛집', '#초밥맛집', '#먹팔환영', '#맞팔', '#먹스타맞팔환영', '#좋반사', '#먹스타소통', '#애월연어연남점']\n",
      "8 ['#노스페이스', '#말란구매가능', '#데일리룩', '#워크웨어', '#올드스쿨', '#홍대', '#홍대맛집', '#패션', '#광장시장', '#동묘', '#데일리룩', '#데일리', '#follow', '#스트릿', '#패션스타그램', '#옷스타그램']\n",
      "9 ['#나이키', '#말란구매가능', '#데일리룩', '#워크웨어', '#올드스쿨', '#홍대', '#홍대맛집', '#패션', '#광장시장', '#동묘', '#데일리룩', '#데일리', '#follow', '#스트릿', '#패션스타그램', '#옷스타그램']\n",
      "{0: {'pic': 'https://scontent-gmp1-1.cdninstagram.com/v/t51.2885-15/294327354_440425591099288_3636668712517555464_n.jpg?stp=dst-jpg_e35&_nc_ht=scontent-gmp1-1.cdninstagram.com&_nc_cat=104&_nc_ohc=FUEwivrHTMsAX9InXIu&tn=f4cp3sMgQIfOYU-X&edm=ALQROFkBAAAA&ccb=7-5&ig_cache_key=Mjg4NTc4MjQ1NDc0NTc2ODA0MA%3D%3D.2-ccb7-5&oh=00_AT-asGSsdLyazVRvu7fEkFm2j_3gvwRzdYgrU-jnciqgqQ&oe=62E16AB7&_nc_sid=30a2ef', 'date': '7월 19, 2022', 'like': '좋아요 1,926개', 'tag': ['#돼슐랭', '@michelin_piggy', '#부평맛집', '#고기맛집', '#삼겹살맛집', '#국수맛집', '#부평술집', '#신중동맛집', '#부평데이트', '#삼산동맛집', '#인천삼산동맛집', '#중동맛집', '#상동맛집']}, 1: {'pic': 'https://scontent-gmp1-1.cdninstagram.com/v/t51.2885-15/294535997_492488082639278_9088519927946981113_n.jpg?stp=dst-jpg_e35&_nc_ht=scontent-gmp1-1.cdninstagram.com&_nc_cat=102&_nc_ohc=Zoq9yhYAgyUAX9HwzAq&edm=ALQROFkBAAAA&ccb=7-5&ig_cache_key=Mjg4NzIzNDc3Mjk0NDY2MzI4Nw%3D%3D.2-ccb7-5&oh=00_AT-Zb2hFDZ6NaWcTp016-C5g4ZwFQBs4LOdSuLOvckVozg&oe=62E23B13&_nc_sid=30a2ef', 'date': '7월 21, 2022', 'like': '좋아요 623개', 'tag': ['#합정티라미수', '#저장필수', '#합정티라미수', '#요미_합정', '#요미_홍대', '#요미_디저트']}, 2: {'pic': 'https://scontent-gmp1-1.cdninstagram.com/v/t51.2885-15/294949199_1224510618324164_4156811178441310315_n.webp?stp=dst-jpg_e35&_nc_ht=scontent-gmp1-1.cdninstagram.com&_nc_cat=108&_nc_ohc=PqSCMZ6AOG4AX-_pTxA&edm=ALQROFkBAAAA&ccb=7-5&ig_cache_key=Mjg4NzgwNTk4MDYyMjIxNDQ1OQ%3D%3D.2-ccb7-5&oh=00_AT_qSfe-YDHXDZL5OKArN37OAzQi3wXjO3RKfF43HJZk6w&oe=62E0660D&_nc_sid=30a2ef', 'date': '7월 22, 2022', 'like': '좋아요 627개', 'tag': ['@camello_yeonnam', '#홍대맛집']}, 3: {'pic': 'https://scontent-gmp1-1.cdninstagram.com/v/t51.2885-15/294733460_462684161916045_5026193522375409655_n.jpg?stp=dst-jpg_e35&_nc_ht=scontent-gmp1-1.cdninstagram.com&_nc_cat=109&_nc_ohc=_BYHWHCh4wUAX9dODpu&edm=ALQROFkBAAAA&ccb=7-5&ig_cache_key=Mjg4Nzc3OTMyNDQ2ODc3ODc5MQ%3D%3D.2-ccb7-5&oh=00_AT9nKdw15l0JhrOvJ1dUMP_pnCPIKVqic12OShTjFyPc1Q&oe=62E1D0C7&_nc_sid=30a2ef', 'date': '7월 22, 2022', 'like': '여러 명', 'tag': ['#두찜', '#코카콜라', '#코카콜라굿즈', '#코카콜라보냉백', '#두찜코카콜라세트', '#두찜', '#찜닭게티', '#강남역맛집', '#홍대맛집', '#합정맛집', '#송파맛집', '#잠실맛집', '#찜닭', '#찜닭맛집']}, 4: {'pic': 'https://scontent-gmp1-1.cdninstagram.com/v/t51.2885-15/294603817_137215148995656_8204372641616159931_n.jpg?stp=dst-jpg_e35&_nc_ht=scontent-gmp1-1.cdninstagram.com&_nc_cat=100&_nc_ohc=kGkCdtWNJ0sAX94PUxe&edm=ALQROFkBAAAA&ccb=7-5&ig_cache_key=Mjg4NzExMTczMTExMDAyMDM4Mg%3D%3D.2-ccb7-5&oh=00_AT-ha6Beu9g7E3dkf1jRToYZ1AVGhR6Le0KUi7robzNyzQ&oe=62E159A9&_nc_sid=30a2ef', 'date': '7월 21, 2022', 'like': '좋아요 692개', 'tag': ['#유경당', '#유경당연남점', '#맛포트_홍대', '#맛포트_연남동', '#홍대맛집', '#홍대술집', '#홍대데이트', '#홍대입구맛집', '#합정맛집', '#연남동맛집', '#신촌맛집', '#연남동술집', '#이대맛집', '#연희동맛집', '#덮밥맛집', '#사케동']}, 5: {'pic': 'https://scontent-gmp1-1.cdninstagram.com/v/t51.2885-15/294728757_738194507235417_4728549052376678227_n.jpg?stp=dst-jpg_e35&_nc_ht=scontent-gmp1-1.cdninstagram.com&_nc_cat=109&_nc_ohc=LTu22ZFjBwcAX8ncQ_6&edm=ALQROFkBAAAA&ccb=7-5&ig_cache_key=Mjg4Njk2OTY4MjMzMTMwNzY1NQ%3D%3D.2-ccb7-5&oh=00_AT8-y6-TujLLFYrmlY6b13CEqlfyzFZKHbCUEmfj-e9J8w&oe=62E235C0&_nc_sid=30a2ef', 'date': '7월 21, 2022', 'like': '좋아요 1,609개', 'tag': ['#합정맛집', '#합정역맛집', '#조이떡볶이', '#떡볶이맛집', '#저장각', '#합정동맛집', '#홍대맛집', '#홍대맛집추천', '#합정맛집추천', '#떡볶이', '#떡볶이그램']}, 6: {'pic': 'https://scontent-gmp1-1.cdninstagram.com/v/t51.2885-15/294333879_2988208594734936_518278363609594168_n.jpg?stp=dst-jpg_e35&_nc_ht=scontent-gmp1-1.cdninstagram.com&_nc_cat=100&_nc_ohc=kgVIcA0zHQIAX8VkZBF&edm=ALQROFkBAAAA&ccb=7-5&ig_cache_key=Mjg4NzE5MTM5NjgzOTUzOTQ3NQ%3D%3D.2-ccb7-5&oh=00_AT-9cbgzdhSWxRR-RTLaOCNvNGXyNuGoCRHrSlRKMV0Whg&oe=62E1AE9A&_nc_sid=30a2ef', 'date': '7월 21, 2022', 'like': '좋아요 573개', 'tag': ['#소점', '#푸딜락_연남', '#푸딜락_홍대']}, 7: {'pic': 'https://scontent-gmp1-1.cdninstagram.com/v/t51.2885-15/294513645_1839450496446677_5977383133404062134_n.jpg?stp=dst-jpg_e35&_nc_ht=scontent-gmp1-1.cdninstagram.com&_nc_cat=105&_nc_ohc=0XSEcASIqzMAX-YtwsB&edm=ALQROFkBAAAA&ccb=7-5&ig_cache_key=Mjg4NzE0OTY2MzAzNjQ5NTUzNg%3D%3D.2-ccb7-5&oh=00_AT_RWfuENmQozHRVNL6xwBfbuQ9gCKFVwesxzNNOAea-YQ&oe=62E19B9B&_nc_sid=30a2ef', 'date': '7월 21, 2022', 'like': '좋아요 451개', 'tag': ['#애월연어', '#연남동맛집', '#연남맛집', '#연남동핫플', '#연남동데이트', '#연남동연어', '#홍대맛집', '#홍대입구맛집', '#합정맛집', '#신촌맛집', '#마포구맛집', '#연어맛집', '#초밥맛집', '#먹팔환영', '#맞팔', '#먹스타맞팔환영', '#좋반사', '#먹스타소통', '#애월연어연남점']}, 8: {'pic': 'https://scontent-gmp1-1.cdninstagram.com/v/t51.2885-15/294516345_172117101969598_163943741985810312_n.jpg?stp=dst-jpg_e35&_nc_ht=scontent-gmp1-1.cdninstagram.com&_nc_cat=110&_nc_ohc=Qp-zRA8nuEAAX8LEpjM&edm=ALQROFkBAAAA&ccb=7-5&ig_cache_key=Mjg4Nzg1MDYxNjM3OTM4MzI5Ng%3D%3D.2-ccb7-5&oh=00_AT-jFG11Wb0I0oqjkAAKGITd48MBoLtV-zP-8xUW0ACsDg&oe=62E19944&_nc_sid=30a2ef', 'date': '7월 22, 2022', 'like': '좋아요 1개', 'tag': ['#노스페이스', '#말란구매가능', '#데일리룩', '#워크웨어', '#올드스쿨', '#홍대', '#홍대맛집', '#패션', '#광장시장', '#동묘', '#데일리룩', '#데일리', '#follow', '#스트릿', '#패션스타그램', '#옷스타그램']}, 9: {'pic': 'https://scontent-gmp1-1.cdninstagram.com/v/t51.2885-15/294749782_736883694276418_3153141779155268646_n.jpg?stp=dst-jpg_e35&_nc_ht=scontent-gmp1-1.cdninstagram.com&_nc_cat=110&_nc_ohc=iIORcXo0SPcAX-yllau&edm=ALQROFkBAAAA&ccb=7-5&ig_cache_key=Mjg4Nzg0OTY4OTk0MTMyNTE4MA%3D%3D.2-ccb7-5&oh=00_AT-68kRAH7sMafBYclGTVptntgFJC0PSiyff-Ute_hGl-g&oe=62E21FC0&_nc_sid=30a2ef', 'date': '7월 22, 2022', 'like': '좋아요 1개', 'tag': ['#나이키', '#말란구매가능', '#데일리룩', '#워크웨어', '#올드스쿨', '#홍대', '#홍대맛집', '#패션', '#광장시장', '#동묘', '#데일리룩', '#데일리', '#follow', '#스트릿', '#패션스타그램', '#옷스타그램']}}\n"
     ]
    }
   ],
   "source": [
    "dict = {}  # 전체 게시글을 담을 그릇\n",
    "\n",
    "# 두번째 사진 클릭\n",
    "CSS_tran=\"._aagw\"\n",
    "elements = driver.find_elements_by_css_selector(CSS_tran)   # 사진 클릭\n",
    "elements[1].click()\n",
    "time.sleep(2)\n",
    "\n",
    "len_insta = 10 # 크롤링 개수\n",
    "\n",
    "# 크롤링 시작\n",
    "for j in tqdm_notebook(range(0, len_insta)):    \n",
    "\n",
    "    target_info = {}                                            # 사진별 데이터를 담을 딕셔너리 생성\n",
    "\n",
    "    try:    # 크롤링을 시도해라.\n",
    "        # 사진(pic) 크롤링\n",
    "        overlays1 = \"._aagu._aamh img\"                   # 사진창 속 사진   \n",
    "        img = driver.find_element_by_css_selector(overlays1)    # 사진 선택\n",
    "        pic = img.get_attribute('src')                          # 사진 url 크롤링 완료                       # 사진 url 크롤링 완료\n",
    "        target_info['pic'] = pic\n",
    "    \n",
    "        # 날짜(date) 크롤링\n",
    "        overlays2 = \"._aaqe\"                  # 날짜 지정\n",
    "        datum2 = driver.find_element_by_css_selector(overlays2)     # 날짜 선택\n",
    "        date = datum2.get_attribute('title')\n",
    "        target_info['date'] = date\n",
    "\n",
    "        # 좋아요(like) 크롤링\n",
    "        overlays3 = \"._aacl._aaco._aacw._aacx._aada._aade\"                                        # 리뷰창 속 날짜\n",
    "        datum3 = driver.find_element_by_css_selector(overlays3)     # 리뷰 선택\n",
    "        like = datum3.text                                          # 좋아요 크롤링 완료  \n",
    "        target_info['like'] = like\n",
    "\n",
    "        # 해시태그(tag) 크롤링\n",
    "        overlays4 = \"#mount_0_0_w1 > div > div > div > div:nth-child(4) > div > div > div.rq0escxv.l9j0dhe7.du4w35lb > div > div.iqfcb0g7.tojvnm2t.a6sixzi8.k5wvi7nf.q3lfd5jv.pk4s997a.bipmatt0.cebpdrjk.qowsmv63.owwhemhu.dp1hu0rb.dhp61c6y.l9j0dhe7.iyyx5f41.a8s20v7p > div > div > div > div > div.pi61vmqs.od1n8kyl.h6an9nv3.j4yusqav.djyw54ux.c9k30104.rxghi256.jhx0qe0y.mbxd2wpa.hb7lyos6.rfyvs5rk.sspdcydq.n34oi56o.c3wyshyw.im6prb7w.kzdz7bm1.k01ojvdi.alxbew3a.t78t6opn > div > article > div > div._aata > div > div > div._aasx > div._aat6 > ul > div > li > div > div > div._a9zr > div._a9zs > span > a\"                                         \n",
    "        datum3 = driver.find_elements_by_css_selector(overlays4)    # 태그 선택\n",
    "\n",
    "        tag_list = []\n",
    "        for i in range(len(datum3)):\n",
    "            tag_list.append(datum3[i].text)\n",
    "        target_info['tag'] = tag_list\n",
    "            \n",
    "\n",
    "        dict[j] = target_info            # 토탈 딕셔너리로 만들기\n",
    "\n",
    "        print(j, tag_list)\n",
    "\n",
    "        # 다음장 클릭\n",
    "        CSS_tran2=\"#mount_0_0_w1 > div > div > div > div:nth-child(4) > div > div > div.rq0escxv.l9j0dhe7.du4w35lb > div > div.iqfcb0g7.tojvnm2t.a6sixzi8.k5wvi7nf.q3lfd5jv.pk4s997a.bipmatt0.cebpdrjk.qowsmv63.owwhemhu.dp1hu0rb.dhp61c6y.l9j0dhe7.iyyx5f41.a8s20v7p > div > div > div > div > div._a3gq._ab-1 > div > div > div._aaqg._aaqh > button\"             # 다음 버튼 \n",
    "        tran_button2 = driver.find_element_by_css_selector(CSS_tran2)  # 다음 버튼 find\n",
    "        AC(driver).move_to_element(tran_button2).click().perform()     # 다음 버튼 클릭\n",
    "        time.sleep(2)\n",
    "        \n",
    "    except:  # 에러가 나면 다음장을 클릭해라\n",
    "        # 다음장 클릭\n",
    "        CSS_tran2=\"._aaqg._aaqh button\"             # 다음 버튼 \n",
    "        tran_button2 = driver.find_element_by_css_selector(CSS_tran2)  # 다음 버튼 find\n",
    "        AC(driver).move_to_element(tran_button2).click().perform()     # 다음 버튼 클릭\n",
    "        time.sleep(2)\n",
    "\n",
    "print(dict)"
   ]
  },
  {
   "cell_type": "code",
   "execution_count": 134,
   "metadata": {
    "scrolled": false
   },
   "outputs": [
    {
     "name": "stdout",
     "output_type": "stream",
     "text": [
      "(10, 4)\n"
     ]
    },
    {
     "data": {
      "text/html": [
       "<div>\n",
       "<style scoped>\n",
       "    .dataframe tbody tr th:only-of-type {\n",
       "        vertical-align: middle;\n",
       "    }\n",
       "\n",
       "    .dataframe tbody tr th {\n",
       "        vertical-align: top;\n",
       "    }\n",
       "\n",
       "    .dataframe thead th {\n",
       "        text-align: right;\n",
       "    }\n",
       "</style>\n",
       "<table border=\"1\" class=\"dataframe\">\n",
       "  <thead>\n",
       "    <tr style=\"text-align: right;\">\n",
       "      <th></th>\n",
       "      <th>pic</th>\n",
       "      <th>date</th>\n",
       "      <th>like</th>\n",
       "      <th>tag</th>\n",
       "    </tr>\n",
       "  </thead>\n",
       "  <tbody>\n",
       "    <tr>\n",
       "      <th>0</th>\n",
       "      <td>https://scontent-gmp1-1.cdninstagram.com/v/t51...</td>\n",
       "      <td>7월 19, 2022</td>\n",
       "      <td>좋아요 1,926개</td>\n",
       "      <td>[#돼슐랭, @michelin_piggy, #부평맛집, #고기맛집, #삼겹살맛집, ...</td>\n",
       "    </tr>\n",
       "    <tr>\n",
       "      <th>1</th>\n",
       "      <td>https://scontent-gmp1-1.cdninstagram.com/v/t51...</td>\n",
       "      <td>7월 21, 2022</td>\n",
       "      <td>좋아요 623개</td>\n",
       "      <td>[#합정티라미수, #저장필수, #합정티라미수, #요미_합정, #요미_홍대, #요미_...</td>\n",
       "    </tr>\n",
       "    <tr>\n",
       "      <th>2</th>\n",
       "      <td>https://scontent-gmp1-1.cdninstagram.com/v/t51...</td>\n",
       "      <td>7월 22, 2022</td>\n",
       "      <td>좋아요 627개</td>\n",
       "      <td>[@camello_yeonnam, #홍대맛집]</td>\n",
       "    </tr>\n",
       "    <tr>\n",
       "      <th>3</th>\n",
       "      <td>https://scontent-gmp1-1.cdninstagram.com/v/t51...</td>\n",
       "      <td>7월 22, 2022</td>\n",
       "      <td>여러 명</td>\n",
       "      <td>[#두찜, #코카콜라, #코카콜라굿즈, #코카콜라보냉백, #두찜코카콜라세트, #두찜...</td>\n",
       "    </tr>\n",
       "    <tr>\n",
       "      <th>4</th>\n",
       "      <td>https://scontent-gmp1-1.cdninstagram.com/v/t51...</td>\n",
       "      <td>7월 21, 2022</td>\n",
       "      <td>좋아요 692개</td>\n",
       "      <td>[#유경당, #유경당연남점, #맛포트_홍대, #맛포트_연남동, #홍대맛집, #홍대술...</td>\n",
       "    </tr>\n",
       "    <tr>\n",
       "      <th>5</th>\n",
       "      <td>https://scontent-gmp1-1.cdninstagram.com/v/t51...</td>\n",
       "      <td>7월 21, 2022</td>\n",
       "      <td>좋아요 1,609개</td>\n",
       "      <td>[#합정맛집, #합정역맛집, #조이떡볶이, #떡볶이맛집, #저장각, #합정동맛집, ...</td>\n",
       "    </tr>\n",
       "    <tr>\n",
       "      <th>6</th>\n",
       "      <td>https://scontent-gmp1-1.cdninstagram.com/v/t51...</td>\n",
       "      <td>7월 21, 2022</td>\n",
       "      <td>좋아요 573개</td>\n",
       "      <td>[#소점, #푸딜락_연남, #푸딜락_홍대]</td>\n",
       "    </tr>\n",
       "    <tr>\n",
       "      <th>7</th>\n",
       "      <td>https://scontent-gmp1-1.cdninstagram.com/v/t51...</td>\n",
       "      <td>7월 21, 2022</td>\n",
       "      <td>좋아요 451개</td>\n",
       "      <td>[#애월연어, #연남동맛집, #연남맛집, #연남동핫플, #연남동데이트, #연남동연어...</td>\n",
       "    </tr>\n",
       "    <tr>\n",
       "      <th>8</th>\n",
       "      <td>https://scontent-gmp1-1.cdninstagram.com/v/t51...</td>\n",
       "      <td>7월 22, 2022</td>\n",
       "      <td>좋아요 1개</td>\n",
       "      <td>[#노스페이스, #말란구매가능, #데일리룩, #워크웨어, #올드스쿨, #홍대, #홍...</td>\n",
       "    </tr>\n",
       "    <tr>\n",
       "      <th>9</th>\n",
       "      <td>https://scontent-gmp1-1.cdninstagram.com/v/t51...</td>\n",
       "      <td>7월 22, 2022</td>\n",
       "      <td>좋아요 1개</td>\n",
       "      <td>[#나이키, #말란구매가능, #데일리룩, #워크웨어, #올드스쿨, #홍대, #홍대맛...</td>\n",
       "    </tr>\n",
       "  </tbody>\n",
       "</table>\n",
       "</div>"
      ],
      "text/plain": [
       "                                                 pic         date        like  \\\n",
       "0  https://scontent-gmp1-1.cdninstagram.com/v/t51...  7월 19, 2022  좋아요 1,926개   \n",
       "1  https://scontent-gmp1-1.cdninstagram.com/v/t51...  7월 21, 2022    좋아요 623개   \n",
       "2  https://scontent-gmp1-1.cdninstagram.com/v/t51...  7월 22, 2022    좋아요 627개   \n",
       "3  https://scontent-gmp1-1.cdninstagram.com/v/t51...  7월 22, 2022        여러 명   \n",
       "4  https://scontent-gmp1-1.cdninstagram.com/v/t51...  7월 21, 2022    좋아요 692개   \n",
       "5  https://scontent-gmp1-1.cdninstagram.com/v/t51...  7월 21, 2022  좋아요 1,609개   \n",
       "6  https://scontent-gmp1-1.cdninstagram.com/v/t51...  7월 21, 2022    좋아요 573개   \n",
       "7  https://scontent-gmp1-1.cdninstagram.com/v/t51...  7월 21, 2022    좋아요 451개   \n",
       "8  https://scontent-gmp1-1.cdninstagram.com/v/t51...  7월 22, 2022      좋아요 1개   \n",
       "9  https://scontent-gmp1-1.cdninstagram.com/v/t51...  7월 22, 2022      좋아요 1개   \n",
       "\n",
       "                                                 tag  \n",
       "0  [#돼슐랭, @michelin_piggy, #부평맛집, #고기맛집, #삼겹살맛집, ...  \n",
       "1  [#합정티라미수, #저장필수, #합정티라미수, #요미_합정, #요미_홍대, #요미_...  \n",
       "2                          [@camello_yeonnam, #홍대맛집]  \n",
       "3  [#두찜, #코카콜라, #코카콜라굿즈, #코카콜라보냉백, #두찜코카콜라세트, #두찜...  \n",
       "4  [#유경당, #유경당연남점, #맛포트_홍대, #맛포트_연남동, #홍대맛집, #홍대술...  \n",
       "5  [#합정맛집, #합정역맛집, #조이떡볶이, #떡볶이맛집, #저장각, #합정동맛집, ...  \n",
       "6                            [#소점, #푸딜락_연남, #푸딜락_홍대]  \n",
       "7  [#애월연어, #연남동맛집, #연남맛집, #연남동핫플, #연남동데이트, #연남동연어...  \n",
       "8  [#노스페이스, #말란구매가능, #데일리룩, #워크웨어, #올드스쿨, #홍대, #홍...  \n",
       "9  [#나이키, #말란구매가능, #데일리룩, #워크웨어, #올드스쿨, #홍대, #홍대맛...  "
      ]
     },
     "execution_count": 134,
     "metadata": {},
     "output_type": "execute_result"
    }
   ],
   "source": [
    "# 판다스로 만들기 : 엑셀(테이블) 형식으로 만들기\n",
    "import pandas as pd\n",
    "result_df = pd.DataFrame.from_dict(dict, 'index')\n",
    "\n",
    "print(result_df.shape)\n",
    "result_df"
   ]
  },
  {
   "cell_type": "code",
   "execution_count": 135,
   "metadata": {
    "scrolled": false
   },
   "outputs": [],
   "source": [
    "# n = result_df['picture'].count()\n",
    "\n",
    "# csv 파일로 저장\n",
    "result_df.to_csv(\"insta({}).csv\".format(keyword), encoding='utf-8-sig')"
   ]
  },
  {
   "cell_type": "code",
   "execution_count": 136,
   "metadata": {},
   "outputs": [
    {
     "data": {
      "text/plain": [
       "'/Users/aiden/Dropbox/Mac/Desktop/2022 k-digital 멀캠_2회차/03.crawling'"
      ]
     },
     "execution_count": 136,
     "metadata": {},
     "output_type": "execute_result"
    }
   ],
   "source": [
    "pwd"
   ]
  },
  {
   "cell_type": "code",
   "execution_count": 280,
   "metadata": {},
   "outputs": [
    {
     "data": {
      "text/plain": [
       "19"
      ]
     },
     "execution_count": 280,
     "metadata": {},
     "output_type": "execute_result"
    }
   ],
   "source": [
    "num_pic = len(result_df['picture'])\n",
    "num_pic"
   ]
  },
  {
   "cell_type": "code",
   "execution_count": 283,
   "metadata": {},
   "outputs": [
    {
     "data": {
      "text/plain": [
       "'https://scontent-ssn1-1.cdninstagram.com/v/t51.2885-15/e35/s1080x1080/270198408_500743957955531_288304182000581783_n.jpg?_nc_ht=scontent-ssn1-1.cdninstagram.com&_nc_cat=111&_nc_ohc=AsL_-zhcD_gAX9uMQFo&edm=AP_V10EBAAAA&ccb=7-4&oh=00_AT-hESke_pDxPMz1c2b1DFycN9B-tmS-3ld9VHjZIGA19g&oe=61D61CD4&_nc_sid=4f375e'"
      ]
     },
     "execution_count": 283,
     "metadata": {},
     "output_type": "execute_result"
    }
   ],
   "source": [
    "result_df['picture'][0]"
   ]
  },
  {
   "cell_type": "code",
   "execution_count": 284,
   "metadata": {},
   "outputs": [],
   "source": [
    "# 이미지들 image_insta 폴더에 다운받기\n",
    "import os\n",
    "import urllib.request\n",
    "\n",
    "# 만약 image_insta 폴더가 없으면 만들어라\n",
    "if not os.path.exists(\"image_insta\"):\n",
    "    os.makedirs(\"image_insta\")\n",
    "        \n",
    "for i in range(0, 50):\n",
    "    \n",
    "    try:\n",
    "        index = result_df['picture'][i]\n",
    "        date = result_df['date'][i]\n",
    "        urllib.request.urlretrieve(index, \"image_insta/{0}_{1}.jpg\".format(date, i))        \n",
    "    except:\n",
    "        pass"
   ]
  },
  {
   "cell_type": "markdown",
   "metadata": {},
   "source": [
    "끝"
   ]
  },
  {
   "cell_type": "code",
   "execution_count": 285,
   "metadata": {},
   "outputs": [
    {
     "data": {
      "text/plain": [
       "'/Users/aiden/Dropbox/Mac/Desktop/03.crawling'"
      ]
     },
     "execution_count": 285,
     "metadata": {},
     "output_type": "execute_result"
    }
   ],
   "source": [
    "pwd"
   ]
  },
  {
   "cell_type": "code",
   "execution_count": null,
   "metadata": {},
   "outputs": [],
   "source": []
  }
 ],
 "metadata": {
  "kernelspec": {
   "display_name": "Python 3",
   "language": "python",
   "name": "python3"
  },
  "language_info": {
   "codemirror_mode": {
    "name": "ipython",
    "version": 3
   },
   "file_extension": ".py",
   "mimetype": "text/x-python",
   "name": "python",
   "nbconvert_exporter": "python",
   "pygments_lexer": "ipython3",
   "version": "3.8.8"
  },
  "toc": {
   "base_numbering": 1,
   "nav_menu": {},
   "number_sections": true,
   "sideBar": true,
   "skip_h1_title": false,
   "title_cell": "Table of Contents",
   "title_sidebar": "Contents",
   "toc_cell": false,
   "toc_position": {},
   "toc_section_display": true,
   "toc_window_display": false
  },
  "varInspector": {
   "cols": {
    "lenName": 16,
    "lenType": 16,
    "lenVar": 40
   },
   "kernels_config": {
    "python": {
     "delete_cmd_postfix": "",
     "delete_cmd_prefix": "del ",
     "library": "var_list.py",
     "varRefreshCmd": "print(var_dic_list())"
    },
    "r": {
     "delete_cmd_postfix": ") ",
     "delete_cmd_prefix": "rm(",
     "library": "var_list.r",
     "varRefreshCmd": "cat(var_dic_list()) "
    }
   },
   "types_to_exclude": [
    "module",
    "function",
    "builtin_function_or_method",
    "instance",
    "_Feature"
   ],
   "window_display": false
  }
 },
 "nbformat": 4,
 "nbformat_minor": 2
}
