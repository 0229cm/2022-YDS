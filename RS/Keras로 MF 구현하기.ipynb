{
 "cells": [
  {
   "cell_type": "code",
   "execution_count": 2,
   "id": "38519d5e",
   "metadata": {},
   "outputs": [],
   "source": [
    "import pandas as pd\n",
    "import numpy as np\n",
    "import matplotlib.pyplot as plt\n",
    "\n",
    "from sklearn.model_selection import train_test_split\n",
    "\n",
    "import tensorflow as tf\n",
    "from tensorflow.keras import layers\n",
    "from tensorflow.keras.models import Model\n",
    "from tensorflow.keras.layers import Input, Embedding, Dot, Add, Flatten\n",
    "from tensorflow.keras.regularizers import l2\n",
    "from tensorflow.keras.optimizers import SGD, Adamax\n"
   ]
  },
  {
   "cell_type": "code",
   "execution_count": 18,
   "id": "da319540",
   "metadata": {},
   "outputs": [
    {
     "name": "stdout",
     "output_type": "stream",
     "text": [
      "(100000, 4)\n"
     ]
    },
    {
     "data": {
      "text/html": [
       "<div>\n",
       "<style scoped>\n",
       "    .dataframe tbody tr th:only-of-type {\n",
       "        vertical-align: middle;\n",
       "    }\n",
       "\n",
       "    .dataframe tbody tr th {\n",
       "        vertical-align: top;\n",
       "    }\n",
       "\n",
       "    .dataframe thead th {\n",
       "        text-align: right;\n",
       "    }\n",
       "</style>\n",
       "<table border=\"1\" class=\"dataframe\">\n",
       "  <thead>\n",
       "    <tr style=\"text-align: right;\">\n",
       "      <th></th>\n",
       "      <th>user_id</th>\n",
       "      <th>movie_id</th>\n",
       "      <th>rating</th>\n",
       "      <th>timestamp</th>\n",
       "    </tr>\n",
       "  </thead>\n",
       "  <tbody>\n",
       "    <tr>\n",
       "      <th>0</th>\n",
       "      <td>196</td>\n",
       "      <td>242</td>\n",
       "      <td>3</td>\n",
       "      <td>881250949</td>\n",
       "    </tr>\n",
       "    <tr>\n",
       "      <th>1</th>\n",
       "      <td>186</td>\n",
       "      <td>302</td>\n",
       "      <td>3</td>\n",
       "      <td>891717742</td>\n",
       "    </tr>\n",
       "    <tr>\n",
       "      <th>2</th>\n",
       "      <td>22</td>\n",
       "      <td>377</td>\n",
       "      <td>1</td>\n",
       "      <td>878887116</td>\n",
       "    </tr>\n",
       "    <tr>\n",
       "      <th>3</th>\n",
       "      <td>244</td>\n",
       "      <td>51</td>\n",
       "      <td>2</td>\n",
       "      <td>880606923</td>\n",
       "    </tr>\n",
       "    <tr>\n",
       "      <th>4</th>\n",
       "      <td>166</td>\n",
       "      <td>346</td>\n",
       "      <td>1</td>\n",
       "      <td>886397596</td>\n",
       "    </tr>\n",
       "  </tbody>\n",
       "</table>\n",
       "</div>"
      ],
      "text/plain": [
       "   user_id  movie_id  rating  timestamp\n",
       "0      196       242       3  881250949\n",
       "1      186       302       3  891717742\n",
       "2       22       377       1  878887116\n",
       "3      244        51       2  880606923\n",
       "4      166       346       1  886397596"
      ]
     },
     "execution_count": 18,
     "metadata": {},
     "output_type": "execute_result"
    }
   ],
   "source": [
    "# DataFrame 형태로 데이터를 읽어온다.\n",
    "r_cols = ['user_id', 'movie_id', 'rating', 'timestamp']\n",
    "\n",
    "# 유저-영화 평점 데이터 \"u.data\" 로드\n",
    "ratings = pd.read_csv('./u.data', \n",
    "                     names=r_cols,\n",
    "                      sep='\\t',\n",
    "                      encoding='latin-1'\n",
    "                     )\n",
    "print(ratings.shape)\n",
    "ratings.head()"
   ]
  },
  {
   "cell_type": "code",
   "execution_count": 19,
   "id": "cfdc0831",
   "metadata": {},
   "outputs": [],
   "source": [
    "# 학습, 테스트 구분하기\n",
    "ratings_train, ratings_test = train_test_split(ratings,\n",
    "                                              test_size=0.2,\n",
    "                                              shuffle=True,\n",
    "                                              random_state=2022)"
   ]
  },
  {
   "cell_type": "code",
   "execution_count": 20,
   "id": "a4e81832",
   "metadata": {},
   "outputs": [],
   "source": [
    "# 추천 시스템 metric : RMSE (keras에는 RMSE 메소드가 없어서 만들어줘야 함)\n",
    "def RMSE(y_true, y_pred):\n",
    "    return tf.sqrt(tf.reduce_mean(tf.square(y_true - y_pred)))"
   ]
  },
  {
   "cell_type": "code",
   "execution_count": 7,
   "id": "4c1f0fdc",
   "metadata": {},
   "outputs": [],
   "source": [
    "# 잠재 요인 수 \n",
    "K=200\n",
    "\n",
    "# 전체 평점 평균\n",
    "mu = ratings_train.rating.mean()\n",
    "\n",
    "# 사용자id, 영화id의 최대값을 구한다.(bias term의 크기 1을 고려하여 +1을 해준다)\n",
    "M = ratings.user_id.max() + 1\n",
    "N = ratings.movie_id.max() + 1"
   ]
  },
  {
   "cell_type": "code",
   "execution_count": 25,
   "id": "585a871e",
   "metadata": {},
   "outputs": [
    {
     "name": "stdout",
     "output_type": "stream",
     "text": [
      "사용자 개수 max값: 944\n",
      "아이템 개수 max값: 1683\n"
     ]
    }
   ],
   "source": [
    "print('사용자 개수 max값:', M)\n",
    "print('아이템 개수 max값:', N)"
   ]
  },
  {
   "cell_type": "markdown",
   "id": "1c9ca2d9",
   "metadata": {},
   "source": [
    "# 케라스 모델 생성"
   ]
  },
  {
   "cell_type": "code",
   "execution_count": 8,
   "id": "74dfc1b0",
   "metadata": {},
   "outputs": [],
   "source": [
    "user = Input(shape=(1, ))\n",
    "item = Input(shape=(1, ))\n",
    "\n",
    "# P,Q 임베딩 \n",
    "P_embedding = Embedding(M, K, embeddings_regularizer=l2())(user)\n",
    "Q_embedding = Embedding(N, K, embeddings_regularizer=l2())(item)\n",
    "\n",
    "# 사용자, 아이템 평가 경향(bias)\n",
    "user_bias = Embedding(M, 1, embeddings_regularizer=l2())(user)\n",
    "item_bias = Embedding(N, 1, embeddings_regularizer=l2())(item)"
   ]
  },
  {
   "cell_type": "code",
   "execution_count": 21,
   "id": "df6005ef",
   "metadata": {},
   "outputs": [
    {
     "name": "stdout",
     "output_type": "stream",
     "text": [
      "Model: \"model_1\"\n",
      "__________________________________________________________________________________________________\n",
      " Layer (type)                   Output Shape         Param #     Connected to                     \n",
      "==================================================================================================\n",
      " input_1 (InputLayer)           [(None, 1)]          0           []                               \n",
      "                                                                                                  \n",
      " input_2 (InputLayer)           [(None, 1)]          0           []                               \n",
      "                                                                                                  \n",
      " embedding (Embedding)          (None, 1, 200)       188800      ['input_1[0][0]']                \n",
      "                                                                                                  \n",
      " embedding_1 (Embedding)        (None, 1, 200)       336600      ['input_2[0][0]']                \n",
      "                                                                                                  \n",
      " dot_1 (Dot)                    (None, 1, 1)         0           ['embedding[0][0]',              \n",
      "                                                                  'embedding_1[0][0]']            \n",
      "                                                                                                  \n",
      " embedding_2 (Embedding)        (None, 1, 1)         944         ['input_1[0][0]']                \n",
      "                                                                                                  \n",
      " embedding_3 (Embedding)        (None, 1, 1)         1683        ['input_2[0][0]']                \n",
      "                                                                                                  \n",
      " add_1 (Add)                    (None, 1, 1)         0           ['dot_1[0][0]',                  \n",
      "                                                                  'embedding_2[0][0]',            \n",
      "                                                                  'embedding_3[0][0]']            \n",
      "                                                                                                  \n",
      " flatten_1 (Flatten)            (None, 1)            0           ['add_1[0][0]']                  \n",
      "                                                                                                  \n",
      "==================================================================================================\n",
      "Total params: 528,027\n",
      "Trainable params: 528,027\n",
      "Non-trainable params: 0\n",
      "__________________________________________________________________________________________________\n"
     ]
    }
   ],
   "source": [
    "# 사용자 임베딩과 아이템 임베딩 간 dot product\n",
    "R = layers.dot([P_embedding, Q_embedding], axes=(2, 2))  # 2번째 축(K)끼리 연산을 하겠다.\n",
    "R = layers.add([R, user_bias, item_bias])\n",
    "R = Flatten()(R)\n",
    "\n",
    "model = Model(inputs=[user, item], outputs=R)\n",
    "\n",
    "# 컴파일(환경구성)\n",
    "model.compile(\n",
    "    loss = RMSE, \n",
    "    optimizer = SGD(),\n",
    "    metrics = [RMSE]\n",
    ")\n",
    "\n",
    "model.summary()\n",
    "# 사용자 수가 944, 잠재요인 수가 200 -> 944x200 = 188800"
   ]
  },
  {
   "cell_type": "code",
   "execution_count": 38,
   "id": "3308bf90",
   "metadata": {
    "scrolled": true
   },
   "outputs": [
    {
     "name": "stdout",
     "output_type": "stream",
     "text": [
      "Epoch 1/100\n",
      "313/313 [==============================] - 2s 5ms/step - loss: 1.1121 - RMSE: 1.0965 - val_loss: 1.1103 - val_RMSE: 1.0937\n",
      "Epoch 2/100\n",
      "313/313 [==============================] - 1s 5ms/step - loss: 1.1119 - RMSE: 1.0965 - val_loss: 1.1101 - val_RMSE: 1.0937\n",
      "Epoch 3/100\n",
      "313/313 [==============================] - 2s 5ms/step - loss: 1.1117 - RMSE: 1.0964 - val_loss: 1.1099 - val_RMSE: 1.0936\n",
      "Epoch 4/100\n",
      "313/313 [==============================] - 2s 5ms/step - loss: 1.1114 - RMSE: 1.0964 - val_loss: 1.1097 - val_RMSE: 1.0936\n",
      "Epoch 5/100\n",
      "313/313 [==============================] - 1s 5ms/step - loss: 1.1112 - RMSE: 1.0964 - val_loss: 1.1095 - val_RMSE: 1.0936\n",
      "Epoch 6/100\n",
      "313/313 [==============================] - 1s 5ms/step - loss: 1.1110 - RMSE: 1.0964 - val_loss: 1.1094 - val_RMSE: 1.0936\n",
      "Epoch 7/100\n",
      "313/313 [==============================] - 1s 5ms/step - loss: 1.1109 - RMSE: 1.0964 - val_loss: 1.1092 - val_RMSE: 1.0936\n",
      "Epoch 8/100\n",
      "313/313 [==============================] - 2s 5ms/step - loss: 1.1108 - RMSE: 1.0962 - val_loss: 1.1091 - val_RMSE: 1.0935\n",
      "Epoch 9/100\n",
      "313/313 [==============================] - 2s 5ms/step - loss: 1.1107 - RMSE: 1.0962 - val_loss: 1.1090 - val_RMSE: 1.0935\n",
      "Epoch 10/100\n",
      "313/313 [==============================] - 1s 5ms/step - loss: 1.1105 - RMSE: 1.0963 - val_loss: 1.1089 - val_RMSE: 1.0935\n",
      "Epoch 11/100\n",
      "313/313 [==============================] - 1s 5ms/step - loss: 1.1105 - RMSE: 1.0963 - val_loss: 1.1088 - val_RMSE: 1.0935\n",
      "Epoch 12/100\n",
      "313/313 [==============================] - 1s 5ms/step - loss: 1.1104 - RMSE: 1.0962 - val_loss: 1.1088 - val_RMSE: 1.0935\n",
      "Epoch 13/100\n",
      "313/313 [==============================] - 2s 5ms/step - loss: 1.1103 - RMSE: 1.0962 - val_loss: 1.1087 - val_RMSE: 1.0935\n",
      "Epoch 14/100\n",
      "313/313 [==============================] - 2s 5ms/step - loss: 1.1102 - RMSE: 1.0962 - val_loss: 1.1086 - val_RMSE: 1.0935\n",
      "Epoch 15/100\n",
      "313/313 [==============================] - 2s 5ms/step - loss: 1.1103 - RMSE: 1.0963 - val_loss: 1.1086 - val_RMSE: 1.0935\n",
      "Epoch 16/100\n",
      "313/313 [==============================] - 2s 5ms/step - loss: 1.1102 - RMSE: 1.0962 - val_loss: 1.1086 - val_RMSE: 1.0935\n",
      "Epoch 17/100\n",
      "313/313 [==============================] - 2s 5ms/step - loss: 1.1102 - RMSE: 1.0961 - val_loss: 1.1085 - val_RMSE: 1.0934\n",
      "Epoch 18/100\n",
      "313/313 [==============================] - 2s 6ms/step - loss: 1.1103 - RMSE: 1.0966 - val_loss: 1.1085 - val_RMSE: 1.0934\n",
      "Epoch 19/100\n",
      "313/313 [==============================] - 2s 5ms/step - loss: 1.1101 - RMSE: 1.0961 - val_loss: 1.1085 - val_RMSE: 1.0934\n",
      "Epoch 20/100\n",
      "313/313 [==============================] - 2s 5ms/step - loss: 1.1101 - RMSE: 1.0963 - val_loss: 1.1084 - val_RMSE: 1.0934\n",
      "Epoch 21/100\n",
      "313/313 [==============================] - 2s 5ms/step - loss: 1.1101 - RMSE: 1.0960 - val_loss: 1.1084 - val_RMSE: 1.0934\n",
      "Epoch 22/100\n",
      "313/313 [==============================] - 2s 5ms/step - loss: 1.1100 - RMSE: 1.0960 - val_loss: 1.1084 - val_RMSE: 1.0934\n",
      "Epoch 23/100\n",
      "313/313 [==============================] - 2s 5ms/step - loss: 1.1100 - RMSE: 1.0961 - val_loss: 1.1084 - val_RMSE: 1.0934\n",
      "Epoch 24/100\n",
      "313/313 [==============================] - 2s 5ms/step - loss: 1.1099 - RMSE: 1.0960 - val_loss: 1.1084 - val_RMSE: 1.0934\n",
      "Epoch 25/100\n",
      "313/313 [==============================] - 2s 5ms/step - loss: 1.1100 - RMSE: 1.0961 - val_loss: 1.1083 - val_RMSE: 1.0934\n",
      "Epoch 26/100\n",
      "313/313 [==============================] - 2s 5ms/step - loss: 1.1100 - RMSE: 1.0964 - val_loss: 1.1083 - val_RMSE: 1.0934\n",
      "Epoch 27/100\n",
      "313/313 [==============================] - 2s 5ms/step - loss: 1.1099 - RMSE: 1.0960 - val_loss: 1.1083 - val_RMSE: 1.0934\n",
      "Epoch 28/100\n",
      "313/313 [==============================] - 2s 5ms/step - loss: 1.1100 - RMSE: 1.0962 - val_loss: 1.1083 - val_RMSE: 1.0934\n",
      "Epoch 29/100\n",
      "313/313 [==============================] - 2s 5ms/step - loss: 1.1099 - RMSE: 1.0962 - val_loss: 1.1083 - val_RMSE: 1.0934\n",
      "Epoch 30/100\n",
      "313/313 [==============================] - 1s 5ms/step - loss: 1.1100 - RMSE: 1.0962 - val_loss: 1.1083 - val_RMSE: 1.0934\n",
      "Epoch 31/100\n",
      "313/313 [==============================] - 1s 5ms/step - loss: 1.1097 - RMSE: 1.0962 - val_loss: 1.1083 - val_RMSE: 1.0934\n",
      "Epoch 32/100\n",
      "313/313 [==============================] - 2s 5ms/step - loss: 1.1100 - RMSE: 1.0961 - val_loss: 1.1083 - val_RMSE: 1.0934\n",
      "Epoch 33/100\n",
      "313/313 [==============================] - 2s 5ms/step - loss: 1.1099 - RMSE: 1.0961 - val_loss: 1.1083 - val_RMSE: 1.0934\n",
      "Epoch 34/100\n",
      "313/313 [==============================] - 2s 5ms/step - loss: 1.1099 - RMSE: 1.0962 - val_loss: 1.1083 - val_RMSE: 1.0934\n",
      "Epoch 35/100\n",
      "313/313 [==============================] - 2s 5ms/step - loss: 1.1100 - RMSE: 1.0962 - val_loss: 1.1083 - val_RMSE: 1.0934\n",
      "Epoch 36/100\n",
      "313/313 [==============================] - 2s 5ms/step - loss: 1.1099 - RMSE: 1.0962 - val_loss: 1.1083 - val_RMSE: 1.0934\n",
      "Epoch 37/100\n",
      "313/313 [==============================] - 2s 5ms/step - loss: 1.1099 - RMSE: 1.0962 - val_loss: 1.1083 - val_RMSE: 1.0934\n",
      "Epoch 38/100\n",
      "313/313 [==============================] - 2s 6ms/step - loss: 1.1097 - RMSE: 1.0960 - val_loss: 1.1083 - val_RMSE: 1.0934\n",
      "Epoch 39/100\n",
      "313/313 [==============================] - 2s 6ms/step - loss: 1.1100 - RMSE: 1.0961 - val_loss: 1.1083 - val_RMSE: 1.0934\n",
      "Epoch 40/100\n",
      "313/313 [==============================] - 2s 6ms/step - loss: 1.1099 - RMSE: 1.0961 - val_loss: 1.1083 - val_RMSE: 1.0933\n",
      "Epoch 41/100\n",
      "313/313 [==============================] - 2s 6ms/step - loss: 1.1098 - RMSE: 1.0959 - val_loss: 1.1083 - val_RMSE: 1.0933\n",
      "Epoch 42/100\n",
      "313/313 [==============================] - 2s 6ms/step - loss: 1.1098 - RMSE: 1.0960 - val_loss: 1.1083 - val_RMSE: 1.0933\n",
      "Epoch 43/100\n",
      "313/313 [==============================] - 2s 6ms/step - loss: 1.1098 - RMSE: 1.0960 - val_loss: 1.1083 - val_RMSE: 1.0933\n",
      "Epoch 44/100\n",
      "313/313 [==============================] - 2s 6ms/step - loss: 1.1100 - RMSE: 1.0961 - val_loss: 1.1083 - val_RMSE: 1.0933\n",
      "Epoch 45/100\n",
      "313/313 [==============================] - 2s 5ms/step - loss: 1.1099 - RMSE: 1.0958 - val_loss: 1.1083 - val_RMSE: 1.0933\n",
      "Epoch 46/100\n",
      "313/313 [==============================] - 2s 5ms/step - loss: 1.1099 - RMSE: 1.0960 - val_loss: 1.1082 - val_RMSE: 1.0933\n",
      "Epoch 47/100\n",
      "313/313 [==============================] - 2s 5ms/step - loss: 1.1098 - RMSE: 1.0962 - val_loss: 1.1082 - val_RMSE: 1.0933\n",
      "Epoch 48/100\n",
      "313/313 [==============================] - 2s 5ms/step - loss: 1.1098 - RMSE: 1.0962 - val_loss: 1.1082 - val_RMSE: 1.0933\n",
      "Epoch 49/100\n",
      "313/313 [==============================] - 2s 6ms/step - loss: 1.1098 - RMSE: 1.0960 - val_loss: 1.1082 - val_RMSE: 1.0933\n",
      "Epoch 50/100\n",
      "313/313 [==============================] - 2s 6ms/step - loss: 1.1098 - RMSE: 1.0960 - val_loss: 1.1082 - val_RMSE: 1.0933\n",
      "Epoch 51/100\n",
      "313/313 [==============================] - 2s 6ms/step - loss: 1.1099 - RMSE: 1.0961 - val_loss: 1.1082 - val_RMSE: 1.0933\n",
      "Epoch 52/100\n",
      "313/313 [==============================] - 2s 5ms/step - loss: 1.1099 - RMSE: 1.0961 - val_loss: 1.1082 - val_RMSE: 1.0933\n",
      "Epoch 53/100\n",
      "313/313 [==============================] - 1s 5ms/step - loss: 1.1098 - RMSE: 1.0961 - val_loss: 1.1082 - val_RMSE: 1.0933\n",
      "Epoch 54/100\n",
      "313/313 [==============================] - 2s 5ms/step - loss: 1.1099 - RMSE: 1.0961 - val_loss: 1.1082 - val_RMSE: 1.0933\n",
      "Epoch 55/100\n",
      "313/313 [==============================] - 2s 5ms/step - loss: 1.1099 - RMSE: 1.0960 - val_loss: 1.1082 - val_RMSE: 1.0933\n",
      "Epoch 56/100\n",
      "313/313 [==============================] - 2s 5ms/step - loss: 1.1098 - RMSE: 1.0961 - val_loss: 1.1082 - val_RMSE: 1.0933\n",
      "Epoch 57/100\n",
      "313/313 [==============================] - 2s 6ms/step - loss: 1.1098 - RMSE: 1.0959 - val_loss: 1.1082 - val_RMSE: 1.0933\n",
      "Epoch 58/100\n",
      "313/313 [==============================] - 2s 6ms/step - loss: 1.1099 - RMSE: 1.0961 - val_loss: 1.1082 - val_RMSE: 1.0933\n",
      "Epoch 59/100\n",
      "313/313 [==============================] - 2s 6ms/step - loss: 1.1098 - RMSE: 1.0961 - val_loss: 1.1082 - val_RMSE: 1.0933\n",
      "Epoch 60/100\n",
      "313/313 [==============================] - 2s 6ms/step - loss: 1.1098 - RMSE: 1.0961 - val_loss: 1.1082 - val_RMSE: 1.0933\n",
      "Epoch 61/100\n"
     ]
    },
    {
     "name": "stdout",
     "output_type": "stream",
     "text": [
      "313/313 [==============================] - 2s 6ms/step - loss: 1.1099 - RMSE: 1.0961 - val_loss: 1.1082 - val_RMSE: 1.0933\n",
      "Epoch 62/100\n",
      "313/313 [==============================] - 2s 6ms/step - loss: 1.1099 - RMSE: 1.0962 - val_loss: 1.1082 - val_RMSE: 1.0933\n",
      "Epoch 63/100\n",
      "313/313 [==============================] - 2s 6ms/step - loss: 1.1099 - RMSE: 1.0963 - val_loss: 1.1082 - val_RMSE: 1.0933\n",
      "Epoch 64/100\n",
      "313/313 [==============================] - 2s 5ms/step - loss: 1.1098 - RMSE: 1.0962 - val_loss: 1.1082 - val_RMSE: 1.0933\n",
      "Epoch 65/100\n",
      "313/313 [==============================] - 2s 6ms/step - loss: 1.1099 - RMSE: 1.0961 - val_loss: 1.1082 - val_RMSE: 1.0933\n",
      "Epoch 66/100\n",
      "313/313 [==============================] - 2s 6ms/step - loss: 1.1099 - RMSE: 1.0959 - val_loss: 1.1082 - val_RMSE: 1.0933\n",
      "Epoch 67/100\n",
      "313/313 [==============================] - 2s 5ms/step - loss: 1.1097 - RMSE: 1.0959 - val_loss: 1.1082 - val_RMSE: 1.0933\n",
      "Epoch 68/100\n",
      "313/313 [==============================] - 2s 5ms/step - loss: 1.1098 - RMSE: 1.0959 - val_loss: 1.1082 - val_RMSE: 1.0933\n",
      "Epoch 69/100\n",
      "313/313 [==============================] - 1s 5ms/step - loss: 1.1098 - RMSE: 1.0960 - val_loss: 1.1082 - val_RMSE: 1.0933\n",
      "Epoch 70/100\n",
      "313/313 [==============================] - 2s 5ms/step - loss: 1.1099 - RMSE: 1.0961 - val_loss: 1.1082 - val_RMSE: 1.0933\n",
      "Epoch 71/100\n",
      "313/313 [==============================] - 2s 5ms/step - loss: 1.1099 - RMSE: 1.0959 - val_loss: 1.1082 - val_RMSE: 1.0933\n",
      "Epoch 72/100\n",
      "313/313 [==============================] - 2s 5ms/step - loss: 1.1098 - RMSE: 1.0960 - val_loss: 1.1082 - val_RMSE: 1.0933\n",
      "Epoch 73/100\n",
      "313/313 [==============================] - 2s 5ms/step - loss: 1.1098 - RMSE: 1.0960 - val_loss: 1.1082 - val_RMSE: 1.0933\n",
      "Epoch 74/100\n",
      "313/313 [==============================] - 2s 5ms/step - loss: 1.1100 - RMSE: 1.0964 - val_loss: 1.1082 - val_RMSE: 1.0933\n",
      "Epoch 75/100\n",
      "313/313 [==============================] - 2s 5ms/step - loss: 1.1099 - RMSE: 1.0962 - val_loss: 1.1082 - val_RMSE: 1.0933\n",
      "Epoch 76/100\n",
      "313/313 [==============================] - 2s 5ms/step - loss: 1.1100 - RMSE: 1.0962 - val_loss: 1.1082 - val_RMSE: 1.0933\n",
      "Epoch 77/100\n",
      "313/313 [==============================] - 2s 5ms/step - loss: 1.1097 - RMSE: 1.0960 - val_loss: 1.1082 - val_RMSE: 1.0933\n",
      "Epoch 78/100\n",
      "313/313 [==============================] - 2s 6ms/step - loss: 1.1099 - RMSE: 1.0960 - val_loss: 1.1082 - val_RMSE: 1.0933\n",
      "Epoch 79/100\n",
      "313/313 [==============================] - 2s 6ms/step - loss: 1.1098 - RMSE: 1.0959 - val_loss: 1.1082 - val_RMSE: 1.0933\n",
      "Epoch 80/100\n",
      "313/313 [==============================] - 2s 6ms/step - loss: 1.1099 - RMSE: 1.0960 - val_loss: 1.1082 - val_RMSE: 1.0933\n",
      "Epoch 81/100\n",
      "313/313 [==============================] - 2s 5ms/step - loss: 1.1098 - RMSE: 1.0959 - val_loss: 1.1082 - val_RMSE: 1.0933\n",
      "Epoch 82/100\n",
      "313/313 [==============================] - 2s 5ms/step - loss: 1.1098 - RMSE: 1.0960 - val_loss: 1.1082 - val_RMSE: 1.0933\n",
      "Epoch 83/100\n",
      "313/313 [==============================] - 2s 6ms/step - loss: 1.1097 - RMSE: 1.0960 - val_loss: 1.1082 - val_RMSE: 1.0933\n",
      "Epoch 84/100\n",
      "313/313 [==============================] - 2s 6ms/step - loss: 1.1099 - RMSE: 1.0960 - val_loss: 1.1082 - val_RMSE: 1.0933\n",
      "Epoch 85/100\n",
      "313/313 [==============================] - 2s 6ms/step - loss: 1.1098 - RMSE: 1.0960 - val_loss: 1.1082 - val_RMSE: 1.0933\n",
      "Epoch 86/100\n",
      "313/313 [==============================] - 2s 6ms/step - loss: 1.1098 - RMSE: 1.0960 - val_loss: 1.1082 - val_RMSE: 1.0933\n",
      "Epoch 87/100\n",
      "313/313 [==============================] - 2s 6ms/step - loss: 1.1098 - RMSE: 1.0963 - val_loss: 1.1082 - val_RMSE: 1.0933\n",
      "Epoch 88/100\n",
      "313/313 [==============================] - 2s 6ms/step - loss: 1.1099 - RMSE: 1.0960 - val_loss: 1.1082 - val_RMSE: 1.0933\n",
      "Epoch 89/100\n",
      "313/313 [==============================] - 2s 6ms/step - loss: 1.1099 - RMSE: 1.0961 - val_loss: 1.1082 - val_RMSE: 1.0933\n",
      "Epoch 90/100\n",
      "313/313 [==============================] - 2s 6ms/step - loss: 1.1099 - RMSE: 1.0963 - val_loss: 1.1082 - val_RMSE: 1.0933\n",
      "Epoch 91/100\n",
      "313/313 [==============================] - 1s 4ms/step - loss: 1.1100 - RMSE: 1.0963 - val_loss: 1.1082 - val_RMSE: 1.0933\n",
      "Epoch 92/100\n",
      "313/313 [==============================] - 1s 4ms/step - loss: 1.1099 - RMSE: 1.0960 - val_loss: 1.1082 - val_RMSE: 1.0933\n",
      "Epoch 93/100\n",
      "313/313 [==============================] - 1s 4ms/step - loss: 1.1099 - RMSE: 1.0960 - val_loss: 1.1082 - val_RMSE: 1.0933\n",
      "Epoch 94/100\n",
      "313/313 [==============================] - 2s 5ms/step - loss: 1.1098 - RMSE: 1.0962 - val_loss: 1.1082 - val_RMSE: 1.0933\n",
      "Epoch 95/100\n",
      "313/313 [==============================] - 2s 5ms/step - loss: 1.1100 - RMSE: 1.0961 - val_loss: 1.1082 - val_RMSE: 1.0933\n",
      "Epoch 96/100\n",
      "313/313 [==============================] - 2s 5ms/step - loss: 1.1098 - RMSE: 1.0961 - val_loss: 1.1082 - val_RMSE: 1.0933\n",
      "Epoch 97/100\n",
      "313/313 [==============================] - 2s 6ms/step - loss: 1.1098 - RMSE: 1.0960 - val_loss: 1.1082 - val_RMSE: 1.0933\n",
      "Epoch 98/100\n",
      "313/313 [==============================] - 2s 6ms/step - loss: 1.1098 - RMSE: 1.0959 - val_loss: 1.1082 - val_RMSE: 1.0933\n",
      "Epoch 99/100\n",
      "313/313 [==============================] - 2s 6ms/step - loss: 1.1099 - RMSE: 1.0961 - val_loss: 1.1082 - val_RMSE: 1.0933\n",
      "Epoch 100/100\n",
      "313/313 [==============================] - 2s 6ms/step - loss: 1.1099 - RMSE: 1.0961 - val_loss: 1.1082 - val_RMSE: 1.0933\n",
      "CPU times: user 5min 20s, sys: 3min 2s, total: 8min 23s\n",
      "Wall time: 2min 46s\n"
     ]
    }
   ],
   "source": [
    "%%time\n",
    "result = model.fit(\n",
    "    # x데이터, y데이터 지정\n",
    "    x = [ratings_train.user_id.values, \n",
    "        ratings_train.movie_id.values], \n",
    "\n",
    "    y = ratings_train.rating.values - mu,  \n",
    "    \n",
    "    epochs = 100,\n",
    "    batch_size = 256,\n",
    "    \n",
    "    # 검증 데이터 지정\n",
    "    validation_data = (\n",
    "        [ratings_test.user_id.values, \n",
    "         ratings_test.movie_id.values], \n",
    "         ratings_test.rating.values - mu\n",
    "    )\n",
    ")\n"
   ]
  },
  {
   "cell_type": "code",
   "execution_count": 39,
   "id": "99a3f1a5",
   "metadata": {},
   "outputs": [
    {
     "data": {
      "image/png": "[encoded data removed]",
      "text/plain": [
       "<Figure size 432x288 with 1 Axes>"
      ]
     },
     "metadata": {
      "needs_background": "light"
     },
     "output_type": "display_data"
    }
   ],
   "source": [
    "# 학습 과정 시각화\n",
    "plt.plot(result.history['RMSE'], label=\"Train RMSE\")\n",
    "plt.plot(result.history['val_RMSE'], label=\"Test RMSE\")\n",
    "plt.legend()\n",
    "plt.show()"
   ]
  },
  {
   "cell_type": "code",
   "execution_count": 41,
   "id": "1f9e02cf",
   "metadata": {},
   "outputs": [
    {
     "name": "stdout",
     "output_type": "stream",
     "text": [
      "[[3.568023 ]\n",
      " [3.4999242]\n",
      " [3.528027 ]\n",
      " [3.5738072]\n",
      " [3.5789893]\n",
      " [3.4877994]\n",
      " [3.529781 ]\n",
      " [3.606445 ]\n",
      " [3.571958 ]\n",
      " [3.5582628]\n",
      " [3.4902916]\n",
      " [3.5289316]\n",
      " [3.492009 ]\n",
      " [3.5115895]\n",
      " [3.5271525]]\n"
     ]
    }
   ],
   "source": [
    "# 모델로 test 데이터 예측\n",
    "user_ids = ratings_test.user_id.values\n",
    "movie_ids = ratings_test.movie_id.values\n",
    "\n",
    "predictions = model.predict([user_ids, movie_ids]) + mu\n",
    "\n",
    "# 예측값들 확인\n",
    "print(predictions[:15])"
   ]
  },
  {
   "cell_type": "code",
   "execution_count": 42,
   "id": "ed3c93e7",
   "metadata": {},
   "outputs": [
    {
     "name": "stdout",
     "output_type": "stream",
     "text": [
      "       user_id  movie_id  rating  timestamp\n",
      "59286      643       268       4  891450748\n",
      "71695      470       319       3  879178216\n",
      "70788      897       679       5  879991630\n",
      "48299      545       199       4  880347770\n",
      "16144      194       127       5  879520813\n",
      "67827      814       665       4  885411204\n",
      "59373      870       517       2  875680597\n",
      "32506      326       181       4  879875592\n",
      "48843      624       124       4  879792358\n",
      "3767       106       213       4  881453065\n",
      "10090      201       527       3  884111360\n",
      "24858      390       277       2  879694123\n",
      "43351      463       224       3  877385181\n",
      "49282      627        76       3  879530173\n",
      "11074      381       771       2  892696557\n"
     ]
    }
   ],
   "source": [
    "# 실제값\n",
    "print(ratings_test[:15])"
   ]
  },
  {
   "cell_type": "code",
   "execution_count": 44,
   "id": "648d7ccb",
   "metadata": {},
   "outputs": [],
   "source": [
    "import numpy as np\n",
    "\n",
    "# 넘파이를 활용한 RMSE 함수\n",
    "def RMSE2(y_true, y_pred):\n",
    "    return np.sqrt(np.mean((np.array(y_true) - np.array(y_pred))**2))"
   ]
  },
  {
   "cell_type": "code",
   "execution_count": 46,
   "id": "0b4f523b",
   "metadata": {},
   "outputs": [
    {
     "data": {
      "text/plain": [
       "1.095762756206577"
      ]
     },
     "execution_count": 46,
     "metadata": {},
     "output_type": "execute_result"
    }
   ],
   "source": [
    "# ravel : 1차원으로 변환\n",
    "y_pred = np.ravel(y_pred, order='C')\n",
    "y_true = np.array(ratings_test.rating)\n",
    "\n",
    "RMSE2(y_true, y_pred)"
   ]
  },
  {
   "cell_type": "code",
   "execution_count": null,
   "id": "37ebe19d",
   "metadata": {},
   "outputs": [],
   "source": []
  },
  {
   "cell_type": "code",
   "execution_count": null,
   "id": "86e8fb63",
   "metadata": {},
   "outputs": [],
   "source": []
  }
 ],
 "metadata": {
  "kernelspec": {
   "display_name": "Python 3",
   "language": "python",
   "name": "python3"
  },
  "language_info": {
   "codemirror_mode": {
    "name": "ipython",
    "version": 3
   },
   "file_extension": ".py",
   "mimetype": "text/x-python",
   "name": "python",
   "nbconvert_exporter": "python",
   "pygments_lexer": "ipython3",
   "version": "3.8.8"
  },
  "varInspector": {
   "cols": {
    "lenName": 16,
    "lenType": 16,
    "lenVar": 40
   },
   "kernels_config": {
    "python": {
     "delete_cmd_postfix": "",
     "delete_cmd_prefix": "del ",
     "library": "var_list.py",
     "varRefreshCmd": "print(var_dic_list())"
    },
    "r": {
     "delete_cmd_postfix": ") ",
     "delete_cmd_prefix": "rm(",
     "library": "var_list.r",
     "varRefreshCmd": "cat(var_dic_list()) "
    }
   },
   "types_to_exclude": [
    "module",
    "function",
    "builtin_function_or_method",
    "instance",
    "_Feature"
   ],
   "window_display": false
  }
 },
 "nbformat": 4,
 "nbformat_minor": 5
}
