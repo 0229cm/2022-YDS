{
 "cells": [
  {
   "cell_type": "code",
   "execution_count": 1,
   "id": "f874f56f",
   "metadata": {
    "scrolled": true
   },
   "outputs": [
    {
     "name": "stderr",
     "output_type": "stream",
     "text": [
      "/Users/aiden/opt/anaconda3/lib/python3.8/site-packages/requests/__init__.py:89: RequestsDependencyWarning: urllib3 (1.26.10) or chardet (3.0.4) doesn't match a supported version!\n",
      "  warnings.warn(\"urllib3 ({}) or chardet ({}) doesn't match a supported \"\n"
     ]
    }
   ],
   "source": [
    "import pandas as pd\n",
    "import numpy as np\n",
    "import matplotlib.pyplot as plt\n",
    "\n",
    "from sklearn.model_selection import train_test_split\n",
    "\n",
    "import tensorflow as tf\n",
    "from tensorflow.keras import layers\n",
    "from tensorflow.keras.models import Model\n",
    "from tensorflow.keras.layers import Input, Embedding, Dot, Add, Flatten\n",
    "\n",
    "# 딥러닝 layer 관련\n",
    "from tensorflow.keras.layers import Dense, Concatenate, Activation\n",
    "from tensorflow.keras.regularizers import l2\n",
    "from tensorflow.keras.optimizers import SGD, Adamax"
   ]
  },
  {
   "cell_type": "code",
   "execution_count": 33,
   "id": "e39573fe",
   "metadata": {},
   "outputs": [],
   "source": [
    "# RMSE 함수 (keras에는 RMSE 메소드 없어서 만들어줘야 함)\n",
    "def RMSE(y_true, y_pred):\n",
    "    return tf.sqrt(tf.reduce_mean(tf.square(y_true - y_pred)))"
   ]
  },
  {
   "cell_type": "code",
   "execution_count": 39,
   "id": "7fe7c16c",
   "metadata": {},
   "outputs": [
    {
     "name": "stdout",
     "output_type": "stream",
     "text": [
      "(100000, 4)\n"
     ]
    },
    {
     "data": {
      "text/html": [
       "<div>\n",
       "<style scoped>\n",
       "    .dataframe tbody tr th:only-of-type {\n",
       "        vertical-align: middle;\n",
       "    }\n",
       "\n",
       "    .dataframe tbody tr th {\n",
       "        vertical-align: top;\n",
       "    }\n",
       "\n",
       "    .dataframe thead th {\n",
       "        text-align: right;\n",
       "    }\n",
       "</style>\n",
       "<table border=\"1\" class=\"dataframe\">\n",
       "  <thead>\n",
       "    <tr style=\"text-align: right;\">\n",
       "      <th></th>\n",
       "      <th>user_id</th>\n",
       "      <th>movie_id</th>\n",
       "      <th>rating</th>\n",
       "      <th>timestamp</th>\n",
       "    </tr>\n",
       "  </thead>\n",
       "  <tbody>\n",
       "    <tr>\n",
       "      <th>0</th>\n",
       "      <td>196</td>\n",
       "      <td>242</td>\n",
       "      <td>3</td>\n",
       "      <td>881250949</td>\n",
       "    </tr>\n",
       "    <tr>\n",
       "      <th>1</th>\n",
       "      <td>186</td>\n",
       "      <td>302</td>\n",
       "      <td>3</td>\n",
       "      <td>891717742</td>\n",
       "    </tr>\n",
       "    <tr>\n",
       "      <th>2</th>\n",
       "      <td>22</td>\n",
       "      <td>377</td>\n",
       "      <td>1</td>\n",
       "      <td>878887116</td>\n",
       "    </tr>\n",
       "    <tr>\n",
       "      <th>3</th>\n",
       "      <td>244</td>\n",
       "      <td>51</td>\n",
       "      <td>2</td>\n",
       "      <td>880606923</td>\n",
       "    </tr>\n",
       "    <tr>\n",
       "      <th>4</th>\n",
       "      <td>166</td>\n",
       "      <td>346</td>\n",
       "      <td>1</td>\n",
       "      <td>886397596</td>\n",
       "    </tr>\n",
       "  </tbody>\n",
       "</table>\n",
       "</div>"
      ],
      "text/plain": [
       "   user_id  movie_id  rating  timestamp\n",
       "0      196       242       3  881250949\n",
       "1      186       302       3  891717742\n",
       "2       22       377       1  878887116\n",
       "3      244        51       2  880606923\n",
       "4      166       346       1  886397596"
      ]
     },
     "execution_count": 39,
     "metadata": {},
     "output_type": "execute_result"
    }
   ],
   "source": [
    "# DataFrame 형태로 데이터를 읽어온다.\n",
    "r_cols = ['user_id', 'movie_id', 'rating', 'timestamp']\n",
    "\n",
    "# 평점 데이터 \"u.data\" 가져오기\n",
    "ratings = pd.read_csv('./u.data', \n",
    "                     names=r_cols,\n",
    "                      sep='\\t',\n",
    "                      encoding='latin-1'\n",
    "                     )\n",
    "print(ratings.shape)\n",
    "ratings.head()"
   ]
  },
  {
   "cell_type": "code",
   "execution_count": 40,
   "id": "6e57de68",
   "metadata": {},
   "outputs": [],
   "source": [
    "# 학습, 테스트 구분하기\n",
    "ratings_train, ratings_test = train_test_split(ratings, \n",
    "                                              test_size = 0.2, \n",
    "                                              shuffle = True, \n",
    "                                              random_state = 2021)"
   ]
  },
  {
   "cell_type": "code",
   "execution_count": 41,
   "id": "95f8dca9",
   "metadata": {},
   "outputs": [
    {
     "name": "stdout",
     "output_type": "stream",
     "text": [
      "(943, 5)\n"
     ]
    },
    {
     "data": {
      "text/html": [
       "<div>\n",
       "<style scoped>\n",
       "    .dataframe tbody tr th:only-of-type {\n",
       "        vertical-align: middle;\n",
       "    }\n",
       "\n",
       "    .dataframe tbody tr th {\n",
       "        vertical-align: top;\n",
       "    }\n",
       "\n",
       "    .dataframe thead th {\n",
       "        text-align: right;\n",
       "    }\n",
       "</style>\n",
       "<table border=\"1\" class=\"dataframe\">\n",
       "  <thead>\n",
       "    <tr style=\"text-align: right;\">\n",
       "      <th></th>\n",
       "      <th>user_id</th>\n",
       "      <th>age</th>\n",
       "      <th>sex</th>\n",
       "      <th>occupation</th>\n",
       "      <th>zip_code</th>\n",
       "    </tr>\n",
       "  </thead>\n",
       "  <tbody>\n",
       "    <tr>\n",
       "      <th>0</th>\n",
       "      <td>1</td>\n",
       "      <td>24</td>\n",
       "      <td>M</td>\n",
       "      <td>technician</td>\n",
       "      <td>85711</td>\n",
       "    </tr>\n",
       "    <tr>\n",
       "      <th>1</th>\n",
       "      <td>2</td>\n",
       "      <td>53</td>\n",
       "      <td>F</td>\n",
       "      <td>other</td>\n",
       "      <td>94043</td>\n",
       "    </tr>\n",
       "    <tr>\n",
       "      <th>2</th>\n",
       "      <td>3</td>\n",
       "      <td>23</td>\n",
       "      <td>M</td>\n",
       "      <td>writer</td>\n",
       "      <td>32067</td>\n",
       "    </tr>\n",
       "    <tr>\n",
       "      <th>3</th>\n",
       "      <td>4</td>\n",
       "      <td>24</td>\n",
       "      <td>M</td>\n",
       "      <td>technician</td>\n",
       "      <td>43537</td>\n",
       "    </tr>\n",
       "    <tr>\n",
       "      <th>4</th>\n",
       "      <td>5</td>\n",
       "      <td>33</td>\n",
       "      <td>F</td>\n",
       "      <td>other</td>\n",
       "      <td>15213</td>\n",
       "    </tr>\n",
       "  </tbody>\n",
       "</table>\n",
       "</div>"
      ],
      "text/plain": [
       "   user_id  age sex  occupation zip_code\n",
       "0        1   24   M  technician    85711\n",
       "1        2   53   F       other    94043\n",
       "2        3   23   M      writer    32067\n",
       "3        4   24   M  technician    43537\n",
       "4        5   33   F       other    15213"
      ]
     },
     "execution_count": 41,
     "metadata": {},
     "output_type": "execute_result"
    }
   ],
   "source": [
    "r_cols = ['user_id', 'age', 'sex', 'occupation', 'zip_code']\n",
    "\n",
    "# 유저 데이터 \"u.user\" 가져오기\n",
    "users = pd.read_csv('./u.user', \n",
    "                     names=r_cols,\n",
    "                      sep='|',\n",
    "                      encoding='latin-1'\n",
    "                     )\n",
    "print(users.shape)\n",
    "users.head()"
   ]
  },
  {
   "cell_type": "code",
   "execution_count": 42,
   "id": "5f9e9ff1",
   "metadata": {},
   "outputs": [
    {
     "data": {
      "text/html": [
       "<div>\n",
       "<style scoped>\n",
       "    .dataframe tbody tr th:only-of-type {\n",
       "        vertical-align: middle;\n",
       "    }\n",
       "\n",
       "    .dataframe tbody tr th {\n",
       "        vertical-align: top;\n",
       "    }\n",
       "\n",
       "    .dataframe thead th {\n",
       "        text-align: right;\n",
       "    }\n",
       "</style>\n",
       "<table border=\"1\" class=\"dataframe\">\n",
       "  <thead>\n",
       "    <tr style=\"text-align: right;\">\n",
       "      <th></th>\n",
       "      <th>user_id</th>\n",
       "      <th>occupation</th>\n",
       "    </tr>\n",
       "  </thead>\n",
       "  <tbody>\n",
       "    <tr>\n",
       "      <th>0</th>\n",
       "      <td>1</td>\n",
       "      <td>technician</td>\n",
       "    </tr>\n",
       "    <tr>\n",
       "      <th>1</th>\n",
       "      <td>2</td>\n",
       "      <td>other</td>\n",
       "    </tr>\n",
       "    <tr>\n",
       "      <th>2</th>\n",
       "      <td>3</td>\n",
       "      <td>writer</td>\n",
       "    </tr>\n",
       "    <tr>\n",
       "      <th>3</th>\n",
       "      <td>4</td>\n",
       "      <td>technician</td>\n",
       "    </tr>\n",
       "    <tr>\n",
       "      <th>4</th>\n",
       "      <td>5</td>\n",
       "      <td>other</td>\n",
       "    </tr>\n",
       "  </tbody>\n",
       "</table>\n",
       "</div>"
      ],
      "text/plain": [
       "   user_id  occupation\n",
       "0        1  technician\n",
       "1        2       other\n",
       "2        3      writer\n",
       "3        4  technician\n",
       "4        5       other"
      ]
     },
     "execution_count": 42,
     "metadata": {},
     "output_type": "execute_result"
    }
   ],
   "source": [
    "# 사용자 ID(user_id)와 직업(occupation)만 남긴다.\n",
    "users = users[['user_id', 'occupation']]\n",
    "users.head()"
   ]
  },
  {
   "cell_type": "code",
   "execution_count": 43,
   "id": "4496d26f",
   "metadata": {},
   "outputs": [],
   "source": [
    "# 직업 to index\n",
    "occupation = {}\n",
    "def convert_occ(x):\n",
    "    if x in occupation:\n",
    "        return occupation[x]\n",
    "    else:\n",
    "        occupation[x] = len(occupation)\n",
    "        return occupation[x]\n",
    "        \n",
    "users['occupation'] = users['occupation'].apply(convert_occ)"
   ]
  },
  {
   "cell_type": "code",
   "execution_count": 44,
   "id": "f372782e",
   "metadata": {},
   "outputs": [
    {
     "data": {
      "text/html": [
       "<div>\n",
       "<style scoped>\n",
       "    .dataframe tbody tr th:only-of-type {\n",
       "        vertical-align: middle;\n",
       "    }\n",
       "\n",
       "    .dataframe tbody tr th {\n",
       "        vertical-align: top;\n",
       "    }\n",
       "\n",
       "    .dataframe thead th {\n",
       "        text-align: right;\n",
       "    }\n",
       "</style>\n",
       "<table border=\"1\" class=\"dataframe\">\n",
       "  <thead>\n",
       "    <tr style=\"text-align: right;\">\n",
       "      <th></th>\n",
       "      <th>user_id</th>\n",
       "      <th>occupation</th>\n",
       "    </tr>\n",
       "  </thead>\n",
       "  <tbody>\n",
       "    <tr>\n",
       "      <th>0</th>\n",
       "      <td>1</td>\n",
       "      <td>0</td>\n",
       "    </tr>\n",
       "    <tr>\n",
       "      <th>1</th>\n",
       "      <td>2</td>\n",
       "      <td>1</td>\n",
       "    </tr>\n",
       "    <tr>\n",
       "      <th>2</th>\n",
       "      <td>3</td>\n",
       "      <td>2</td>\n",
       "    </tr>\n",
       "    <tr>\n",
       "      <th>3</th>\n",
       "      <td>4</td>\n",
       "      <td>0</td>\n",
       "    </tr>\n",
       "    <tr>\n",
       "      <th>4</th>\n",
       "      <td>5</td>\n",
       "      <td>1</td>\n",
       "    </tr>\n",
       "    <tr>\n",
       "      <th>...</th>\n",
       "      <td>...</td>\n",
       "      <td>...</td>\n",
       "    </tr>\n",
       "    <tr>\n",
       "      <th>938</th>\n",
       "      <td>939</td>\n",
       "      <td>5</td>\n",
       "    </tr>\n",
       "    <tr>\n",
       "      <th>939</th>\n",
       "      <td>940</td>\n",
       "      <td>4</td>\n",
       "    </tr>\n",
       "    <tr>\n",
       "      <th>940</th>\n",
       "      <td>941</td>\n",
       "      <td>5</td>\n",
       "    </tr>\n",
       "    <tr>\n",
       "      <th>941</th>\n",
       "      <td>942</td>\n",
       "      <td>11</td>\n",
       "    </tr>\n",
       "    <tr>\n",
       "      <th>942</th>\n",
       "      <td>943</td>\n",
       "      <td>5</td>\n",
       "    </tr>\n",
       "  </tbody>\n",
       "</table>\n",
       "<p>943 rows × 2 columns</p>\n",
       "</div>"
      ],
      "text/plain": [
       "     user_id  occupation\n",
       "0          1           0\n",
       "1          2           1\n",
       "2          3           2\n",
       "3          4           0\n",
       "4          5           1\n",
       "..       ...         ...\n",
       "938      939           5\n",
       "939      940           4\n",
       "940      941           5\n",
       "941      942          11\n",
       "942      943           5\n",
       "\n",
       "[943 rows x 2 columns]"
      ]
     },
     "execution_count": 44,
     "metadata": {},
     "output_type": "execute_result"
    }
   ],
   "source": [
    "users"
   ]
  },
  {
   "cell_type": "code",
   "execution_count": 45,
   "id": "c9c05c02",
   "metadata": {},
   "outputs": [],
   "source": [
    "L = len(occupation)\n",
    "\n",
    "train_occ = pd.merge(ratings_train, users, on='user_id')['occupation']\n",
    "test_occ = pd.merge(ratings_test, users, on='user_id')['occupation']"
   ]
  },
  {
   "cell_type": "code",
   "execution_count": 46,
   "id": "71081691",
   "metadata": {},
   "outputs": [
    {
     "name": "stdout",
     "output_type": "stream",
     "text": [
      "사용자 개수 max값: 944\n",
      "아이템 개수 max값: 1683\n"
     ]
    }
   ],
   "source": [
    "# 잠재 요인의 수 \n",
    "K = 200\n",
    "\n",
    "# 전체 평점 평균\n",
    "mu = ratings_train.rating.mean()\n",
    "\n",
    "# 사용자id, 영화id의 최대값을 구한다.\n",
    "# bias term의 크기 1을 고려하여 +1을 해준다.\n",
    "M = ratings.user_id.max() + 1\n",
    "N = ratings.movie_id.max() + 1\n",
    "\n",
    "print('사용자 개수 max값:', M)\n",
    "print('아이템 개수 max값:', N)"
   ]
  },
  {
   "cell_type": "markdown",
   "id": "9f654722",
   "metadata": {},
   "source": [
    "# 케라스 모델 생성"
   ]
  },
  {
   "cell_type": "code",
   "execution_count": 47,
   "id": "02179767",
   "metadata": {},
   "outputs": [],
   "source": [
    "user = Input(shape=(1, ))\n",
    "item = Input(shape=(1, ))\n",
    "\n",
    "# 행렬 P,Q 임베딩\n",
    "P_embedding = Embedding(M, K, embeddings_regularizer=l2())(user)\n",
    "Q_embedding = Embedding(N, K, embeddings_regularizer=l2())(item)\n",
    "\n",
    "# 사용자, 아이템 평가 경향도 임베딩\n",
    "user_bias = Embedding(M, 1, embeddings_regularizer=l2())(user)\n",
    "item_bias = Embedding(N, 1, embeddings_regularizer=l2())(item)"
   ]
  },
  {
   "cell_type": "code",
   "execution_count": 48,
   "id": "db062814",
   "metadata": {},
   "outputs": [],
   "source": [
    "# concatenate를 위해서는 1차원으로 Flatten해야 한다.\n",
    "P_embedding = Flatten()(P_embedding)\n",
    "Q_embedding = Flatten()(Q_embedding)\n",
    "\n",
    "user_bias = Flatten()(user_bias)\n",
    "item_bias = Flatten()(item_bias)\n"
   ]
  },
  {
   "cell_type": "code",
   "execution_count": 49,
   "id": "7d651aa1",
   "metadata": {},
   "outputs": [],
   "source": [
    "occ = Input(shape=(1, ))\n",
    "occ_embedding = Embedding(L, 3, embeddings_regularizer=l2())(occ)\n",
    "occ_layer = Flatten()(occ_embedding)\n",
    "\n",
    "R = Concatenate()([P_embedding, Q_embedding, user_bias, item_bias, occ_layer])"
   ]
  },
  {
   "cell_type": "code",
   "execution_count": 50,
   "id": "7747d1ed",
   "metadata": {},
   "outputs": [],
   "source": [
    "# layer 쌓기\n",
    "# 활성화 함수는 'linear'\n",
    "R = Dense(2048)(R)\n",
    "R = Activation('linear')(R)\n",
    "\n",
    "# 노드가 256개인 layer 추가\n",
    "R = Dense(256)(R)\n",
    "R = Activation('linear')(R)\n",
    "\n",
    "# 노드가 1개인 dense layer(출력층) 한 개 추가\n",
    "R = Dense(1)(R)"
   ]
  },
  {
   "cell_type": "code",
   "execution_count": 51,
   "id": "74359f59",
   "metadata": {},
   "outputs": [
    {
     "name": "stdout",
     "output_type": "stream",
     "text": [
      "Model: \"model_4\"\n",
      "__________________________________________________________________________________________________\n",
      " Layer (type)                   Output Shape         Param #     Connected to                     \n",
      "==================================================================================================\n",
      " input_6 (InputLayer)           [(None, 1)]          0           []                               \n",
      "                                                                                                  \n",
      " input_7 (InputLayer)           [(None, 1)]          0           []                               \n",
      "                                                                                                  \n",
      " input_8 (InputLayer)           [(None, 1)]          0           []                               \n",
      "                                                                                                  \n",
      " embedding_7 (Embedding)        (None, 1, 200)       188800      ['input_6[0][0]']                \n",
      "                                                                                                  \n",
      " embedding_8 (Embedding)        (None, 1, 200)       336600      ['input_7[0][0]']                \n",
      "                                                                                                  \n",
      " embedding_9 (Embedding)        (None, 1, 1)         944         ['input_6[0][0]']                \n",
      "                                                                                                  \n",
      " embedding_10 (Embedding)       (None, 1, 1)         1683        ['input_7[0][0]']                \n",
      "                                                                                                  \n",
      " embedding_11 (Embedding)       (None, 1, 3)         63          ['input_8[0][0]']                \n",
      "                                                                                                  \n",
      " flatten_6 (Flatten)            (None, 200)          0           ['embedding_7[0][0]']            \n",
      "                                                                                                  \n",
      " flatten_7 (Flatten)            (None, 200)          0           ['embedding_8[0][0]']            \n",
      "                                                                                                  \n",
      " flatten_8 (Flatten)            (None, 1)            0           ['embedding_9[0][0]']            \n",
      "                                                                                                  \n",
      " flatten_9 (Flatten)            (None, 1)            0           ['embedding_10[0][0]']           \n",
      "                                                                                                  \n",
      " flatten_10 (Flatten)           (None, 3)            0           ['embedding_11[0][0]']           \n",
      "                                                                                                  \n",
      " concatenate_2 (Concatenate)    (None, 405)          0           ['flatten_6[0][0]',              \n",
      "                                                                  'flatten_7[0][0]',              \n",
      "                                                                  'flatten_8[0][0]',              \n",
      "                                                                  'flatten_9[0][0]',              \n",
      "                                                                  'flatten_10[0][0]']             \n",
      "                                                                                                  \n",
      " dense_3 (Dense)                (None, 2048)         831488      ['concatenate_2[0][0]']          \n",
      "                                                                                                  \n",
      " activation_2 (Activation)      (None, 2048)         0           ['dense_3[0][0]']                \n",
      "                                                                                                  \n",
      " dense_4 (Dense)                (None, 256)          524544      ['activation_2[0][0]']           \n",
      "                                                                                                  \n",
      " activation_3 (Activation)      (None, 256)          0           ['dense_4[0][0]']                \n",
      "                                                                                                  \n",
      " dense_5 (Dense)                (None, 1)            257         ['activation_3[0][0]']           \n",
      "                                                                                                  \n",
      "==================================================================================================\n",
      "Total params: 1,884,379\n",
      "Trainable params: 1,884,379\n",
      "Non-trainable params: 0\n",
      "__________________________________________________________________________________________________\n"
     ]
    }
   ],
   "source": [
    "# input에 occ(직업) 데이터가 추가됨.\n",
    "model = Model(inputs=[user, item, occ], outputs=R)\n",
    "\n",
    "model.compile(\n",
    "    loss = RMSE,\n",
    "    optimizer = SGD(),  # adam, adamax\n",
    "    metrics= [RMSE]\n",
    ")\n",
    "\n",
    "model.summary()\n",
    "# 사용자 수가 944, 잠재요인 수가 200 -> 944x200 = 188800\n",
    "# concatenate를 위해 flatten"
   ]
  },
  {
   "cell_type": "code",
   "execution_count": 52,
   "id": "4fd0bc10",
   "metadata": {},
   "outputs": [],
   "source": [
    "# 학습 데이터 정의\n",
    "train_user_ids = ratings_train.user_id.values, \n",
    "train_movie_ids = ratings_train.movie_id.values\n",
    "train_ratings = ratings_train.rating.values\n",
    "train_occs = train_occ.values   # occ(직업) 데이터 추가\n",
    "\n",
    "# 테스트 데이터 정의\n",
    "test_user_ids = ratings_test.user_id.values, \n",
    "test_movie_ids = ratings_test.movie_id.values\n",
    "test_ratings = ratings_test.rating.values\n",
    "test_occs = test_occ.values   # occ(직업) 데이터 추가"
   ]
  },
  {
   "cell_type": "code",
   "execution_count": 54,
   "id": "ff10f28a",
   "metadata": {},
   "outputs": [
    {
     "name": "stdout",
     "output_type": "stream",
     "text": [
      "Epoch 1/65\n",
      "157/157 [==============================] - 4s 24ms/step - loss: 5.0327 - RMSE: 1.1227 - val_loss: 4.9007 - val_RMSE: 1.1139\n",
      "Epoch 2/65\n",
      "157/157 [==============================] - 4s 25ms/step - loss: 4.7931 - RMSE: 1.1212 - val_loss: 4.6688 - val_RMSE: 1.1123\n",
      "Epoch 3/65\n",
      "157/157 [==============================] - 4s 27ms/step - loss: 4.5681 - RMSE: 1.1196 - val_loss: 4.4508 - val_RMSE: 1.1106\n",
      "Epoch 4/65\n",
      "157/157 [==============================] - 5s 29ms/step - loss: 4.3567 - RMSE: 1.1181 - val_loss: 4.2459 - val_RMSE: 1.1087\n",
      "Epoch 5/65\n",
      "157/157 [==============================] - 5s 29ms/step - loss: 4.1579 - RMSE: 1.1161 - val_loss: 4.0533 - val_RMSE: 1.1068\n",
      "Epoch 6/65\n",
      "157/157 [==============================] - 5s 29ms/step - loss: 3.9708 - RMSE: 1.1141 - val_loss: 3.8722 - val_RMSE: 1.1046\n",
      "Epoch 7/65\n",
      "157/157 [==============================] - 4s 26ms/step - loss: 3.7948 - RMSE: 1.1112 - val_loss: 3.7018 - val_RMSE: 1.1022\n",
      "Epoch 8/65\n",
      "157/157 [==============================] - 5s 31ms/step - loss: 3.6294 - RMSE: 1.1091 - val_loss: 3.5413 - val_RMSE: 1.0994\n",
      "Epoch 9/65\n",
      "157/157 [==============================] - 4s 28ms/step - loss: 3.4735 - RMSE: 1.1063 - val_loss: 3.3901 - val_RMSE: 1.0962\n",
      "Epoch 10/65\n",
      "157/157 [==============================] - 4s 28ms/step - loss: 3.3264 - RMSE: 1.1027 - val_loss: 3.2476 - val_RMSE: 1.0925\n",
      "Epoch 11/65\n",
      "157/157 [==============================] - 5s 30ms/step - loss: 3.1876 - RMSE: 1.0981 - val_loss: 3.1129 - val_RMSE: 1.0881\n",
      "Epoch 12/65\n",
      "157/157 [==============================] - 4s 28ms/step - loss: 3.0566 - RMSE: 1.0932 - val_loss: 2.9857 - val_RMSE: 1.0831\n",
      "Epoch 13/65\n",
      "157/157 [==============================] - 4s 28ms/step - loss: 2.9325 - RMSE: 1.0879 - val_loss: 2.8653 - val_RMSE: 1.0774\n",
      "Epoch 14/65\n",
      "157/157 [==============================] - 5s 30ms/step - loss: 2.8148 - RMSE: 1.0814 - val_loss: 2.7513 - val_RMSE: 1.0709\n",
      "Epoch 15/65\n",
      "157/157 [==============================] - 4s 29ms/step - loss: 2.7034 - RMSE: 1.0738 - val_loss: 2.6432 - val_RMSE: 1.0636\n",
      "Epoch 16/65\n",
      "157/157 [==============================] - 4s 28ms/step - loss: 2.5975 - RMSE: 1.0665 - val_loss: 2.5402 - val_RMSE: 1.0550\n",
      "Epoch 17/65\n",
      "157/157 [==============================] - 5s 29ms/step - loss: 2.4969 - RMSE: 1.0570 - val_loss: 2.4429 - val_RMSE: 1.0463\n",
      "Epoch 18/65\n",
      "157/157 [==============================] - 5s 32ms/step - loss: 2.4015 - RMSE: 1.0476 - val_loss: 2.3499 - val_RMSE: 1.0364\n",
      "Epoch 19/65\n",
      "157/157 [==============================] - 5s 32ms/step - loss: 2.3110 - RMSE: 1.0380 - val_loss: 2.2622 - val_RMSE: 1.0266\n",
      "Epoch 20/65\n",
      "157/157 [==============================] - 5s 30ms/step - loss: 2.2252 - RMSE: 1.0276 - val_loss: 2.1794 - val_RMSE: 1.0169\n",
      "Epoch 21/65\n",
      "157/157 [==============================] - 5s 30ms/step - loss: 2.1443 - RMSE: 1.0174 - val_loss: 2.1013 - val_RMSE: 1.0075\n",
      "Epoch 22/65\n",
      "157/157 [==============================] - 5s 32ms/step - loss: 2.0680 - RMSE: 1.0077 - val_loss: 2.0278 - val_RMSE: 0.9985\n",
      "Epoch 23/65\n",
      "157/157 [==============================] - 5s 29ms/step - loss: 1.9963 - RMSE: 0.9996 - val_loss: 1.9590 - val_RMSE: 0.9905\n",
      "Epoch 24/65\n",
      "157/157 [==============================] - 5s 30ms/step - loss: 1.9292 - RMSE: 0.9912 - val_loss: 1.8957 - val_RMSE: 0.9844\n",
      "Epoch 25/65\n",
      "157/157 [==============================] - 5s 31ms/step - loss: 1.8663 - RMSE: 0.9830 - val_loss: 1.8343 - val_RMSE: 0.9767\n",
      "Epoch 26/65\n",
      "157/157 [==============================] - 5s 34ms/step - loss: 1.8074 - RMSE: 0.9767 - val_loss: 1.7780 - val_RMSE: 0.9710\n",
      "Epoch 27/65\n",
      "157/157 [==============================] - 5s 32ms/step - loss: 1.7524 - RMSE: 0.9706 - val_loss: 1.7258 - val_RMSE: 0.9664\n",
      "Epoch 28/65\n",
      "157/157 [==============================] - 5s 30ms/step - loss: 1.7008 - RMSE: 0.9653 - val_loss: 1.6761 - val_RMSE: 0.9614\n",
      "Epoch 29/65\n",
      "157/157 [==============================] - 5s 29ms/step - loss: 1.6528 - RMSE: 0.9604 - val_loss: 1.6302 - val_RMSE: 0.9576\n",
      "Epoch 30/65\n",
      "157/157 [==============================] - 5s 31ms/step - loss: 1.6079 - RMSE: 0.9564 - val_loss: 1.5916 - val_RMSE: 0.9586\n",
      "Epoch 31/65\n",
      "157/157 [==============================] - 5s 29ms/step - loss: 1.5657 - RMSE: 0.9524 - val_loss: 1.5472 - val_RMSE: 0.9513\n",
      "Epoch 32/65\n",
      "157/157 [==============================] - 5s 33ms/step - loss: 1.5262 - RMSE: 0.9488 - val_loss: 1.5095 - val_RMSE: 0.9485\n",
      "Epoch 33/65\n",
      "157/157 [==============================] - 5s 32ms/step - loss: 1.4894 - RMSE: 0.9462 - val_loss: 1.4746 - val_RMSE: 0.9464\n",
      "Epoch 34/65\n",
      "157/157 [==============================] - 5s 29ms/step - loss: 1.4550 - RMSE: 0.9436 - val_loss: 1.4413 - val_RMSE: 0.9440\n",
      "Epoch 35/65\n",
      "157/157 [==============================] - 5s 31ms/step - loss: 1.4227 - RMSE: 0.9410 - val_loss: 1.4106 - val_RMSE: 0.9422\n",
      "Epoch 36/65\n",
      "157/157 [==============================] - 5s 30ms/step - loss: 1.3922 - RMSE: 0.9390 - val_loss: 1.3813 - val_RMSE: 0.9403\n",
      "Epoch 37/65\n",
      "157/157 [==============================] - 5s 35ms/step - loss: 1.3638 - RMSE: 0.9369 - val_loss: 1.3554 - val_RMSE: 0.9399\n",
      "Epoch 38/65\n",
      "157/157 [==============================] - 5s 35ms/step - loss: 1.3373 - RMSE: 0.9353 - val_loss: 1.3334 - val_RMSE: 0.9423\n",
      "Epoch 39/65\n",
      "157/157 [==============================] - 5s 35ms/step - loss: 1.3124 - RMSE: 0.9336 - val_loss: 1.3055 - val_RMSE: 0.9368\n",
      "Epoch 40/65\n",
      "157/157 [==============================] - 5s 33ms/step - loss: 1.2890 - RMSE: 0.9323 - val_loss: 1.2830 - val_RMSE: 0.9355\n",
      "Epoch 41/65\n",
      "157/157 [==============================] - 5s 32ms/step - loss: 1.2673 - RMSE: 0.9308 - val_loss: 1.2622 - val_RMSE: 0.9346\n",
      "Epoch 42/65\n",
      "157/157 [==============================] - 5s 33ms/step - loss: 1.2467 - RMSE: 0.9295 - val_loss: 1.2425 - val_RMSE: 0.9337\n",
      "Epoch 43/65\n",
      "157/157 [==============================] - 6s 36ms/step - loss: 1.2275 - RMSE: 0.9288 - val_loss: 1.2260 - val_RMSE: 0.9350\n",
      "Epoch 44/65\n",
      "157/157 [==============================] - 6s 38ms/step - loss: 1.2094 - RMSE: 0.9281 - val_loss: 1.2070 - val_RMSE: 0.9326\n",
      "Epoch 45/65\n",
      "157/157 [==============================] - 5s 34ms/step - loss: 1.1926 - RMSE: 0.9282 - val_loss: 1.1921 - val_RMSE: 0.9336\n",
      "Epoch 46/65\n",
      "157/157 [==============================] - 6s 36ms/step - loss: 1.1769 - RMSE: 0.9268 - val_loss: 1.1775 - val_RMSE: 0.9334\n",
      "Epoch 47/65\n",
      "157/157 [==============================] - 6s 35ms/step - loss: 1.1623 - RMSE: 0.9265 - val_loss: 1.1613 - val_RMSE: 0.9312\n",
      "Epoch 48/65\n",
      "157/157 [==============================] - 6s 36ms/step - loss: 1.1481 - RMSE: 0.9262 - val_loss: 1.1482 - val_RMSE: 0.9311\n",
      "Epoch 49/65\n",
      "157/157 [==============================] - 5s 33ms/step - loss: 1.1350 - RMSE: 0.9248 - val_loss: 1.1370 - val_RMSE: 0.9320\n",
      "Epoch 50/65\n",
      "157/157 [==============================] - 5s 35ms/step - loss: 1.1227 - RMSE: 0.9244 - val_loss: 1.1283 - val_RMSE: 0.9347\n",
      "Epoch 51/65\n",
      "157/157 [==============================] - 5s 35ms/step - loss: 1.1112 - RMSE: 0.9248 - val_loss: 1.1134 - val_RMSE: 0.9309\n",
      "Epoch 52/65\n",
      "157/157 [==============================] - 6s 38ms/step - loss: 1.1006 - RMSE: 0.9245 - val_loss: 1.1021 - val_RMSE: 0.9295\n",
      "Epoch 53/65\n",
      "157/157 [==============================] - 6s 36ms/step - loss: 1.0903 - RMSE: 0.9244 - val_loss: 1.1026 - val_RMSE: 0.9399\n",
      "Epoch 54/65\n",
      "157/157 [==============================] - 6s 36ms/step - loss: 1.0807 - RMSE: 0.9234 - val_loss: 1.0832 - val_RMSE: 0.9291\n",
      "Epoch 55/65\n",
      "157/157 [==============================] - 5s 34ms/step - loss: 1.0719 - RMSE: 0.9233 - val_loss: 1.0765 - val_RMSE: 0.9308\n",
      "Epoch 56/65\n",
      "157/157 [==============================] - 6s 36ms/step - loss: 1.0635 - RMSE: 0.9235 - val_loss: 1.0664 - val_RMSE: 0.9288\n",
      "Epoch 57/65\n",
      "157/157 [==============================] - 7s 46ms/step - loss: 1.0558 - RMSE: 0.9229 - val_loss: 1.0588 - val_RMSE: 0.9286\n",
      "Epoch 58/65\n",
      "157/157 [==============================] - 7s 44ms/step - loss: 1.0483 - RMSE: 0.9229 - val_loss: 1.0553 - val_RMSE: 0.9321\n",
      "Epoch 59/65\n",
      "157/157 [==============================] - 6s 41ms/step - loss: 1.0413 - RMSE: 0.9231 - val_loss: 1.0497 - val_RMSE: 0.9331\n",
      "Epoch 60/65\n",
      "157/157 [==============================] - 6s 39ms/step - loss: 1.0349 - RMSE: 0.9232 - val_loss: 1.0425 - val_RMSE: 0.9323\n",
      "Epoch 61/65\n"
     ]
    },
    {
     "name": "stdout",
     "output_type": "stream",
     "text": [
      "157/157 [==============================] - 6s 41ms/step - loss: 1.0286 - RMSE: 0.9225 - val_loss: 1.0326 - val_RMSE: 0.9281\n",
      "Epoch 62/65\n",
      "157/157 [==============================] - 6s 40ms/step - loss: 1.0230 - RMSE: 0.9227 - val_loss: 1.0334 - val_RMSE: 0.9343\n",
      "Epoch 63/65\n",
      "157/157 [==============================] - 6s 39ms/step - loss: 1.0176 - RMSE: 0.9231 - val_loss: 1.0271 - val_RMSE: 0.9332\n",
      "Epoch 64/65\n",
      "157/157 [==============================] - 6s 40ms/step - loss: 1.0127 - RMSE: 0.9230 - val_loss: 1.0176 - val_RMSE: 0.9287\n",
      "Epoch 65/65\n",
      "157/157 [==============================] - 7s 44ms/step - loss: 1.0076 - RMSE: 0.9219 - val_loss: 1.0126 - val_RMSE: 0.9283\n",
      "CPU times: user 25min 25s, sys: 6min 10s, total: 31min 36s\n",
      "Wall time: 5min 35s\n"
     ]
    }
   ],
   "source": [
    "%%time\n",
    "# 학습시간 약 5분\n",
    "result = model.fit(\n",
    "    x = [train_user_ids, train_movie_ids, train_occs], \n",
    "    y = train_ratings - mu,\n",
    "    epochs = 65,\n",
    "    batch_size = 512,\n",
    "    validation_data = (\n",
    "        [test_user_ids, test_movie_ids, test_occs],\n",
    "        test_ratings - mu\n",
    "    )\n",
    ")"
   ]
  },
  {
   "cell_type": "code",
   "execution_count": 55,
   "id": "04af0a5e",
   "metadata": {},
   "outputs": [
    {
     "data": {
      "image/png": "[encoded data removed]",
      "text/plain": [
       "<Figure size 720x720 with 1 Axes>"
      ]
     },
     "metadata": {
      "needs_background": "light"
     },
     "output_type": "display_data"
    }
   ],
   "source": [
    "# 학습 과정 시각화\n",
    "plt.figure(figsize=(10, 10))\n",
    "plt.plot(result.history['RMSE'], label=\"Train RMSE\")\n",
    "plt.plot(result.history['val_RMSE'], label=\"Test RMSE\")\n",
    "plt.legend()\n",
    "plt.show()"
   ]
  },
  {
   "cell_type": "code",
   "execution_count": 58,
   "id": "37741455",
   "metadata": {
    "scrolled": true
   },
   "outputs": [
    {
     "data": {
      "text/plain": [
       "array([[3.6896703],\n",
       "       [2.9029665],\n",
       "       [4.4054694],\n",
       "       [3.5703783],\n",
       "       [1.5099602],\n",
       "       [4.406602 ],\n",
       "       [3.590345 ],\n",
       "       [3.2042623],\n",
       "       [5.0697284],\n",
       "       [4.0335493],\n",
       "       [3.5604706],\n",
       "       [2.2098293],\n",
       "       [4.3957357],\n",
       "       [3.974768 ],\n",
       "       [4.1710577]], dtype=float32)"
      ]
     },
     "execution_count": 58,
     "metadata": {},
     "output_type": "execute_result"
    }
   ],
   "source": [
    "# 모델로 test 데이터 예측\n",
    "predictions = model.predict([test_user_ids, test_movie_ids, test_occs]) + mu\n",
    "\n",
    "# 예측값들 확인\n",
    "predictions[:15]"
   ]
  },
  {
   "cell_type": "code",
   "execution_count": 60,
   "id": "3ee8b422",
   "metadata": {},
   "outputs": [
    {
     "name": "stdout",
     "output_type": "stream",
     "text": [
      "23307    3\n",
      "36679    3\n",
      "36626    5\n",
      "83753    2\n",
      "52604    1\n",
      "49877    5\n",
      "83837    3\n",
      "46797    2\n",
      "31308    5\n",
      "5448     4\n",
      "70587    5\n",
      "70425    2\n",
      "55063    5\n",
      "67450    4\n",
      "86251    4\n",
      "Name: rating, dtype: int64\n"
     ]
    }
   ],
   "source": [
    "# 실제값\n",
    "print(ratings_test.rating[:15])"
   ]
  },
  {
   "cell_type": "code",
   "execution_count": 61,
   "id": "9eb89a91",
   "metadata": {},
   "outputs": [],
   "source": [
    "import numpy as np\n",
    "\n",
    "# 넘파이를 활용한 RMSE 함수\n",
    "def RMSE2(y_true, y_pred):\n",
    "    return np.sqrt(np.mean((np.array(y_true) - np.array(y_pred))**2))"
   ]
  },
  {
   "cell_type": "code",
   "execution_count": 62,
   "id": "24b3ab96",
   "metadata": {},
   "outputs": [
    {
     "data": {
      "text/plain": [
       "0.9301820892735928"
      ]
     },
     "execution_count": 62,
     "metadata": {},
     "output_type": "execute_result"
    }
   ],
   "source": [
    "# ravel : 1차원으로 변환\n",
    "y_pred = np.ravel(predictions, order='C')\n",
    "y_true = np.array(ratings_test.rating)\n",
    "\n",
    "RMSE2(y_true, y_pred)"
   ]
  },
  {
   "cell_type": "raw",
   "id": "9e07e05c",
   "metadata": {},
   "source": [
    "-> 딥러닝에 직업 데이터를 추가했더니, 모델 성능(RMSE)이 소폭 향상되었다(0.946 -> 0.930)\n",
    "만약 추가로 또 다른 유의미한 사용자 변수를 사용한다면 성능이 더욱 향상되지 않을까 생각됨."
   ]
  },
  {
   "cell_type": "code",
   "execution_count": null,
   "id": "a870b3c9",
   "metadata": {},
   "outputs": [],
   "source": []
  },
  {
   "cell_type": "code",
   "execution_count": null,
   "id": "f74604c6",
   "metadata": {},
   "outputs": [],
   "source": []
  }
 ],
 "metadata": {
  "kernelspec": {
   "display_name": "Python 3",
   "language": "python",
   "name": "python3"
  },
  "language_info": {
   "codemirror_mode": {
    "name": "ipython",
    "version": 3
   },
   "file_extension": ".py",
   "mimetype": "text/x-python",
   "name": "python",
   "nbconvert_exporter": "python",
   "pygments_lexer": "ipython3",
   "version": "3.8.8"
  },
  "varInspector": {
   "cols": {
    "lenName": 16,
    "lenType": 16,
    "lenVar": 40
   },
   "kernels_config": {
    "python": {
     "delete_cmd_postfix": "",
     "delete_cmd_prefix": "del ",
     "library": "var_list.py",
     "varRefreshCmd": "print(var_dic_list())"
    },
    "r": {
     "delete_cmd_postfix": ") ",
     "delete_cmd_prefix": "rm(",
     "library": "var_list.r",
     "varRefreshCmd": "cat(var_dic_list()) "
    }
   },
   "types_to_exclude": [
    "module",
    "function",
    "builtin_function_or_method",
    "instance",
    "_Feature"
   ],
   "window_display": false
  }
 },
 "nbformat": 4,
 "nbformat_minor": 5
}
