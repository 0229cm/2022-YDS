{
 "cells": [
  {
   "cell_type": "code",
   "execution_count": 12,
   "id": "6d72a64c",
   "metadata": {},
   "outputs": [],
   "source": [
    "import pandas as pd\n",
    "import numpy as np\n",
    "import matplotlib.pyplot as plt\n",
    "\n",
    "from sklearn.model_selection import train_test_split\n",
    "\n",
    "import tensorflow as tf\n",
    "from tensorflow.keras import layers\n",
    "from tensorflow.keras.models import Model\n",
    "from tensorflow.keras.layers import Input, Embedding, Dot, Add, Flatten\n",
    "\n",
    "# 딥러닝 layer 관련\n",
    "from tensorflow.keras.layers import Dense, Concatenate, Activation\n",
    "from tensorflow.keras.regularizers import l2\n",
    "from tensorflow.keras.optimizers import SGD, Adamax"
   ]
  },
  {
   "cell_type": "code",
   "execution_count": 13,
   "id": "a7191957",
   "metadata": {},
   "outputs": [
    {
     "name": "stdout",
     "output_type": "stream",
     "text": [
      "(100000, 4)\n"
     ]
    },
    {
     "data": {
      "text/html": [
       "<div>\n",
       "<style scoped>\n",
       "    .dataframe tbody tr th:only-of-type {\n",
       "        vertical-align: middle;\n",
       "    }\n",
       "\n",
       "    .dataframe tbody tr th {\n",
       "        vertical-align: top;\n",
       "    }\n",
       "\n",
       "    .dataframe thead th {\n",
       "        text-align: right;\n",
       "    }\n",
       "</style>\n",
       "<table border=\"1\" class=\"dataframe\">\n",
       "  <thead>\n",
       "    <tr style=\"text-align: right;\">\n",
       "      <th></th>\n",
       "      <th>user_id</th>\n",
       "      <th>movie_id</th>\n",
       "      <th>rating</th>\n",
       "      <th>timestamp</th>\n",
       "    </tr>\n",
       "  </thead>\n",
       "  <tbody>\n",
       "    <tr>\n",
       "      <th>0</th>\n",
       "      <td>196</td>\n",
       "      <td>242</td>\n",
       "      <td>3</td>\n",
       "      <td>881250949</td>\n",
       "    </tr>\n",
       "    <tr>\n",
       "      <th>1</th>\n",
       "      <td>186</td>\n",
       "      <td>302</td>\n",
       "      <td>3</td>\n",
       "      <td>891717742</td>\n",
       "    </tr>\n",
       "    <tr>\n",
       "      <th>2</th>\n",
       "      <td>22</td>\n",
       "      <td>377</td>\n",
       "      <td>1</td>\n",
       "      <td>878887116</td>\n",
       "    </tr>\n",
       "    <tr>\n",
       "      <th>3</th>\n",
       "      <td>244</td>\n",
       "      <td>51</td>\n",
       "      <td>2</td>\n",
       "      <td>880606923</td>\n",
       "    </tr>\n",
       "    <tr>\n",
       "      <th>4</th>\n",
       "      <td>166</td>\n",
       "      <td>346</td>\n",
       "      <td>1</td>\n",
       "      <td>886397596</td>\n",
       "    </tr>\n",
       "  </tbody>\n",
       "</table>\n",
       "</div>"
      ],
      "text/plain": [
       "   user_id  movie_id  rating  timestamp\n",
       "0      196       242       3  881250949\n",
       "1      186       302       3  891717742\n",
       "2       22       377       1  878887116\n",
       "3      244        51       2  880606923\n",
       "4      166       346       1  886397596"
      ]
     },
     "execution_count": 13,
     "metadata": {},
     "output_type": "execute_result"
    }
   ],
   "source": [
    "# DataFrame 형태로 데이터를 읽어온다.\n",
    "r_cols = ['user_id', 'movie_id', 'rating', 'timestamp']\n",
    "\n",
    "# 유저-영화 평점 데이터 \"u.data\"\n",
    "ratings = pd.read_csv('./u.data', \n",
    "                     names=r_cols,\n",
    "                      sep='\\t',\n",
    "                      encoding='latin-1'\n",
    "                     )\n",
    "print(ratings.shape)\n",
    "ratings.head()"
   ]
  },
  {
   "cell_type": "code",
   "execution_count": 14,
   "id": "f3c65680",
   "metadata": {},
   "outputs": [],
   "source": [
    "# 학습,테스트 구분하기\n",
    "ratings_train, ratings_test = train_test_split(ratings,\n",
    "                                              test_size=0.2,\n",
    "                                              shuffle=True,\n",
    "                                              random_state=2022)"
   ]
  },
  {
   "cell_type": "code",
   "execution_count": 15,
   "id": "68f8d43b",
   "metadata": {},
   "outputs": [],
   "source": [
    "# RMSE 함수 (keras에는 RMSE 메소드 없어서 만들어줘야 함)\n",
    "def RMSE(y_true, y_pred):\n",
    "    return tf.sqrt(tf.reduce_mean(tf.square(y_true - y_pred)))"
   ]
  },
  {
   "cell_type": "code",
   "execution_count": 16,
   "id": "cd4888e9",
   "metadata": {},
   "outputs": [],
   "source": [
    "# 잠재 요인의 수 \n",
    "K=200\n",
    "\n",
    "# 전체 평점 평균\n",
    "mu = ratings_train.rating.mean()\n",
    "\n",
    "# 사용자id, 영화id의 최대값을 구한다.\n",
    "# bias term의 크기 1을 고려하여 +1을 해준다.\n",
    "M = ratings.user_id.max() + 1\n",
    "N = ratings.movie_id.max() + 1"
   ]
  },
  {
   "cell_type": "code",
   "execution_count": 17,
   "id": "e157b05c",
   "metadata": {},
   "outputs": [
    {
     "name": "stdout",
     "output_type": "stream",
     "text": [
      "사용자 개수 max값: 944\n",
      "아이템 개수 max값: 1683\n"
     ]
    }
   ],
   "source": [
    "print('사용자 개수 max값:', M)\n",
    "print('아이템 개수 max값:', N)"
   ]
  },
  {
   "cell_type": "markdown",
   "id": "f9a81234",
   "metadata": {},
   "source": [
    "# 케라스 모델 생성"
   ]
  },
  {
   "cell_type": "code",
   "execution_count": 19,
   "id": "02fefc87",
   "metadata": {},
   "outputs": [],
   "source": [
    "user = Input(shape=(1, ))\n",
    "item = Input(shape=(1, ))\n",
    "\n",
    "# 행렬 P,Q 임베딩\n",
    "P_embedding = Embedding(M, K, embeddings_regularizer=l2())(user)\n",
    "Q_embedding = Embedding(N, K, embeddings_regularizer=l2())(item)\n",
    "\n",
    "# 사용자, 아이템 평가 경향도 임베딩\n",
    "user_bias = Embedding(M, 1, embeddings_regularizer=l2())(user)\n",
    "item_bias = Embedding(N, 1, embeddings_regularizer=l2())(item)"
   ]
  },
  {
   "cell_type": "code",
   "execution_count": 22,
   "id": "26481564",
   "metadata": {},
   "outputs": [],
   "source": [
    "# concatenate를 위해서는 1차원으로 Flatten해야 한다.\n",
    "P_embedding = Flatten()(P_embedding)\n",
    "Q_embedding = Flatten()(Q_embedding)\n",
    "\n",
    "user_bias = Flatten()(user_bias)\n",
    "item_bias = Flatten()(item_bias)\n",
    "\n",
    "R = Concatenate()([P_embedding, Q_embedding, user_bias, item_bias])"
   ]
  },
  {
   "cell_type": "code",
   "execution_count": 23,
   "id": "9add4fb0",
   "metadata": {},
   "outputs": [],
   "source": [
    "# layer 쌓기\n",
    "\n",
    "# 노드가 2048개인 layer 생성.\n",
    "# 활성화 함수는 'linear'\n",
    "R = Dense(2048)(R)\n",
    "R = Activation('linear')(R)\n",
    "\n",
    "# 노드가 256개인 layer 추가\n",
    "R = Dense(256)(R)\n",
    "R = Activation('linear')(R)\n",
    "\n",
    "# 노드가 1개인 dense layer(출력층) 한 개 추가\n",
    "R = Dense(1)(R)"
   ]
  },
  {
   "cell_type": "code",
   "execution_count": 24,
   "id": "2ccf9da2",
   "metadata": {
    "scrolled": false
   },
   "outputs": [
    {
     "name": "stdout",
     "output_type": "stream",
     "text": [
      "Model: \"model_1\"\n",
      "__________________________________________________________________________________________________\n",
      " Layer (type)                   Output Shape         Param #     Connected to                     \n",
      "==================================================================================================\n",
      " input_5 (InputLayer)           [(None, 1)]          0           []                               \n",
      "                                                                                                  \n",
      " input_6 (InputLayer)           [(None, 1)]          0           []                               \n",
      "                                                                                                  \n",
      " embedding_8 (Embedding)        (None, 1, 200)       188800      ['input_5[0][0]']                \n",
      "                                                                                                  \n",
      " embedding_9 (Embedding)        (None, 1, 200)       336600      ['input_6[0][0]']                \n",
      "                                                                                                  \n",
      " embedding_10 (Embedding)       (None, 1, 1)         944         ['input_5[0][0]']                \n",
      "                                                                                                  \n",
      " embedding_11 (Embedding)       (None, 1, 1)         1683        ['input_6[0][0]']                \n",
      "                                                                                                  \n",
      " flatten_4 (Flatten)            (None, 200)          0           ['embedding_8[0][0]']            \n",
      "                                                                                                  \n",
      " flatten_5 (Flatten)            (None, 200)          0           ['embedding_9[0][0]']            \n",
      "                                                                                                  \n",
      " flatten_6 (Flatten)            (None, 1)            0           ['embedding_10[0][0]']           \n",
      "                                                                                                  \n",
      " flatten_7 (Flatten)            (None, 1)            0           ['embedding_11[0][0]']           \n",
      "                                                                                                  \n",
      " flatten_8 (Flatten)            (None, 200)          0           ['flatten_4[0][0]']              \n",
      "                                                                                                  \n",
      " flatten_9 (Flatten)            (None, 200)          0           ['flatten_5[0][0]']              \n",
      "                                                                                                  \n",
      " flatten_10 (Flatten)           (None, 1)            0           ['flatten_6[0][0]']              \n",
      "                                                                                                  \n",
      " flatten_11 (Flatten)           (None, 1)            0           ['flatten_7[0][0]']              \n",
      "                                                                                                  \n",
      " flatten_12 (Flatten)           (None, 200)          0           ['flatten_8[0][0]']              \n",
      "                                                                                                  \n",
      " flatten_13 (Flatten)           (None, 200)          0           ['flatten_9[0][0]']              \n",
      "                                                                                                  \n",
      " flatten_14 (Flatten)           (None, 1)            0           ['flatten_10[0][0]']             \n",
      "                                                                                                  \n",
      " flatten_15 (Flatten)           (None, 1)            0           ['flatten_11[0][0]']             \n",
      "                                                                                                  \n",
      " concatenate_3 (Concatenate)    (None, 402)          0           ['flatten_12[0][0]',             \n",
      "                                                                  'flatten_13[0][0]',             \n",
      "                                                                  'flatten_14[0][0]',             \n",
      "                                                                  'flatten_15[0][0]']             \n",
      "                                                                                                  \n",
      " dense_3 (Dense)                (None, 2048)         825344      ['concatenate_3[0][0]']          \n",
      "                                                                                                  \n",
      " activation_2 (Activation)      (None, 2048)         0           ['dense_3[0][0]']                \n",
      "                                                                                                  \n",
      " dense_4 (Dense)                (None, 256)          524544      ['activation_2[0][0]']           \n",
      "                                                                                                  \n",
      " activation_3 (Activation)      (None, 256)          0           ['dense_4[0][0]']                \n",
      "                                                                                                  \n",
      " dense_5 (Dense)                (None, 1)            257         ['activation_3[0][0]']           \n",
      "                                                                                                  \n",
      "==================================================================================================\n",
      "Total params: 1,878,172\n",
      "Trainable params: 1,878,172\n",
      "Non-trainable params: 0\n",
      "__________________________________________________________________________________________________\n"
     ]
    }
   ],
   "source": [
    "model = Model(inputs=[user, item], outputs=R)\n",
    "\n",
    "model.compile(\n",
    "    loss = RMSE,\n",
    "    optimizer = SGD(),  # adam, adamax\n",
    "    metrics= [RMSE]\n",
    ")\n",
    "\n",
    "model.summary()\n",
    "# 사용자 수가 944, 잠재요인 수가 200 -> 944x200 = 188800\n",
    "# concatenate를 위해 flatten"
   ]
  },
  {
   "cell_type": "code",
   "execution_count": 25,
   "id": "5e8adbc0",
   "metadata": {},
   "outputs": [],
   "source": [
    "# 학습 데이터 정의\n",
    "train_user_ids = ratings_train.user_id.values, \n",
    "train_movie_ids = ratings_train.movie_id.values\n",
    "train_ratings = ratings_train.rating.values\n",
    "\n",
    "# 테스트 데이터 정의\n",
    "test_user_ids = ratings_test.user_id.values, \n",
    "test_movie_ids = ratings_test.movie_id.values\n",
    "test_ratings = ratings_test.rating.values"
   ]
  },
  {
   "cell_type": "code",
   "execution_count": 26,
   "id": "04bab380",
   "metadata": {
    "scrolled": true
   },
   "outputs": [
    {
     "name": "stdout",
     "output_type": "stream",
     "text": [
      "Epoch 1/65\n",
      "157/157 [==============================] - 5s 31ms/step - loss: 5.3984 - RMSE: 1.1254 - val_loss: 5.2611 - val_RMSE: 1.1195\n",
      "Epoch 2/65\n",
      "157/157 [==============================] - 4s 28ms/step - loss: 5.1366 - RMSE: 1.1236 - val_loss: 5.0075 - val_RMSE: 1.1177\n",
      "Epoch 3/65\n",
      "157/157 [==============================] - 4s 28ms/step - loss: 4.8909 - RMSE: 1.1223 - val_loss: 4.7696 - val_RMSE: 1.1164\n",
      "Epoch 4/65\n",
      "157/157 [==============================] - 5s 30ms/step - loss: 4.6601 - RMSE: 1.1214 - val_loss: 4.5463 - val_RMSE: 1.1153\n",
      "Epoch 5/65\n",
      "157/157 [==============================] - 5s 29ms/step - loss: 4.4431 - RMSE: 1.1189 - val_loss: 4.3358 - val_RMSE: 1.1132\n",
      "Epoch 6/65\n",
      "157/157 [==============================] - 5s 30ms/step - loss: 4.2393 - RMSE: 1.1169 - val_loss: 4.1383 - val_RMSE: 1.1115\n",
      "Epoch 7/65\n",
      "157/157 [==============================] - 5s 30ms/step - loss: 4.0478 - RMSE: 1.1154 - val_loss: 3.9528 - val_RMSE: 1.1098\n",
      "Epoch 8/65\n",
      "157/157 [==============================] - 5s 30ms/step - loss: 3.8677 - RMSE: 1.1138 - val_loss: 3.7793 - val_RMSE: 1.1090\n",
      "Epoch 9/65\n",
      "157/157 [==============================] - 5s 30ms/step - loss: 3.6982 - RMSE: 1.1106 - val_loss: 3.6144 - val_RMSE: 1.1060\n",
      "Epoch 10/65\n",
      "157/157 [==============================] - 5s 33ms/step - loss: 3.5388 - RMSE: 1.1098 - val_loss: 3.4598 - val_RMSE: 1.1036\n",
      "Epoch 11/65\n",
      "157/157 [==============================] - 5s 31ms/step - loss: 3.3887 - RMSE: 1.1061 - val_loss: 3.3139 - val_RMSE: 1.1004\n",
      "Epoch 12/65\n",
      "157/157 [==============================] - 5s 29ms/step - loss: 3.2471 - RMSE: 1.1030 - val_loss: 3.1770 - val_RMSE: 1.0976\n",
      "Epoch 13/65\n",
      "157/157 [==============================] - 5s 29ms/step - loss: 3.1135 - RMSE: 1.0993 - val_loss: 3.0481 - val_RMSE: 1.0946\n",
      "Epoch 14/65\n",
      "157/157 [==============================] - 5s 32ms/step - loss: 2.9872 - RMSE: 1.0945 - val_loss: 2.9247 - val_RMSE: 1.0891\n",
      "Epoch 15/65\n",
      "157/157 [==============================] - 5s 29ms/step - loss: 2.8678 - RMSE: 1.0897 - val_loss: 2.8089 - val_RMSE: 1.0841\n",
      "Epoch 16/65\n",
      "157/157 [==============================] - 5s 29ms/step - loss: 2.7547 - RMSE: 1.0838 - val_loss: 2.6995 - val_RMSE: 1.0787\n",
      "Epoch 17/65\n",
      "157/157 [==============================] - 5s 30ms/step - loss: 2.6475 - RMSE: 1.0774 - val_loss: 2.5950 - val_RMSE: 1.0716\n",
      "Epoch 18/65\n",
      "157/157 [==============================] - 5s 31ms/step - loss: 2.5455 - RMSE: 1.0697 - val_loss: 2.4964 - val_RMSE: 1.0645\n",
      "Epoch 19/65\n",
      "157/157 [==============================] - 5s 31ms/step - loss: 2.4483 - RMSE: 1.0604 - val_loss: 2.4029 - val_RMSE: 1.0568\n",
      "Epoch 20/65\n",
      "157/157 [==============================] - 5s 31ms/step - loss: 2.3561 - RMSE: 1.0516 - val_loss: 2.3136 - val_RMSE: 1.0478\n",
      "Epoch 21/65\n",
      "157/157 [==============================] - 5s 30ms/step - loss: 2.2683 - RMSE: 1.0407 - val_loss: 2.2293 - val_RMSE: 1.0390\n",
      "Epoch 22/65\n",
      "157/157 [==============================] - 4s 28ms/step - loss: 2.1851 - RMSE: 1.0305 - val_loss: 2.1479 - val_RMSE: 1.0283\n",
      "Epoch 23/65\n",
      "157/157 [==============================] - 5s 31ms/step - loss: 2.1064 - RMSE: 1.0207 - val_loss: 2.0729 - val_RMSE: 1.0199\n",
      "Epoch 24/65\n",
      "157/157 [==============================] - 4s 29ms/step - loss: 2.0322 - RMSE: 1.0107 - val_loss: 2.0021 - val_RMSE: 1.0116\n",
      "Epoch 25/65\n",
      "157/157 [==============================] - 5s 29ms/step - loss: 1.9622 - RMSE: 1.0006 - val_loss: 1.9343 - val_RMSE: 1.0023\n",
      "Epoch 26/65\n",
      "157/157 [==============================] - 5s 30ms/step - loss: 1.8968 - RMSE: 0.9914 - val_loss: 1.8718 - val_RMSE: 0.9949\n",
      "Epoch 27/65\n",
      "157/157 [==============================] - 5s 31ms/step - loss: 1.8354 - RMSE: 0.9834 - val_loss: 1.8138 - val_RMSE: 0.9887\n",
      "Epoch 28/65\n",
      "157/157 [==============================] - 5s 32ms/step - loss: 1.7781 - RMSE: 0.9768 - val_loss: 1.7586 - val_RMSE: 0.9824\n",
      "Epoch 29/65\n",
      "157/157 [==============================] - 5s 31ms/step - loss: 1.7246 - RMSE: 0.9702 - val_loss: 1.7093 - val_RMSE: 0.9790\n",
      "Epoch 30/65\n",
      "157/157 [==============================] - 5s 30ms/step - loss: 1.6747 - RMSE: 0.9651 - val_loss: 1.6609 - val_RMSE: 0.9736\n",
      "Epoch 31/65\n",
      "157/157 [==============================] - 4s 28ms/step - loss: 1.6278 - RMSE: 0.9593 - val_loss: 1.6156 - val_RMSE: 0.9688\n",
      "Epoch 32/65\n",
      "157/157 [==============================] - 5s 30ms/step - loss: 1.5841 - RMSE: 0.9558 - val_loss: 1.5739 - val_RMSE: 0.9652\n",
      "Epoch 33/65\n",
      "157/157 [==============================] - 5s 29ms/step - loss: 1.5434 - RMSE: 0.9509 - val_loss: 1.5359 - val_RMSE: 0.9630\n",
      "Epoch 34/65\n",
      "157/157 [==============================] - 5s 29ms/step - loss: 1.5053 - RMSE: 0.9478 - val_loss: 1.4987 - val_RMSE: 0.9596\n",
      "Epoch 35/65\n",
      "157/157 [==============================] - 5s 30ms/step - loss: 1.4693 - RMSE: 0.9444 - val_loss: 1.4658 - val_RMSE: 0.9586\n",
      "Epoch 36/65\n",
      "157/157 [==============================] - 5s 30ms/step - loss: 1.4358 - RMSE: 0.9423 - val_loss: 1.4357 - val_RMSE: 0.9583\n",
      "Epoch 37/65\n",
      "157/157 [==============================] - 5s 31ms/step - loss: 1.4045 - RMSE: 0.9396 - val_loss: 1.4051 - val_RMSE: 0.9557\n",
      "Epoch 38/65\n",
      "157/157 [==============================] - 4s 28ms/step - loss: 1.3752 - RMSE: 0.9375 - val_loss: 1.3774 - val_RMSE: 0.9544\n",
      "Epoch 39/65\n",
      "157/157 [==============================] - 5s 31ms/step - loss: 1.3477 - RMSE: 0.9353 - val_loss: 1.3523 - val_RMSE: 0.9541\n",
      "Epoch 40/65\n",
      "157/157 [==============================] - 5s 31ms/step - loss: 1.3219 - RMSE: 0.9334 - val_loss: 1.3281 - val_RMSE: 0.9532\n",
      "Epoch 41/65\n",
      "157/157 [==============================] - 5s 32ms/step - loss: 1.2979 - RMSE: 0.9315 - val_loss: 1.3026 - val_RMSE: 0.9495\n",
      "Epoch 42/65\n",
      "157/157 [==============================] - 5s 32ms/step - loss: 1.2752 - RMSE: 0.9300 - val_loss: 1.2801 - val_RMSE: 0.9476\n",
      "Epoch 43/65\n",
      "157/157 [==============================] - 5s 31ms/step - loss: 1.2538 - RMSE: 0.9290 - val_loss: 1.2599 - val_RMSE: 0.9468\n",
      "Epoch 44/65\n",
      "157/157 [==============================] - 5s 30ms/step - loss: 1.2342 - RMSE: 0.9280 - val_loss: 1.2415 - val_RMSE: 0.9464\n",
      "Epoch 45/65\n",
      "157/157 [==============================] - 5s 29ms/step - loss: 1.2155 - RMSE: 0.9269 - val_loss: 1.2238 - val_RMSE: 0.9458\n",
      "Epoch 46/65\n",
      "157/157 [==============================] - 5s 30ms/step - loss: 1.1982 - RMSE: 0.9261 - val_loss: 1.2086 - val_RMSE: 0.9468\n",
      "Epoch 47/65\n",
      "157/157 [==============================] - 5s 32ms/step - loss: 1.1818 - RMSE: 0.9252 - val_loss: 1.1958 - val_RMSE: 0.9487\n",
      "Epoch 48/65\n",
      "157/157 [==============================] - 5s 35ms/step - loss: 1.1666 - RMSE: 0.9247 - val_loss: 1.1765 - val_RMSE: 0.9438\n",
      "Epoch 49/65\n",
      "157/157 [==============================] - 6s 36ms/step - loss: 1.1521 - RMSE: 0.9239 - val_loss: 1.1628 - val_RMSE: 0.9437\n",
      "Epoch 50/65\n",
      "157/157 [==============================] - 6s 37ms/step - loss: 1.1386 - RMSE: 0.9235 - val_loss: 1.1502 - val_RMSE: 0.9435\n",
      "Epoch 51/65\n",
      "157/157 [==============================] - 5s 35ms/step - loss: 1.1259 - RMSE: 0.9233 - val_loss: 1.1380 - val_RMSE: 0.9432\n",
      "Epoch 52/65\n",
      "157/157 [==============================] - 6s 36ms/step - loss: 1.1142 - RMSE: 0.9222 - val_loss: 1.1264 - val_RMSE: 0.9426\n",
      "Epoch 53/65\n",
      "157/157 [==============================] - 6s 40ms/step - loss: 1.1030 - RMSE: 0.9227 - val_loss: 1.1159 - val_RMSE: 0.9424\n",
      "Epoch 54/65\n",
      "157/157 [==============================] - 6s 37ms/step - loss: 1.0926 - RMSE: 0.9226 - val_loss: 1.1088 - val_RMSE: 0.9453\n",
      "Epoch 55/65\n",
      "157/157 [==============================] - 6s 37ms/step - loss: 1.0829 - RMSE: 0.9218 - val_loss: 1.0964 - val_RMSE: 0.9419\n",
      "Epoch 56/65\n",
      "157/157 [==============================] - 6s 35ms/step - loss: 1.0735 - RMSE: 0.9215 - val_loss: 1.0927 - val_RMSE: 0.9471\n",
      "Epoch 57/65\n",
      "157/157 [==============================] - 6s 35ms/step - loss: 1.0648 - RMSE: 0.9209 - val_loss: 1.0792 - val_RMSE: 0.9416\n",
      "Epoch 58/65\n",
      "157/157 [==============================] - 5s 33ms/step - loss: 1.0566 - RMSE: 0.9207 - val_loss: 1.0726 - val_RMSE: 0.9427\n",
      "Epoch 59/65\n",
      "157/157 [==============================] - 6s 37ms/step - loss: 1.0493 - RMSE: 0.9209 - val_loss: 1.0702 - val_RMSE: 0.9478\n",
      "Epoch 60/65\n",
      "157/157 [==============================] - 6s 40ms/step - loss: 1.0421 - RMSE: 0.9211 - val_loss: 1.0574 - val_RMSE: 0.9413\n",
      "Epoch 61/65\n"
     ]
    },
    {
     "name": "stdout",
     "output_type": "stream",
     "text": [
      "157/157 [==============================] - 6s 36ms/step - loss: 1.0356 - RMSE: 0.9207 - val_loss: 1.0516 - val_RMSE: 0.9421\n",
      "Epoch 62/65\n",
      "157/157 [==============================] - 6s 35ms/step - loss: 1.0290 - RMSE: 0.9205 - val_loss: 1.0454 - val_RMSE: 0.9419\n",
      "Epoch 63/65\n",
      "157/157 [==============================] - 6s 36ms/step - loss: 1.0230 - RMSE: 0.9203 - val_loss: 1.0449 - val_RMSE: 0.9468\n",
      "Epoch 64/65\n",
      "157/157 [==============================] - 6s 37ms/step - loss: 1.0180 - RMSE: 0.9209 - val_loss: 1.0358 - val_RMSE: 0.9431\n",
      "Epoch 65/65\n",
      "157/157 [==============================] - 5s 35ms/step - loss: 1.0126 - RMSE: 0.9207 - val_loss: 1.0309 - val_RMSE: 0.9433\n"
     ]
    }
   ],
   "source": [
    "result = model.fit(\n",
    "    x = [train_user_ids, train_movie_ids], \n",
    "    y = train_ratings - mu,\n",
    "    epochs = 65,\n",
    "    batch_size = 512,\n",
    "    validation_data = (\n",
    "        [test_user_ids, test_movie_ids], \n",
    "        test_ratings - mu\n",
    "    )\n",
    ")"
   ]
  },
  {
   "cell_type": "code",
   "execution_count": 11,
   "id": "592a3fd4",
   "metadata": {},
   "outputs": [
    {
     "data": {
      "image/png": "[encoded data removed]",
      "text/plain": [
       "<Figure size 720x720 with 1 Axes>"
      ]
     },
     "metadata": {
      "needs_background": "light"
     },
     "output_type": "display_data"
    }
   ],
   "source": [
    "# 학습 과정 시각화\n",
    "plt.figure(figsize=(10, 10))\n",
    "plt.plot(result.history['RMSE'], label=\"Train RMSE\")\n",
    "plt.plot(result.history['val_RMSE'], label=\"Test RMSE\")\n",
    "plt.legend()\n",
    "plt.show()"
   ]
  },
  {
   "cell_type": "raw",
   "id": "a0ba6609",
   "metadata": {},
   "source": [
    "결론 : \n",
    "MF에 신경망을 적용하였더니 RMSE가 향상되었다.\n",
    "RMSE를 더 향상시키려면 다양한 layer와 학습 하이퍼 파라미터들을 조정해봐야 함.\n",
    "\n",
    "MF : 데이터가 연속적인 경우 성능 좋은 경향.\n",
    "신경망 : 데이터가 binary하거나 sparse한 경우 성능 좋은 경향."
   ]
  },
  {
   "cell_type": "code",
   "execution_count": null,
   "id": "1d8df869",
   "metadata": {},
   "outputs": [],
   "source": []
  },
  {
   "cell_type": "code",
   "execution_count": null,
   "id": "2fa198d6",
   "metadata": {},
   "outputs": [],
   "source": []
  },
  {
   "cell_type": "code",
   "execution_count": null,
   "id": "5d72b6e6",
   "metadata": {},
   "outputs": [],
   "source": []
  }
 ],
 "metadata": {
  "kernelspec": {
   "display_name": "Python 3",
   "language": "python",
   "name": "python3"
  },
  "language_info": {
   "codemirror_mode": {
    "name": "ipython",
    "version": 3
   },
   "file_extension": ".py",
   "mimetype": "text/x-python",
   "name": "python",
   "nbconvert_exporter": "python",
   "pygments_lexer": "ipython3",
   "version": "3.8.8"
  },
  "varInspector": {
   "cols": {
    "lenName": 16,
    "lenType": 16,
    "lenVar": 40
   },
   "kernels_config": {
    "python": {
     "delete_cmd_postfix": "",
     "delete_cmd_prefix": "del ",
     "library": "var_list.py",
     "varRefreshCmd": "print(var_dic_list())"
    },
    "r": {
     "delete_cmd_postfix": ") ",
     "delete_cmd_prefix": "rm(",
     "library": "var_list.r",
     "varRefreshCmd": "cat(var_dic_list()) "
    }
   },
   "types_to_exclude": [
    "module",
    "function",
    "builtin_function_or_method",
    "instance",
    "_Feature"
   ],
   "window_display": false
  }
 },
 "nbformat": 4,
 "nbformat_minor": 5
}
